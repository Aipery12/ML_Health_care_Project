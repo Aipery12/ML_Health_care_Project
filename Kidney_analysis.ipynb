{
 "cells": [
  {
   "cell_type": "code",
   "execution_count": 9,
   "id": "41c7e553-28b8-4350-bada-5e479e9bac7b",
   "metadata": {},
   "outputs": [],
   "source": [
    "# Importing necessary imports\n",
    "import os\n",
    "import numpy as np\n",
    "import pandas as pd\n",
    "import seaborn as sns\n",
    "import matplotlib.pyplot as plt\n",
    "import warnings\n",
    "warnings.filterwarnings(\"ignore\")\n",
    "from sklearn.preprocessing import MinMaxScaler\n",
    "from sklearn.model_selection import train_test_split\n",
    "sns.set()"
   ]
  },
  {
   "cell_type": "code",
   "execution_count": 5,
   "id": "91b7fac5-dd79-424f-a28f-372f0707030c",
   "metadata": {},
   "outputs": [
    {
     "name": "stdout",
     "output_type": "stream",
     "text": [
      "Requirement already satisfied: lux in c:\\users\\tilek\\anaconda3\\lib\\site-packages (0.5.1)\n",
      "Requirement already satisfied: lux-api in c:\\users\\tilek\\anaconda3\\lib\\site-packages (from lux) (0.5.1)\n",
      "Requirement already satisfied: lux-widget in c:\\users\\tilek\\anaconda3\\lib\\site-packages (from lux) (0.1.11)\n",
      "Requirement already satisfied: scipy>=1.3.3 in c:\\users\\tilek\\anaconda3\\lib\\site-packages (from lux-api->lux) (1.13.1)\n",
      "Requirement already satisfied: altair>=4.0.0 in c:\\users\\tilek\\anaconda3\\lib\\site-packages (from lux-api->lux) (5.0.1)\n",
      "Requirement already satisfied: numpy>=1.16.5 in c:\\users\\tilek\\anaconda3\\lib\\site-packages (from lux-api->lux) (1.26.4)\n",
      "Requirement already satisfied: pandas in c:\\users\\tilek\\anaconda3\\lib\\site-packages (from lux-api->lux) (2.2.2)\n",
      "Requirement already satisfied: scikit-learn>=0.22 in c:\\users\\tilek\\anaconda3\\lib\\site-packages (from lux-api->lux) (1.5.1)\n",
      "Requirement already satisfied: matplotlib>=3.0.0 in c:\\users\\tilek\\anaconda3\\lib\\site-packages (from lux-api->lux) (3.9.2)\n",
      "Requirement already satisfied: autopep8>=1.5 in c:\\users\\tilek\\anaconda3\\lib\\site-packages (from lux-api->lux) (2.0.4)\n",
      "Requirement already satisfied: iso3166 in c:\\users\\tilek\\anaconda3\\lib\\site-packages (from lux-api->lux) (2.1.1)\n",
      "Requirement already satisfied: psutil>=5.9.0 in c:\\users\\tilek\\anaconda3\\lib\\site-packages (from lux-api->lux) (5.9.0)\n",
      "Requirement already satisfied: sh in c:\\users\\tilek\\anaconda3\\lib\\site-packages (from lux-api->lux) (2.2.2)\n",
      "Requirement already satisfied: notebook>=4.0.0 in c:\\users\\tilek\\anaconda3\\lib\\site-packages (from lux-widget->lux) (7.2.2)\n",
      "Requirement already satisfied: ipywidgets>=7.5.0 in c:\\users\\tilek\\anaconda3\\lib\\site-packages (from lux-widget->lux) (7.8.1)\n",
      "Requirement already satisfied: jinja2 in c:\\users\\tilek\\anaconda3\\lib\\site-packages (from altair>=4.0.0->lux-api->lux) (3.1.4)\n",
      "Requirement already satisfied: jsonschema>=3.0 in c:\\users\\tilek\\anaconda3\\lib\\site-packages (from altair>=4.0.0->lux-api->lux) (4.23.0)\n",
      "Requirement already satisfied: toolz in c:\\users\\tilek\\anaconda3\\lib\\site-packages (from altair>=4.0.0->lux-api->lux) (0.12.0)\n",
      "Requirement already satisfied: pycodestyle>=2.10.0 in c:\\users\\tilek\\anaconda3\\lib\\site-packages (from autopep8>=1.5->lux-api->lux) (2.11.1)\n",
      "Requirement already satisfied: comm>=0.1.3 in c:\\users\\tilek\\anaconda3\\lib\\site-packages (from ipywidgets>=7.5.0->lux-widget->lux) (0.2.1)\n",
      "Requirement already satisfied: ipython-genutils~=0.2.0 in c:\\users\\tilek\\anaconda3\\lib\\site-packages (from ipywidgets>=7.5.0->lux-widget->lux) (0.2.0)\n",
      "Requirement already satisfied: traitlets>=4.3.1 in c:\\users\\tilek\\anaconda3\\lib\\site-packages (from ipywidgets>=7.5.0->lux-widget->lux) (5.14.3)\n",
      "Requirement already satisfied: widgetsnbextension~=3.6.6 in c:\\users\\tilek\\anaconda3\\lib\\site-packages (from ipywidgets>=7.5.0->lux-widget->lux) (3.6.6)\n",
      "Requirement already satisfied: ipython>=4.0.0 in c:\\users\\tilek\\anaconda3\\lib\\site-packages (from ipywidgets>=7.5.0->lux-widget->lux) (8.27.0)\n",
      "Requirement already satisfied: jupyterlab-widgets<3,>=1.0.0 in c:\\users\\tilek\\anaconda3\\lib\\site-packages (from ipywidgets>=7.5.0->lux-widget->lux) (1.0.0)\n",
      "Requirement already satisfied: contourpy>=1.0.1 in c:\\users\\tilek\\anaconda3\\lib\\site-packages (from matplotlib>=3.0.0->lux-api->lux) (1.2.0)\n",
      "Requirement already satisfied: cycler>=0.10 in c:\\users\\tilek\\anaconda3\\lib\\site-packages (from matplotlib>=3.0.0->lux-api->lux) (0.11.0)\n",
      "Requirement already satisfied: fonttools>=4.22.0 in c:\\users\\tilek\\anaconda3\\lib\\site-packages (from matplotlib>=3.0.0->lux-api->lux) (4.51.0)\n",
      "Requirement already satisfied: kiwisolver>=1.3.1 in c:\\users\\tilek\\anaconda3\\lib\\site-packages (from matplotlib>=3.0.0->lux-api->lux) (1.4.4)\n",
      "Requirement already satisfied: packaging>=20.0 in c:\\users\\tilek\\anaconda3\\lib\\site-packages (from matplotlib>=3.0.0->lux-api->lux) (24.1)\n",
      "Requirement already satisfied: pillow>=8 in c:\\users\\tilek\\anaconda3\\lib\\site-packages (from matplotlib>=3.0.0->lux-api->lux) (10.4.0)\n",
      "Requirement already satisfied: pyparsing>=2.3.1 in c:\\users\\tilek\\anaconda3\\lib\\site-packages (from matplotlib>=3.0.0->lux-api->lux) (3.1.2)\n",
      "Requirement already satisfied: python-dateutil>=2.7 in c:\\users\\tilek\\anaconda3\\lib\\site-packages (from matplotlib>=3.0.0->lux-api->lux) (2.9.0.post0)\n",
      "Requirement already satisfied: jupyter-server<3,>=2.4.0 in c:\\users\\tilek\\anaconda3\\lib\\site-packages (from notebook>=4.0.0->lux-widget->lux) (2.14.1)\n",
      "Requirement already satisfied: jupyterlab-server<3,>=2.27.1 in c:\\users\\tilek\\anaconda3\\lib\\site-packages (from notebook>=4.0.0->lux-widget->lux) (2.27.3)\n",
      "Requirement already satisfied: jupyterlab<4.3,>=4.2.0 in c:\\users\\tilek\\anaconda3\\lib\\site-packages (from notebook>=4.0.0->lux-widget->lux) (4.2.5)\n",
      "Requirement already satisfied: notebook-shim<0.3,>=0.2 in c:\\users\\tilek\\anaconda3\\lib\\site-packages (from notebook>=4.0.0->lux-widget->lux) (0.2.3)\n",
      "Requirement already satisfied: tornado>=6.2.0 in c:\\users\\tilek\\anaconda3\\lib\\site-packages (from notebook>=4.0.0->lux-widget->lux) (6.4.1)\n",
      "Requirement already satisfied: pytz>=2020.1 in c:\\users\\tilek\\anaconda3\\lib\\site-packages (from pandas->lux-api->lux) (2024.1)\n",
      "Requirement already satisfied: tzdata>=2022.7 in c:\\users\\tilek\\anaconda3\\lib\\site-packages (from pandas->lux-api->lux) (2023.3)\n",
      "Requirement already satisfied: joblib>=1.2.0 in c:\\users\\tilek\\anaconda3\\lib\\site-packages (from scikit-learn>=0.22->lux-api->lux) (1.4.2)\n",
      "Requirement already satisfied: threadpoolctl>=3.1.0 in c:\\users\\tilek\\anaconda3\\lib\\site-packages (from scikit-learn>=0.22->lux-api->lux) (3.5.0)\n",
      "Requirement already satisfied: decorator in c:\\users\\tilek\\anaconda3\\lib\\site-packages (from ipython>=4.0.0->ipywidgets>=7.5.0->lux-widget->lux) (5.1.1)\n",
      "Requirement already satisfied: jedi>=0.16 in c:\\users\\tilek\\anaconda3\\lib\\site-packages (from ipython>=4.0.0->ipywidgets>=7.5.0->lux-widget->lux) (0.19.1)\n",
      "Requirement already satisfied: matplotlib-inline in c:\\users\\tilek\\anaconda3\\lib\\site-packages (from ipython>=4.0.0->ipywidgets>=7.5.0->lux-widget->lux) (0.1.6)\n",
      "Requirement already satisfied: prompt-toolkit<3.1.0,>=3.0.41 in c:\\users\\tilek\\anaconda3\\lib\\site-packages (from ipython>=4.0.0->ipywidgets>=7.5.0->lux-widget->lux) (3.0.43)\n",
      "Requirement already satisfied: pygments>=2.4.0 in c:\\users\\tilek\\anaconda3\\lib\\site-packages (from ipython>=4.0.0->ipywidgets>=7.5.0->lux-widget->lux) (2.15.1)\n",
      "Requirement already satisfied: stack-data in c:\\users\\tilek\\anaconda3\\lib\\site-packages (from ipython>=4.0.0->ipywidgets>=7.5.0->lux-widget->lux) (0.2.0)\n",
      "Requirement already satisfied: colorama in c:\\users\\tilek\\anaconda3\\lib\\site-packages (from ipython>=4.0.0->ipywidgets>=7.5.0->lux-widget->lux) (0.4.6)\n",
      "Requirement already satisfied: attrs>=22.2.0 in c:\\users\\tilek\\anaconda3\\lib\\site-packages (from jsonschema>=3.0->altair>=4.0.0->lux-api->lux) (23.1.0)\n",
      "Requirement already satisfied: jsonschema-specifications>=2023.03.6 in c:\\users\\tilek\\anaconda3\\lib\\site-packages (from jsonschema>=3.0->altair>=4.0.0->lux-api->lux) (2023.7.1)\n",
      "Requirement already satisfied: referencing>=0.28.4 in c:\\users\\tilek\\anaconda3\\lib\\site-packages (from jsonschema>=3.0->altair>=4.0.0->lux-api->lux) (0.30.2)\n",
      "Requirement already satisfied: rpds-py>=0.7.1 in c:\\users\\tilek\\anaconda3\\lib\\site-packages (from jsonschema>=3.0->altair>=4.0.0->lux-api->lux) (0.10.6)\n",
      "Requirement already satisfied: anyio>=3.1.0 in c:\\users\\tilek\\anaconda3\\lib\\site-packages (from jupyter-server<3,>=2.4.0->notebook>=4.0.0->lux-widget->lux) (4.2.0)\n",
      "Requirement already satisfied: argon2-cffi>=21.1 in c:\\users\\tilek\\anaconda3\\lib\\site-packages (from jupyter-server<3,>=2.4.0->notebook>=4.0.0->lux-widget->lux) (21.3.0)\n",
      "Requirement already satisfied: jupyter-client>=7.4.4 in c:\\users\\tilek\\anaconda3\\lib\\site-packages (from jupyter-server<3,>=2.4.0->notebook>=4.0.0->lux-widget->lux) (8.6.0)\n",
      "Requirement already satisfied: jupyter-core!=5.0.*,>=4.12 in c:\\users\\tilek\\anaconda3\\lib\\site-packages (from jupyter-server<3,>=2.4.0->notebook>=4.0.0->lux-widget->lux) (5.7.2)\n",
      "Requirement already satisfied: jupyter-events>=0.9.0 in c:\\users\\tilek\\anaconda3\\lib\\site-packages (from jupyter-server<3,>=2.4.0->notebook>=4.0.0->lux-widget->lux) (0.10.0)\n",
      "Requirement already satisfied: jupyter-server-terminals>=0.4.4 in c:\\users\\tilek\\anaconda3\\lib\\site-packages (from jupyter-server<3,>=2.4.0->notebook>=4.0.0->lux-widget->lux) (0.4.4)\n",
      "Requirement already satisfied: nbconvert>=6.4.4 in c:\\users\\tilek\\anaconda3\\lib\\site-packages (from jupyter-server<3,>=2.4.0->notebook>=4.0.0->lux-widget->lux) (7.16.4)\n",
      "Requirement already satisfied: nbformat>=5.3.0 in c:\\users\\tilek\\anaconda3\\lib\\site-packages (from jupyter-server<3,>=2.4.0->notebook>=4.0.0->lux-widget->lux) (5.10.4)\n",
      "Requirement already satisfied: overrides>=5.0 in c:\\users\\tilek\\anaconda3\\lib\\site-packages (from jupyter-server<3,>=2.4.0->notebook>=4.0.0->lux-widget->lux) (7.4.0)\n",
      "Requirement already satisfied: prometheus-client>=0.9 in c:\\users\\tilek\\anaconda3\\lib\\site-packages (from jupyter-server<3,>=2.4.0->notebook>=4.0.0->lux-widget->lux) (0.14.1)\n",
      "Requirement already satisfied: pywinpty>=2.0.1 in c:\\users\\tilek\\anaconda3\\lib\\site-packages (from jupyter-server<3,>=2.4.0->notebook>=4.0.0->lux-widget->lux) (2.0.10)\n",
      "Requirement already satisfied: pyzmq>=24 in c:\\users\\tilek\\anaconda3\\lib\\site-packages (from jupyter-server<3,>=2.4.0->notebook>=4.0.0->lux-widget->lux) (25.1.2)\n",
      "Requirement already satisfied: send2trash>=1.8.2 in c:\\users\\tilek\\anaconda3\\lib\\site-packages (from jupyter-server<3,>=2.4.0->notebook>=4.0.0->lux-widget->lux) (1.8.2)\n",
      "Requirement already satisfied: terminado>=0.8.3 in c:\\users\\tilek\\anaconda3\\lib\\site-packages (from jupyter-server<3,>=2.4.0->notebook>=4.0.0->lux-widget->lux) (0.17.1)\n",
      "Requirement already satisfied: websocket-client>=1.7 in c:\\users\\tilek\\anaconda3\\lib\\site-packages (from jupyter-server<3,>=2.4.0->notebook>=4.0.0->lux-widget->lux) (1.8.0)\n",
      "Requirement already satisfied: MarkupSafe>=2.0 in c:\\users\\tilek\\anaconda3\\lib\\site-packages (from jinja2->altair>=4.0.0->lux-api->lux) (2.1.3)\n",
      "Requirement already satisfied: async-lru>=1.0.0 in c:\\users\\tilek\\anaconda3\\lib\\site-packages (from jupyterlab<4.3,>=4.2.0->notebook>=4.0.0->lux-widget->lux) (2.0.4)\n",
      "Requirement already satisfied: httpx>=0.25.0 in c:\\users\\tilek\\anaconda3\\lib\\site-packages (from jupyterlab<4.3,>=4.2.0->notebook>=4.0.0->lux-widget->lux) (0.27.0)\n",
      "Requirement already satisfied: ipykernel>=6.5.0 in c:\\users\\tilek\\anaconda3\\lib\\site-packages (from jupyterlab<4.3,>=4.2.0->notebook>=4.0.0->lux-widget->lux) (6.28.0)\n",
      "Requirement already satisfied: jupyter-lsp>=2.0.0 in c:\\users\\tilek\\anaconda3\\lib\\site-packages (from jupyterlab<4.3,>=4.2.0->notebook>=4.0.0->lux-widget->lux) (2.2.0)\n",
      "Requirement already satisfied: setuptools>=40.1.0 in c:\\users\\tilek\\anaconda3\\lib\\site-packages (from jupyterlab<4.3,>=4.2.0->notebook>=4.0.0->lux-widget->lux) (75.1.0)\n",
      "Requirement already satisfied: babel>=2.10 in c:\\users\\tilek\\anaconda3\\lib\\site-packages (from jupyterlab-server<3,>=2.27.1->notebook>=4.0.0->lux-widget->lux) (2.11.0)\n",
      "Requirement already satisfied: json5>=0.9.0 in c:\\users\\tilek\\anaconda3\\lib\\site-packages (from jupyterlab-server<3,>=2.27.1->notebook>=4.0.0->lux-widget->lux) (0.9.6)\n",
      "Requirement already satisfied: requests>=2.31 in c:\\users\\tilek\\anaconda3\\lib\\site-packages (from jupyterlab-server<3,>=2.27.1->notebook>=4.0.0->lux-widget->lux) (2.32.3)\n",
      "Requirement already satisfied: six>=1.5 in c:\\users\\tilek\\anaconda3\\lib\\site-packages (from python-dateutil>=2.7->matplotlib>=3.0.0->lux-api->lux) (1.16.0)\n",
      "Requirement already satisfied: idna>=2.8 in c:\\users\\tilek\\anaconda3\\lib\\site-packages (from anyio>=3.1.0->jupyter-server<3,>=2.4.0->notebook>=4.0.0->lux-widget->lux) (3.7)\n",
      "Requirement already satisfied: sniffio>=1.1 in c:\\users\\tilek\\anaconda3\\lib\\site-packages (from anyio>=3.1.0->jupyter-server<3,>=2.4.0->notebook>=4.0.0->lux-widget->lux) (1.3.0)\n",
      "Requirement already satisfied: argon2-cffi-bindings in c:\\users\\tilek\\anaconda3\\lib\\site-packages (from argon2-cffi>=21.1->jupyter-server<3,>=2.4.0->notebook>=4.0.0->lux-widget->lux) (21.2.0)\n",
      "Requirement already satisfied: certifi in c:\\users\\tilek\\anaconda3\\lib\\site-packages (from httpx>=0.25.0->jupyterlab<4.3,>=4.2.0->notebook>=4.0.0->lux-widget->lux) (2025.4.26)\n",
      "Requirement already satisfied: httpcore==1.* in c:\\users\\tilek\\anaconda3\\lib\\site-packages (from httpx>=0.25.0->jupyterlab<4.3,>=4.2.0->notebook>=4.0.0->lux-widget->lux) (1.0.2)\n",
      "Requirement already satisfied: h11<0.15,>=0.13 in c:\\users\\tilek\\anaconda3\\lib\\site-packages (from httpcore==1.*->httpx>=0.25.0->jupyterlab<4.3,>=4.2.0->notebook>=4.0.0->lux-widget->lux) (0.14.0)\n",
      "Requirement already satisfied: debugpy>=1.6.5 in c:\\users\\tilek\\anaconda3\\lib\\site-packages (from ipykernel>=6.5.0->jupyterlab<4.3,>=4.2.0->notebook>=4.0.0->lux-widget->lux) (1.6.7)\n",
      "Requirement already satisfied: nest-asyncio in c:\\users\\tilek\\anaconda3\\lib\\site-packages (from ipykernel>=6.5.0->jupyterlab<4.3,>=4.2.0->notebook>=4.0.0->lux-widget->lux) (1.6.0)\n",
      "Requirement already satisfied: parso<0.9.0,>=0.8.3 in c:\\users\\tilek\\anaconda3\\lib\\site-packages (from jedi>=0.16->ipython>=4.0.0->ipywidgets>=7.5.0->lux-widget->lux) (0.8.3)\n",
      "Requirement already satisfied: platformdirs>=2.5 in c:\\users\\tilek\\anaconda3\\lib\\site-packages (from jupyter-core!=5.0.*,>=4.12->jupyter-server<3,>=2.4.0->notebook>=4.0.0->lux-widget->lux) (3.10.0)\n",
      "Requirement already satisfied: pywin32>=300 in c:\\users\\tilek\\anaconda3\\lib\\site-packages (from jupyter-core!=5.0.*,>=4.12->jupyter-server<3,>=2.4.0->notebook>=4.0.0->lux-widget->lux) (305.1)\n",
      "Requirement already satisfied: python-json-logger>=2.0.4 in c:\\users\\tilek\\anaconda3\\lib\\site-packages (from jupyter-events>=0.9.0->jupyter-server<3,>=2.4.0->notebook>=4.0.0->lux-widget->lux) (2.0.7)\n",
      "Requirement already satisfied: pyyaml>=5.3 in c:\\users\\tilek\\anaconda3\\lib\\site-packages (from jupyter-events>=0.9.0->jupyter-server<3,>=2.4.0->notebook>=4.0.0->lux-widget->lux) (6.0.1)\n",
      "Requirement already satisfied: rfc3339-validator in c:\\users\\tilek\\anaconda3\\lib\\site-packages (from jupyter-events>=0.9.0->jupyter-server<3,>=2.4.0->notebook>=4.0.0->lux-widget->lux) (0.1.4)\n",
      "Requirement already satisfied: rfc3986-validator>=0.1.1 in c:\\users\\tilek\\anaconda3\\lib\\site-packages (from jupyter-events>=0.9.0->jupyter-server<3,>=2.4.0->notebook>=4.0.0->lux-widget->lux) (0.1.1)\n",
      "Requirement already satisfied: beautifulsoup4 in c:\\users\\tilek\\anaconda3\\lib\\site-packages (from nbconvert>=6.4.4->jupyter-server<3,>=2.4.0->notebook>=4.0.0->lux-widget->lux) (4.12.3)\n",
      "Requirement already satisfied: bleach!=5.0.0 in c:\\users\\tilek\\anaconda3\\lib\\site-packages (from nbconvert>=6.4.4->jupyter-server<3,>=2.4.0->notebook>=4.0.0->lux-widget->lux) (4.1.0)\n",
      "Requirement already satisfied: defusedxml in c:\\users\\tilek\\anaconda3\\lib\\site-packages (from nbconvert>=6.4.4->jupyter-server<3,>=2.4.0->notebook>=4.0.0->lux-widget->lux) (0.7.1)\n",
      "Requirement already satisfied: jupyterlab-pygments in c:\\users\\tilek\\anaconda3\\lib\\site-packages (from nbconvert>=6.4.4->jupyter-server<3,>=2.4.0->notebook>=4.0.0->lux-widget->lux) (0.1.2)\n",
      "Requirement already satisfied: mistune<4,>=2.0.3 in c:\\users\\tilek\\anaconda3\\lib\\site-packages (from nbconvert>=6.4.4->jupyter-server<3,>=2.4.0->notebook>=4.0.0->lux-widget->lux) (2.0.4)\n",
      "Requirement already satisfied: nbclient>=0.5.0 in c:\\users\\tilek\\anaconda3\\lib\\site-packages (from nbconvert>=6.4.4->jupyter-server<3,>=2.4.0->notebook>=4.0.0->lux-widget->lux) (0.8.0)\n",
      "Requirement already satisfied: pandocfilters>=1.4.1 in c:\\users\\tilek\\anaconda3\\lib\\site-packages (from nbconvert>=6.4.4->jupyter-server<3,>=2.4.0->notebook>=4.0.0->lux-widget->lux) (1.5.0)\n",
      "Requirement already satisfied: tinycss2 in c:\\users\\tilek\\anaconda3\\lib\\site-packages (from nbconvert>=6.4.4->jupyter-server<3,>=2.4.0->notebook>=4.0.0->lux-widget->lux) (1.2.1)\n",
      "Requirement already satisfied: fastjsonschema>=2.15 in c:\\users\\tilek\\anaconda3\\lib\\site-packages (from nbformat>=5.3.0->jupyter-server<3,>=2.4.0->notebook>=4.0.0->lux-widget->lux) (2.16.2)\n",
      "Requirement already satisfied: wcwidth in c:\\users\\tilek\\anaconda3\\lib\\site-packages (from prompt-toolkit<3.1.0,>=3.0.41->ipython>=4.0.0->ipywidgets>=7.5.0->lux-widget->lux) (0.2.5)\n",
      "Requirement already satisfied: charset-normalizer<4,>=2 in c:\\users\\tilek\\anaconda3\\lib\\site-packages (from requests>=2.31->jupyterlab-server<3,>=2.27.1->notebook>=4.0.0->lux-widget->lux) (3.3.2)\n",
      "Requirement already satisfied: urllib3<3,>=1.21.1 in c:\\users\\tilek\\anaconda3\\lib\\site-packages (from requests>=2.31->jupyterlab-server<3,>=2.27.1->notebook>=4.0.0->lux-widget->lux) (2.2.3)\n",
      "Requirement already satisfied: executing in c:\\users\\tilek\\anaconda3\\lib\\site-packages (from stack-data->ipython>=4.0.0->ipywidgets>=7.5.0->lux-widget->lux) (0.8.3)\n",
      "Requirement already satisfied: asttokens in c:\\users\\tilek\\anaconda3\\lib\\site-packages (from stack-data->ipython>=4.0.0->ipywidgets>=7.5.0->lux-widget->lux) (2.0.5)\n",
      "Requirement already satisfied: pure-eval in c:\\users\\tilek\\anaconda3\\lib\\site-packages (from stack-data->ipython>=4.0.0->ipywidgets>=7.5.0->lux-widget->lux) (0.2.2)\n",
      "Requirement already satisfied: webencodings in c:\\users\\tilek\\anaconda3\\lib\\site-packages (from bleach!=5.0.0->nbconvert>=6.4.4->jupyter-server<3,>=2.4.0->notebook>=4.0.0->lux-widget->lux) (0.5.1)\n",
      "Requirement already satisfied: fqdn in c:\\users\\tilek\\anaconda3\\lib\\site-packages (from jsonschema[format-nongpl]>=4.18.0->jupyter-events>=0.9.0->jupyter-server<3,>=2.4.0->notebook>=4.0.0->lux-widget->lux) (1.5.1)\n",
      "Requirement already satisfied: isoduration in c:\\users\\tilek\\anaconda3\\lib\\site-packages (from jsonschema[format-nongpl]>=4.18.0->jupyter-events>=0.9.0->jupyter-server<3,>=2.4.0->notebook>=4.0.0->lux-widget->lux) (20.11.0)\n",
      "Requirement already satisfied: jsonpointer>1.13 in c:\\users\\tilek\\anaconda3\\lib\\site-packages (from jsonschema[format-nongpl]>=4.18.0->jupyter-events>=0.9.0->jupyter-server<3,>=2.4.0->notebook>=4.0.0->lux-widget->lux) (2.1)\n",
      "Requirement already satisfied: uri-template in c:\\users\\tilek\\anaconda3\\lib\\site-packages (from jsonschema[format-nongpl]>=4.18.0->jupyter-events>=0.9.0->jupyter-server<3,>=2.4.0->notebook>=4.0.0->lux-widget->lux) (1.3.0)\n",
      "Requirement already satisfied: webcolors>=24.6.0 in c:\\users\\tilek\\anaconda3\\lib\\site-packages (from jsonschema[format-nongpl]>=4.18.0->jupyter-events>=0.9.0->jupyter-server<3,>=2.4.0->notebook>=4.0.0->lux-widget->lux) (24.11.1)\n",
      "Requirement already satisfied: cffi>=1.0.1 in c:\\users\\tilek\\anaconda3\\lib\\site-packages (from argon2-cffi-bindings->argon2-cffi>=21.1->jupyter-server<3,>=2.4.0->notebook>=4.0.0->lux-widget->lux) (1.17.1)\n",
      "Requirement already satisfied: soupsieve>1.2 in c:\\users\\tilek\\anaconda3\\lib\\site-packages (from beautifulsoup4->nbconvert>=6.4.4->jupyter-server<3,>=2.4.0->notebook>=4.0.0->lux-widget->lux) (2.5)\n",
      "Requirement already satisfied: pycparser in c:\\users\\tilek\\anaconda3\\lib\\site-packages (from cffi>=1.0.1->argon2-cffi-bindings->argon2-cffi>=21.1->jupyter-server<3,>=2.4.0->notebook>=4.0.0->lux-widget->lux) (2.21)\n",
      "Requirement already satisfied: arrow>=0.15.0 in c:\\users\\tilek\\anaconda3\\lib\\site-packages (from isoduration->jsonschema[format-nongpl]>=4.18.0->jupyter-events>=0.9.0->jupyter-server<3,>=2.4.0->notebook>=4.0.0->lux-widget->lux) (1.2.3)\n"
     ]
    }
   ],
   "source": [
    "!pip install lux"
   ]
  },
  {
   "cell_type": "code",
   "execution_count": 92,
   "id": "4a52e44d-6f42-47ad-a1c6-c56eed843070",
   "metadata": {},
   "outputs": [],
   "source": [
    "import lux"
   ]
  },
  {
   "cell_type": "code",
   "execution_count": 93,
   "id": "65973b33-7073-45ed-b373-dbe314cf1b51",
   "metadata": {},
   "outputs": [
    {
     "data": {
      "text/html": [
       "<div>\n",
       "<style scoped>\n",
       "    .dataframe tbody tr th:only-of-type {\n",
       "        vertical-align: middle;\n",
       "    }\n",
       "\n",
       "    .dataframe tbody tr th {\n",
       "        vertical-align: top;\n",
       "    }\n",
       "\n",
       "    .dataframe thead th {\n",
       "        text-align: right;\n",
       "    }\n",
       "</style>\n",
       "<table border=\"1\" class=\"dataframe\">\n",
       "  <thead>\n",
       "    <tr style=\"text-align: right;\">\n",
       "      <th></th>\n",
       "      <th>id</th>\n",
       "      <th>age</th>\n",
       "      <th>bp</th>\n",
       "      <th>sg</th>\n",
       "      <th>al</th>\n",
       "      <th>su</th>\n",
       "      <th>rbc</th>\n",
       "      <th>pc</th>\n",
       "      <th>pcc</th>\n",
       "      <th>ba</th>\n",
       "      <th>...</th>\n",
       "      <th>pcv</th>\n",
       "      <th>wc</th>\n",
       "      <th>rc</th>\n",
       "      <th>htn</th>\n",
       "      <th>dm</th>\n",
       "      <th>cad</th>\n",
       "      <th>appet</th>\n",
       "      <th>pe</th>\n",
       "      <th>ane</th>\n",
       "      <th>classification</th>\n",
       "    </tr>\n",
       "  </thead>\n",
       "  <tbody>\n",
       "    <tr>\n",
       "      <th>0</th>\n",
       "      <td>0</td>\n",
       "      <td>48.0</td>\n",
       "      <td>80.0</td>\n",
       "      <td>1.020</td>\n",
       "      <td>1.0</td>\n",
       "      <td>0.0</td>\n",
       "      <td>NaN</td>\n",
       "      <td>normal</td>\n",
       "      <td>notpresent</td>\n",
       "      <td>notpresent</td>\n",
       "      <td>...</td>\n",
       "      <td>44</td>\n",
       "      <td>7800</td>\n",
       "      <td>5.2</td>\n",
       "      <td>yes</td>\n",
       "      <td>yes</td>\n",
       "      <td>no</td>\n",
       "      <td>good</td>\n",
       "      <td>no</td>\n",
       "      <td>no</td>\n",
       "      <td>ckd</td>\n",
       "    </tr>\n",
       "    <tr>\n",
       "      <th>1</th>\n",
       "      <td>1</td>\n",
       "      <td>7.0</td>\n",
       "      <td>50.0</td>\n",
       "      <td>1.020</td>\n",
       "      <td>4.0</td>\n",
       "      <td>0.0</td>\n",
       "      <td>NaN</td>\n",
       "      <td>normal</td>\n",
       "      <td>notpresent</td>\n",
       "      <td>notpresent</td>\n",
       "      <td>...</td>\n",
       "      <td>38</td>\n",
       "      <td>6000</td>\n",
       "      <td>NaN</td>\n",
       "      <td>no</td>\n",
       "      <td>no</td>\n",
       "      <td>no</td>\n",
       "      <td>good</td>\n",
       "      <td>no</td>\n",
       "      <td>no</td>\n",
       "      <td>ckd</td>\n",
       "    </tr>\n",
       "    <tr>\n",
       "      <th>2</th>\n",
       "      <td>2</td>\n",
       "      <td>62.0</td>\n",
       "      <td>80.0</td>\n",
       "      <td>1.010</td>\n",
       "      <td>2.0</td>\n",
       "      <td>3.0</td>\n",
       "      <td>normal</td>\n",
       "      <td>normal</td>\n",
       "      <td>notpresent</td>\n",
       "      <td>notpresent</td>\n",
       "      <td>...</td>\n",
       "      <td>31</td>\n",
       "      <td>7500</td>\n",
       "      <td>NaN</td>\n",
       "      <td>no</td>\n",
       "      <td>yes</td>\n",
       "      <td>no</td>\n",
       "      <td>poor</td>\n",
       "      <td>no</td>\n",
       "      <td>yes</td>\n",
       "      <td>ckd</td>\n",
       "    </tr>\n",
       "    <tr>\n",
       "      <th>3</th>\n",
       "      <td>3</td>\n",
       "      <td>48.0</td>\n",
       "      <td>70.0</td>\n",
       "      <td>1.005</td>\n",
       "      <td>4.0</td>\n",
       "      <td>0.0</td>\n",
       "      <td>normal</td>\n",
       "      <td>abnormal</td>\n",
       "      <td>present</td>\n",
       "      <td>notpresent</td>\n",
       "      <td>...</td>\n",
       "      <td>32</td>\n",
       "      <td>6700</td>\n",
       "      <td>3.9</td>\n",
       "      <td>yes</td>\n",
       "      <td>no</td>\n",
       "      <td>no</td>\n",
       "      <td>poor</td>\n",
       "      <td>yes</td>\n",
       "      <td>yes</td>\n",
       "      <td>ckd</td>\n",
       "    </tr>\n",
       "    <tr>\n",
       "      <th>4</th>\n",
       "      <td>4</td>\n",
       "      <td>51.0</td>\n",
       "      <td>80.0</td>\n",
       "      <td>1.010</td>\n",
       "      <td>2.0</td>\n",
       "      <td>0.0</td>\n",
       "      <td>normal</td>\n",
       "      <td>normal</td>\n",
       "      <td>notpresent</td>\n",
       "      <td>notpresent</td>\n",
       "      <td>...</td>\n",
       "      <td>35</td>\n",
       "      <td>7300</td>\n",
       "      <td>4.6</td>\n",
       "      <td>no</td>\n",
       "      <td>no</td>\n",
       "      <td>no</td>\n",
       "      <td>good</td>\n",
       "      <td>no</td>\n",
       "      <td>no</td>\n",
       "      <td>ckd</td>\n",
       "    </tr>\n",
       "  </tbody>\n",
       "</table>\n",
       "<p>5 rows × 26 columns</p>\n",
       "</div>"
      ],
      "text/plain": [
       "   id   age    bp     sg   al   su     rbc        pc         pcc          ba  \\\n",
       "0   0  48.0  80.0  1.020  1.0  0.0     NaN    normal  notpresent  notpresent   \n",
       "1   1   7.0  50.0  1.020  4.0  0.0     NaN    normal  notpresent  notpresent   \n",
       "2   2  62.0  80.0  1.010  2.0  3.0  normal    normal  notpresent  notpresent   \n",
       "3   3  48.0  70.0  1.005  4.0  0.0  normal  abnormal     present  notpresent   \n",
       "4   4  51.0  80.0  1.010  2.0  0.0  normal    normal  notpresent  notpresent   \n",
       "\n",
       "   ...  pcv    wc   rc  htn   dm  cad appet   pe  ane classification  \n",
       "0  ...   44  7800  5.2  yes  yes   no  good   no   no            ckd  \n",
       "1  ...   38  6000  NaN   no   no   no  good   no   no            ckd  \n",
       "2  ...   31  7500  NaN   no  yes   no  poor   no  yes            ckd  \n",
       "3  ...   32  6700  3.9  yes   no   no  poor  yes  yes            ckd  \n",
       "4  ...   35  7300  4.6   no   no   no  good   no   no            ckd  \n",
       "\n",
       "[5 rows x 26 columns]"
      ]
     },
     "metadata": {},
     "output_type": "display_data"
    }
   ],
   "source": [
    "df = pd.read_csv('kidney_disease.csv')\n",
    "df.head()"
   ]
  },
  {
   "cell_type": "code",
   "execution_count": 14,
   "id": "5a30fba8-01e7-4617-8cc8-e53fea9af3e9",
   "metadata": {},
   "outputs": [
    {
     "data": {
      "text/plain": [
       "(400, 26)"
      ]
     },
     "execution_count": 14,
     "metadata": {},
     "output_type": "execute_result"
    }
   ],
   "source": [
    "df.shape"
   ]
  },
  {
   "cell_type": "code",
   "execution_count": 15,
   "id": "9ebfd2ec-5093-44d0-8df0-1ec8f1d0c2c0",
   "metadata": {},
   "outputs": [
    {
     "data": {
      "text/html": [
       "<div>\n",
       "<style scoped>\n",
       "    .dataframe tbody tr th:only-of-type {\n",
       "        vertical-align: middle;\n",
       "    }\n",
       "\n",
       "    .dataframe tbody tr th {\n",
       "        vertical-align: top;\n",
       "    }\n",
       "\n",
       "    .dataframe thead th {\n",
       "        text-align: right;\n",
       "    }\n",
       "</style>\n",
       "<table border=\"1\" class=\"dataframe\">\n",
       "  <thead>\n",
       "    <tr style=\"text-align: right;\">\n",
       "      <th></th>\n",
       "      <th>id</th>\n",
       "      <th>age</th>\n",
       "      <th>bp</th>\n",
       "      <th>sg</th>\n",
       "      <th>al</th>\n",
       "      <th>su</th>\n",
       "      <th>rbc</th>\n",
       "      <th>pc</th>\n",
       "      <th>pcc</th>\n",
       "      <th>ba</th>\n",
       "      <th>...</th>\n",
       "      <th>pcv</th>\n",
       "      <th>wc</th>\n",
       "      <th>rc</th>\n",
       "      <th>htn</th>\n",
       "      <th>dm</th>\n",
       "      <th>cad</th>\n",
       "      <th>appet</th>\n",
       "      <th>pe</th>\n",
       "      <th>ane</th>\n",
       "      <th>classification</th>\n",
       "    </tr>\n",
       "  </thead>\n",
       "  <tbody>\n",
       "    <tr>\n",
       "      <th>0</th>\n",
       "      <td>0</td>\n",
       "      <td>48.0</td>\n",
       "      <td>80.0</td>\n",
       "      <td>1.020</td>\n",
       "      <td>1.0</td>\n",
       "      <td>0.0</td>\n",
       "      <td>NaN</td>\n",
       "      <td>normal</td>\n",
       "      <td>notpresent</td>\n",
       "      <td>notpresent</td>\n",
       "      <td>...</td>\n",
       "      <td>44</td>\n",
       "      <td>7800</td>\n",
       "      <td>5.2</td>\n",
       "      <td>yes</td>\n",
       "      <td>yes</td>\n",
       "      <td>no</td>\n",
       "      <td>good</td>\n",
       "      <td>no</td>\n",
       "      <td>no</td>\n",
       "      <td>ckd</td>\n",
       "    </tr>\n",
       "    <tr>\n",
       "      <th>1</th>\n",
       "      <td>1</td>\n",
       "      <td>7.0</td>\n",
       "      <td>50.0</td>\n",
       "      <td>1.020</td>\n",
       "      <td>4.0</td>\n",
       "      <td>0.0</td>\n",
       "      <td>NaN</td>\n",
       "      <td>normal</td>\n",
       "      <td>notpresent</td>\n",
       "      <td>notpresent</td>\n",
       "      <td>...</td>\n",
       "      <td>38</td>\n",
       "      <td>6000</td>\n",
       "      <td>NaN</td>\n",
       "      <td>no</td>\n",
       "      <td>no</td>\n",
       "      <td>no</td>\n",
       "      <td>good</td>\n",
       "      <td>no</td>\n",
       "      <td>no</td>\n",
       "      <td>ckd</td>\n",
       "    </tr>\n",
       "    <tr>\n",
       "      <th>2</th>\n",
       "      <td>2</td>\n",
       "      <td>62.0</td>\n",
       "      <td>80.0</td>\n",
       "      <td>1.010</td>\n",
       "      <td>2.0</td>\n",
       "      <td>3.0</td>\n",
       "      <td>normal</td>\n",
       "      <td>normal</td>\n",
       "      <td>notpresent</td>\n",
       "      <td>notpresent</td>\n",
       "      <td>...</td>\n",
       "      <td>31</td>\n",
       "      <td>7500</td>\n",
       "      <td>NaN</td>\n",
       "      <td>no</td>\n",
       "      <td>yes</td>\n",
       "      <td>no</td>\n",
       "      <td>poor</td>\n",
       "      <td>no</td>\n",
       "      <td>yes</td>\n",
       "      <td>ckd</td>\n",
       "    </tr>\n",
       "    <tr>\n",
       "      <th>3</th>\n",
       "      <td>3</td>\n",
       "      <td>48.0</td>\n",
       "      <td>70.0</td>\n",
       "      <td>1.005</td>\n",
       "      <td>4.0</td>\n",
       "      <td>0.0</td>\n",
       "      <td>normal</td>\n",
       "      <td>abnormal</td>\n",
       "      <td>present</td>\n",
       "      <td>notpresent</td>\n",
       "      <td>...</td>\n",
       "      <td>32</td>\n",
       "      <td>6700</td>\n",
       "      <td>3.9</td>\n",
       "      <td>yes</td>\n",
       "      <td>no</td>\n",
       "      <td>no</td>\n",
       "      <td>poor</td>\n",
       "      <td>yes</td>\n",
       "      <td>yes</td>\n",
       "      <td>ckd</td>\n",
       "    </tr>\n",
       "    <tr>\n",
       "      <th>4</th>\n",
       "      <td>4</td>\n",
       "      <td>51.0</td>\n",
       "      <td>80.0</td>\n",
       "      <td>1.010</td>\n",
       "      <td>2.0</td>\n",
       "      <td>0.0</td>\n",
       "      <td>normal</td>\n",
       "      <td>normal</td>\n",
       "      <td>notpresent</td>\n",
       "      <td>notpresent</td>\n",
       "      <td>...</td>\n",
       "      <td>35</td>\n",
       "      <td>7300</td>\n",
       "      <td>4.6</td>\n",
       "      <td>no</td>\n",
       "      <td>no</td>\n",
       "      <td>no</td>\n",
       "      <td>good</td>\n",
       "      <td>no</td>\n",
       "      <td>no</td>\n",
       "      <td>ckd</td>\n",
       "    </tr>\n",
       "    <tr>\n",
       "      <th>...</th>\n",
       "      <td>...</td>\n",
       "      <td>...</td>\n",
       "      <td>...</td>\n",
       "      <td>...</td>\n",
       "      <td>...</td>\n",
       "      <td>...</td>\n",
       "      <td>...</td>\n",
       "      <td>...</td>\n",
       "      <td>...</td>\n",
       "      <td>...</td>\n",
       "      <td>...</td>\n",
       "      <td>...</td>\n",
       "      <td>...</td>\n",
       "      <td>...</td>\n",
       "      <td>...</td>\n",
       "      <td>...</td>\n",
       "      <td>...</td>\n",
       "      <td>...</td>\n",
       "      <td>...</td>\n",
       "      <td>...</td>\n",
       "      <td>...</td>\n",
       "    </tr>\n",
       "    <tr>\n",
       "      <th>395</th>\n",
       "      <td>395</td>\n",
       "      <td>55.0</td>\n",
       "      <td>80.0</td>\n",
       "      <td>1.020</td>\n",
       "      <td>0.0</td>\n",
       "      <td>0.0</td>\n",
       "      <td>normal</td>\n",
       "      <td>normal</td>\n",
       "      <td>notpresent</td>\n",
       "      <td>notpresent</td>\n",
       "      <td>...</td>\n",
       "      <td>47</td>\n",
       "      <td>6700</td>\n",
       "      <td>4.9</td>\n",
       "      <td>no</td>\n",
       "      <td>no</td>\n",
       "      <td>no</td>\n",
       "      <td>good</td>\n",
       "      <td>no</td>\n",
       "      <td>no</td>\n",
       "      <td>notckd</td>\n",
       "    </tr>\n",
       "    <tr>\n",
       "      <th>396</th>\n",
       "      <td>396</td>\n",
       "      <td>42.0</td>\n",
       "      <td>70.0</td>\n",
       "      <td>1.025</td>\n",
       "      <td>0.0</td>\n",
       "      <td>0.0</td>\n",
       "      <td>normal</td>\n",
       "      <td>normal</td>\n",
       "      <td>notpresent</td>\n",
       "      <td>notpresent</td>\n",
       "      <td>...</td>\n",
       "      <td>54</td>\n",
       "      <td>7800</td>\n",
       "      <td>6.2</td>\n",
       "      <td>no</td>\n",
       "      <td>no</td>\n",
       "      <td>no</td>\n",
       "      <td>good</td>\n",
       "      <td>no</td>\n",
       "      <td>no</td>\n",
       "      <td>notckd</td>\n",
       "    </tr>\n",
       "    <tr>\n",
       "      <th>397</th>\n",
       "      <td>397</td>\n",
       "      <td>12.0</td>\n",
       "      <td>80.0</td>\n",
       "      <td>1.020</td>\n",
       "      <td>0.0</td>\n",
       "      <td>0.0</td>\n",
       "      <td>normal</td>\n",
       "      <td>normal</td>\n",
       "      <td>notpresent</td>\n",
       "      <td>notpresent</td>\n",
       "      <td>...</td>\n",
       "      <td>49</td>\n",
       "      <td>6600</td>\n",
       "      <td>5.4</td>\n",
       "      <td>no</td>\n",
       "      <td>no</td>\n",
       "      <td>no</td>\n",
       "      <td>good</td>\n",
       "      <td>no</td>\n",
       "      <td>no</td>\n",
       "      <td>notckd</td>\n",
       "    </tr>\n",
       "    <tr>\n",
       "      <th>398</th>\n",
       "      <td>398</td>\n",
       "      <td>17.0</td>\n",
       "      <td>60.0</td>\n",
       "      <td>1.025</td>\n",
       "      <td>0.0</td>\n",
       "      <td>0.0</td>\n",
       "      <td>normal</td>\n",
       "      <td>normal</td>\n",
       "      <td>notpresent</td>\n",
       "      <td>notpresent</td>\n",
       "      <td>...</td>\n",
       "      <td>51</td>\n",
       "      <td>7200</td>\n",
       "      <td>5.9</td>\n",
       "      <td>no</td>\n",
       "      <td>no</td>\n",
       "      <td>no</td>\n",
       "      <td>good</td>\n",
       "      <td>no</td>\n",
       "      <td>no</td>\n",
       "      <td>notckd</td>\n",
       "    </tr>\n",
       "    <tr>\n",
       "      <th>399</th>\n",
       "      <td>399</td>\n",
       "      <td>58.0</td>\n",
       "      <td>80.0</td>\n",
       "      <td>1.025</td>\n",
       "      <td>0.0</td>\n",
       "      <td>0.0</td>\n",
       "      <td>normal</td>\n",
       "      <td>normal</td>\n",
       "      <td>notpresent</td>\n",
       "      <td>notpresent</td>\n",
       "      <td>...</td>\n",
       "      <td>53</td>\n",
       "      <td>6800</td>\n",
       "      <td>6.1</td>\n",
       "      <td>no</td>\n",
       "      <td>no</td>\n",
       "      <td>no</td>\n",
       "      <td>good</td>\n",
       "      <td>no</td>\n",
       "      <td>no</td>\n",
       "      <td>notckd</td>\n",
       "    </tr>\n",
       "  </tbody>\n",
       "</table>\n",
       "<p>400 rows × 26 columns</p>\n",
       "</div>"
      ],
      "text/plain": [
       "      id   age    bp     sg   al   su     rbc        pc         pcc  \\\n",
       "0      0  48.0  80.0  1.020  1.0  0.0     NaN    normal  notpresent   \n",
       "1      1   7.0  50.0  1.020  4.0  0.0     NaN    normal  notpresent   \n",
       "2      2  62.0  80.0  1.010  2.0  3.0  normal    normal  notpresent   \n",
       "3      3  48.0  70.0  1.005  4.0  0.0  normal  abnormal     present   \n",
       "4      4  51.0  80.0  1.010  2.0  0.0  normal    normal  notpresent   \n",
       "..   ...   ...   ...    ...  ...  ...     ...       ...         ...   \n",
       "395  395  55.0  80.0  1.020  0.0  0.0  normal    normal  notpresent   \n",
       "396  396  42.0  70.0  1.025  0.0  0.0  normal    normal  notpresent   \n",
       "397  397  12.0  80.0  1.020  0.0  0.0  normal    normal  notpresent   \n",
       "398  398  17.0  60.0  1.025  0.0  0.0  normal    normal  notpresent   \n",
       "399  399  58.0  80.0  1.025  0.0  0.0  normal    normal  notpresent   \n",
       "\n",
       "             ba  ...  pcv    wc   rc  htn   dm  cad appet   pe  ane  \\\n",
       "0    notpresent  ...   44  7800  5.2  yes  yes   no  good   no   no   \n",
       "1    notpresent  ...   38  6000  NaN   no   no   no  good   no   no   \n",
       "2    notpresent  ...   31  7500  NaN   no  yes   no  poor   no  yes   \n",
       "3    notpresent  ...   32  6700  3.9  yes   no   no  poor  yes  yes   \n",
       "4    notpresent  ...   35  7300  4.6   no   no   no  good   no   no   \n",
       "..          ...  ...  ...   ...  ...  ...  ...  ...   ...  ...  ...   \n",
       "395  notpresent  ...   47  6700  4.9   no   no   no  good   no   no   \n",
       "396  notpresent  ...   54  7800  6.2   no   no   no  good   no   no   \n",
       "397  notpresent  ...   49  6600  5.4   no   no   no  good   no   no   \n",
       "398  notpresent  ...   51  7200  5.9   no   no   no  good   no   no   \n",
       "399  notpresent  ...   53  6800  6.1   no   no   no  good   no   no   \n",
       "\n",
       "    classification  \n",
       "0              ckd  \n",
       "1              ckd  \n",
       "2              ckd  \n",
       "3              ckd  \n",
       "4              ckd  \n",
       "..             ...  \n",
       "395         notckd  \n",
       "396         notckd  \n",
       "397         notckd  \n",
       "398         notckd  \n",
       "399         notckd  \n",
       "\n",
       "[400 rows x 26 columns]"
      ]
     },
     "metadata": {},
     "output_type": "display_data"
    }
   ],
   "source": [
    "df"
   ]
  },
  {
   "cell_type": "code",
   "execution_count": 16,
   "id": "89e74d47-4c03-4ff1-9c53-4e7747f42f4f",
   "metadata": {},
   "outputs": [
    {
     "data": {
      "text/plain": [
       "Index(['id', 'age', 'bp', 'sg', 'al', 'su', 'rbc', 'pc', 'pcc', 'ba', 'bgr',\n",
       "       'bu', 'sc', 'sod', 'pot', 'hemo', 'pcv', 'wc', 'rc', 'htn', 'dm', 'cad',\n",
       "       'appet', 'pe', 'ane', 'classification'],\n",
       "      dtype='object')"
      ]
     },
     "execution_count": 16,
     "metadata": {},
     "output_type": "execute_result"
    }
   ],
   "source": [
    "df.columns"
   ]
  },
  {
   "cell_type": "code",
   "execution_count": 17,
   "id": "d87acb29-ca28-41c5-8ecc-2b7915332f6a",
   "metadata": {},
   "outputs": [
    {
     "data": {
      "text/plain": [
       "0"
      ]
     },
     "execution_count": 17,
     "metadata": {},
     "output_type": "execute_result"
    }
   ],
   "source": [
    "# duplicates \n",
    "df.duplicated().sum()"
   ]
  },
  {
   "cell_type": "code",
   "execution_count": 18,
   "id": "bd6d1009-9507-4994-bcc6-7b97bc6768ba",
   "metadata": {},
   "outputs": [
    {
     "data": {
      "text/plain": [
       "1009"
      ]
     },
     "execution_count": 18,
     "metadata": {},
     "output_type": "execute_result"
    }
   ],
   "source": [
    "# missing value checks\n",
    "df.isnull().sum().sum()"
   ]
  },
  {
   "cell_type": "code",
   "execution_count": 19,
   "id": "bcc789f5-8fd2-422b-8751-ee1846606d40",
   "metadata": {},
   "outputs": [
    {
     "data": {
      "application/vnd.jupyter.widget-view+json": {
       "model_id": "5169f550d9dd4011bc92a7d502196b35",
       "version_major": 2,
       "version_minor": 0
      },
      "text/plain": [
       "Button(description='Toggle Pandas/Lux', layout=Layout(top='5px', width='140px'), style=ButtonStyle())"
      ]
     },
     "metadata": {},
     "output_type": "display_data"
    },
    {
     "data": {
      "application/vnd.jupyter.widget-view+json": {
       "model_id": "cec0efbafb85411d812afdfa640493ed",
       "version_major": 2,
       "version_minor": 0
      },
      "text/plain": [
       "Output()"
      ]
     },
     "metadata": {},
     "output_type": "display_data"
    }
   ],
   "source": [
    "df.isnull().sum()/len(df)*100"
   ]
  },
  {
   "cell_type": "code",
   "execution_count": 20,
   "id": "7dd69b31-c601-4985-b177-89afa9cfb89f",
   "metadata": {},
   "outputs": [
    {
     "name": "stdout",
     "output_type": "stream",
     "text": [
      "<class 'lux.core.frame.LuxDataFrame'>\n",
      "RangeIndex: 400 entries, 0 to 399\n",
      "Data columns (total 26 columns):\n",
      " #   Column          Non-Null Count  Dtype  \n",
      "---  ------          --------------  -----  \n",
      " 0   id              400 non-null    int64  \n",
      " 1   age             391 non-null    float64\n",
      " 2   bp              388 non-null    float64\n",
      " 3   sg              353 non-null    float64\n",
      " 4   al              354 non-null    float64\n",
      " 5   su              351 non-null    float64\n",
      " 6   rbc             248 non-null    object \n",
      " 7   pc              335 non-null    object \n",
      " 8   pcc             396 non-null    object \n",
      " 9   ba              396 non-null    object \n",
      " 10  bgr             356 non-null    float64\n",
      " 11  bu              381 non-null    float64\n",
      " 12  sc              383 non-null    float64\n",
      " 13  sod             313 non-null    float64\n",
      " 14  pot             312 non-null    float64\n",
      " 15  hemo            348 non-null    float64\n",
      " 16  pcv             330 non-null    object \n",
      " 17  wc              295 non-null    object \n",
      " 18  rc              270 non-null    object \n",
      " 19  htn             398 non-null    object \n",
      " 20  dm              398 non-null    object \n",
      " 21  cad             398 non-null    object \n",
      " 22  appet           399 non-null    object \n",
      " 23  pe              399 non-null    object \n",
      " 24  ane             399 non-null    object \n",
      " 25  classification  400 non-null    object \n",
      "dtypes: float64(11), int64(1), object(14)\n",
      "memory usage: 81.4+ KB\n"
     ]
    }
   ],
   "source": [
    "df.info()"
   ]
  },
  {
   "cell_type": "code",
   "execution_count": 21,
   "id": "29508ef0-1cf4-4785-a704-ef1b1cd45ec6",
   "metadata": {},
   "outputs": [
    {
     "name": "stdout",
     "output_type": "stream",
     "text": [
      "************************************ id ****************************\n",
      "\n",
      "{0, 1, 2, 3, 4, 5, 6, 7, 8, 9, 10, 11, 12, 13, 14, 15, 16, 17, 18, 19, 20, 21, 22, 23, 24, 25, 26, 27, 28, 29, 30, 31, 32, 33, 34, 35, 36, 37, 38, 39, 40, 41, 42, 43, 44, 45, 46, 47, 48, 49, 50, 51, 52, 53, 54, 55, 56, 57, 58, 59, 60, 61, 62, 63, 64, 65, 66, 67, 68, 69, 70, 71, 72, 73, 74, 75, 76, 77, 78, 79, 80, 81, 82, 83, 84, 85, 86, 87, 88, 89, 90, 91, 92, 93, 94, 95, 96, 97, 98, 99, 100, 101, 102, 103, 104, 105, 106, 107, 108, 109, 110, 111, 112, 113, 114, 115, 116, 117, 118, 119, 120, 121, 122, 123, 124, 125, 126, 127, 128, 129, 130, 131, 132, 133, 134, 135, 136, 137, 138, 139, 140, 141, 142, 143, 144, 145, 146, 147, 148, 149, 150, 151, 152, 153, 154, 155, 156, 157, 158, 159, 160, 161, 162, 163, 164, 165, 166, 167, 168, 169, 170, 171, 172, 173, 174, 175, 176, 177, 178, 179, 180, 181, 182, 183, 184, 185, 186, 187, 188, 189, 190, 191, 192, 193, 194, 195, 196, 197, 198, 199, 200, 201, 202, 203, 204, 205, 206, 207, 208, 209, 210, 211, 212, 213, 214, 215, 216, 217, 218, 219, 220, 221, 222, 223, 224, 225, 226, 227, 228, 229, 230, 231, 232, 233, 234, 235, 236, 237, 238, 239, 240, 241, 242, 243, 244, 245, 246, 247, 248, 249, 250, 251, 252, 253, 254, 255, 256, 257, 258, 259, 260, 261, 262, 263, 264, 265, 266, 267, 268, 269, 270, 271, 272, 273, 274, 275, 276, 277, 278, 279, 280, 281, 282, 283, 284, 285, 286, 287, 288, 289, 290, 291, 292, 293, 294, 295, 296, 297, 298, 299, 300, 301, 302, 303, 304, 305, 306, 307, 308, 309, 310, 311, 312, 313, 314, 315, 316, 317, 318, 319, 320, 321, 322, 323, 324, 325, 326, 327, 328, 329, 330, 331, 332, 333, 334, 335, 336, 337, 338, 339, 340, 341, 342, 343, 344, 345, 346, 347, 348, 349, 350, 351, 352, 353, 354, 355, 356, 357, 358, 359, 360, 361, 362, 363, 364, 365, 366, 367, 368, 369, 370, 371, 372, 373, 374, 375, 376, 377, 378, 379, 380, 381, 382, 383, 384, 385, 386, 387, 388, 389, 390, 391, 392, 393, 394, 395, 396, 397, 398, 399}\n",
      "\n",
      "************************************ age ****************************\n",
      "\n",
      "{2.0, 3.0, 4.0, 5.0, 6.0, 7.0, 8.0, 11.0, 12.0, 14.0, 15.0, 17.0, 19.0, 20.0, 21.0, 22.0, 23.0, 24.0, 25.0, 26.0, 27.0, 28.0, 29.0, 30.0, 32.0, 33.0, 34.0, 35.0, 36.0, 37.0, 38.0, 39.0, 40.0, 41.0, 42.0, 43.0, 44.0, 45.0, 46.0, 47.0, 48.0, 49.0, 50.0, 51.0, 52.0, 53.0, 54.0, 55.0, 56.0, 57.0, 58.0, 59.0, 60.0, 61.0, 62.0, 63.0, 64.0, 65.0, 66.0, 67.0, 68.0, 69.0, 70.0, 71.0, 72.0, 73.0, 74.0, 75.0, 76.0, 78.0, 79.0, 80.0, 81.0, 82.0, 83.0, 90.0, nan, nan, nan, nan, nan, nan, nan, nan, nan}\n",
      "\n",
      "************************************ bp ****************************\n",
      "\n",
      "{140.0, nan, nan, nan, nan, nan, 50.0, 180.0, nan, 60.0, nan, 70.0, nan, nan, nan, 80.0, 90.0, nan, nan, 100.0, 110.0, 120.0}\n",
      "\n",
      "************************************ sg ****************************\n",
      "\n",
      "{1.02, 1.005, 1.015, 1.01, 1.025, nan, nan, nan, nan, nan, nan, nan, nan, nan, nan, nan, nan, nan, nan, nan, nan, nan, nan, nan, nan, nan, nan, nan, nan, nan, nan, nan, nan, nan, nan, nan, nan, nan, nan, nan, nan, nan, nan, nan, nan, nan, nan, nan, nan, nan, nan, nan}\n",
      "\n",
      "************************************ al ****************************\n",
      "\n",
      "{0.0, 1.0, 2.0, 3.0, 4.0, nan, 5.0, nan, nan, nan, nan, nan, nan, nan, nan, nan, nan, nan, nan, nan, nan, nan, nan, nan, nan, nan, nan, nan, nan, nan, nan, nan, nan, nan, nan, nan, nan, nan, nan, nan, nan, nan, nan, nan, nan, nan, nan, nan, nan, nan, nan, nan}\n",
      "\n",
      "************************************ su ****************************\n",
      "\n",
      "{0.0, 1.0, 2.0, 3.0, 4.0, 5.0, nan, nan, nan, nan, nan, nan, nan, nan, nan, nan, nan, nan, nan, nan, nan, nan, nan, nan, nan, nan, nan, nan, nan, nan, nan, nan, nan, nan, nan, nan, nan, nan, nan, nan, nan, nan, nan, nan, nan, nan, nan, nan, nan, nan, nan, nan, nan, nan, nan}\n",
      "\n",
      "************************************ rbc ****************************\n",
      "\n",
      "{nan, 'abnormal', 'normal'}\n",
      "\n",
      "************************************ pc ****************************\n",
      "\n",
      "{nan, 'abnormal', 'normal'}\n",
      "\n",
      "************************************ pcc ****************************\n",
      "\n",
      "{'present', nan, 'notpresent'}\n",
      "\n",
      "************************************ ba ****************************\n",
      "\n",
      "{'present', nan, 'notpresent'}\n",
      "\n",
      "************************************ bgr ****************************\n",
      "\n",
      "{103.0, nan, nan, nan, 22.0, nan, nan, nan, nan, nan, nan, nan, nan, nan, 70.0, 116.0, nan, 74.0, nan, 76.0, 75.0, 78.0, 79.0, nan, 80.0, 82.0, 81.0, 84.0, 85.0, 86.0, nan, 88.0, 89.0, 90.0, 91.0, 92.0, 93.0, 94.0, 95.0, 120.0, 97.0, 98.0, 99.0, 100.0, nan, 102.0, 101.0, 104.0, nan, 106.0, 107.0, 108.0, 109.0, 105.0, nan, 112.0, 111.0, 114.0, 115.0, nan, 117.0, 118.0, 110.0, 113.0, nan, 121.0, 123.0, 124.0, 125.0, 122.0, 127.0, 128.0, 129.0, nan, 131.0, 132.0, 133.0, 130.0, 134.0, 137.0, 138.0, 139.0, 140.0, 141.0, 143.0, 144.0, 146.0, 148.0, 150.0, 153.0, 156.0, 157.0, 158.0, 159.0, 160.0, 162.0, 163.0, nan, 165.0, nan, 169.0, 171.0, 172.0, 173.0, nan, 176.0, 182.0, 184.0, 192.0, 201.0, 203.0, 204.0, 207.0, 208.0, 210.0, 213.0, 214.0, 215.0, nan, 219.0, 220.0, 224.0, 226.0, 230.0, 233.0, 234.0, 238.0, 239.0, 241.0, 242.0, nan, 246.0, 248.0, 250.0, 251.0, 252.0, 253.0, 255.0, 256.0, 261.0, 263.0, 264.0, 268.0, 269.0, 270.0, 273.0, 280.0, 288.0, nan, 294.0, 295.0, 297.0, 298.0, 303.0, 307.0, 308.0, 309.0, nan, 323.0, 341.0, nan, nan, 352.0, 360.0, nan, nan, nan, 380.0, nan, 410.0, nan, 415.0, 83.0, 423.0, 424.0, 425.0, 119.0, nan, 87.0, 447.0, nan, nan, 463.0, nan, nan, nan, nan, 96.0, 490.0, nan}\n",
      "\n",
      "************************************ bu ****************************\n",
      "\n",
      "{1.5, 10.0, 15.0, 16.0, 17.0, 18.0, 19.0, 20.0, 21.0, 22.0, 23.0, 24.0, 25.0, 26.0, 27.0, 28.0, 29.0, 30.0, 31.0, 32.0, 33.0, 34.0, 35.0, 36.0, 37.0, 38.0, 39.0, 40.0, 41.0, 42.0, nan, 44.0, 45.0, 46.0, 47.0, 48.0, 49.0, 50.0, 51.0, 52.0, 53.0, 54.0, 55.0, 56.0, nan, 50.1, 58.0, 60.0, 61.0, 57.0, 64.0, 65.0, 66.0, 67.0, 68.0, nan, 70.0, 71.0, 72.0, 73.0, 74.0, 75.0, 76.0, 77.0, 79.0, 80.0, 82.0, 85.0, 86.0, 87.0, 88.0, 89.0, 90.0, nan, 92.0, 93.0, 94.0, 95.0, 96.0, 98.0, 98.6, 103.0, 106.0, 107.0, 111.0, 113.0, 114.0, 115.0, 118.0, 125.0, nan, 132.0, 133.0, nan, 137.0, 139.0, 142.0, 145.0, 146.0, 148.0, 150.0, 153.0, 155.0, 158.0, 162.0, 163.0, 164.0, 165.0, 166.0, nan, nan, nan, 176.0, 180.0, 186.0, 191.0, 202.0, nan, 208.0, 215.0, 217.0, 219.0, 223.0, 235.0, 241.0, nan, nan, nan, nan, 309.0, 322.0, nan, nan, nan, 391.0, nan, nan}\n",
      "\n",
      "************************************ sc ****************************\n",
      "\n",
      "{0.8, 1.2, 1.4, 3.8, 1.8, 1.1, 1.9, 7.2, 4.0, 2.7, 2.1, 4.6, 4.1, 9.6, 5.2, 7.7, 7.3, 2.5, 2.0, 10.8, 3.0, 3.25, 15.0, 14.2, 24.0, 16.9, 18.0, 18.1, 1.5, 1.0, 32.0, 6.5, 0.5, 6.0, 7.5, nan, 8.5, 48.1, 11.5, nan, 12.0, 13.0, 13.5, 76.0, 16.4, nan, 2.4, 2.9, 3.9, 3.4, nan, nan, nan, nan, 4.4, 5.9, nan, 6.4, 11.9, 13.4, 2.8, 2.3, 3.3, 4.3, 1.3, 5.3, 6.3, 6.8, 0.6, 0.9, 0.4, nan, nan, 9.7, 9.2, 9.3, 0.7, 10.2, 1.7, 11.8, 12.2, 12.8, 13.8, 13.3, 2.2, 15.2, 3.2, nan, 6.7, nan, nan, nan, 5.6, 6.1, nan, 7.1, 1.6, 2.6, 3.6, nan, nan}\n",
      "\n",
      "************************************ sod ****************************\n",
      "\n",
      "{4.5, nan, nan, nan, nan, nan, nan, nan, nan, nan, nan, nan, nan, nan, nan, nan, nan, nan, nan, nan, nan, 104.0, 111.0, 113.0, 114.0, nan, nan, 115.0, nan, nan, nan, 120.0, 122.0, 124.0, 125.0, 126.0, 127.0, 128.0, 129.0, 130.0, 131.0, 132.0, 133.0, 134.0, 135.0, 136.0, 137.0, 138.0, 139.0, 140.0, 141.0, 142.0, nan, 143.0, nan, nan, 146.0, 147.0, 145.0, nan, nan, nan, 150.0, nan, nan, nan, 163.0, nan, nan, nan, nan, nan, nan, nan, nan, nan, nan, nan, 144.0, nan, nan, nan, nan, nan, nan, nan, nan, nan, nan, nan, nan, nan, nan, nan, nan, nan, nan, nan, nan, nan, nan, nan, nan, nan, nan, nan, nan, nan, nan, nan, nan, nan, nan, nan, nan, nan, nan, nan, nan, nan, nan}\n",
      "\n",
      "************************************ pot ****************************\n",
      "\n",
      "{2.5, 3.2, 4.0, 3.7, 4.2, 5.8, 3.4, 6.4, 4.9, 4.1, 4.3, nan, 5.2, 6.6, 3.5, 3.0, nan, nan, 4.5, 5.5, nan, 5.0, nan, 6.5, nan, 39.0, 47.0, nan, nan, nan, nan, nan, nan, nan, nan, nan, nan, nan, nan, nan, nan, nan, nan, nan, nan, nan, nan, nan, nan, 2.9, nan, nan, 3.9, nan, nan, nan, nan, nan, nan, nan, nan, 4.4, nan, 5.9, 5.4, nan, nan, nan, nan, nan, nan, nan, nan, nan, 2.8, 3.8, nan, 3.3, 4.8, 5.3, 6.3, nan, nan, nan, nan, nan, nan, nan, nan, nan, nan, 2.7, nan, 4.7, 5.7, nan, nan, nan, nan, nan, nan, nan, nan, nan, nan, nan, 4.6, nan, 5.1, 5.6, nan, nan, 7.6, nan, nan, 3.6, nan, nan, nan, nan, nan, nan, nan, nan, nan, nan, nan, nan}\n",
      "\n",
      "************************************ hemo ****************************\n",
      "\n",
      "{3.1, 4.8, 5.6, 6.6, 7.6, 7.7, 9.6, 10.8, 11.2, 11.3, 11.6, 12.2, 15.4, 12.4, 9.5, 9.4, 12.6, 12.1, 12.7, nan, 15.0, 16.1, 17.0, 5.5, 6.0, nan, 7.5, nan, nan, 8.0, 8.5, 9.0, 10.0, 10.5, nan, 11.0, 11.5, 12.5, 12.0, nan, 13.0, 13.5, 14.0, 14.5, 15.5, nan, 16.5, 16.4, nan, 16.9, 16.0, 16.6, nan, 17.1, 17.4, 17.5, 17.6, nan, nan, nan, nan, nan, nan, nan, nan, nan, nan, nan, nan, nan, nan, 7.9, 8.4, 9.9, 10.4, 10.9, 11.9, 11.4, 12.9, 13.9, 13.4, 14.4, 14.9, nan, 15.9, nan, nan, 5.8, nan, 6.8, 6.3, 7.3, nan, nan, nan, nan, 8.3, 8.2, 8.7, 8.8, nan, 9.7, 9.8, 9.3, 9.2, 10.3, 10.2, nan, 10.7, 11.8, 11.7, 12.3, 12.8, nan, 13.2, 13.8, 13.7, 13.3, 14.3, 14.2, 14.8, 14.7, 15.2, 15.7, 15.8, 15.3, 16.2, 16.3, 16.7, 16.8, 17.2, 17.3, 17.7, 17.8, 6.2, nan, nan, nan, nan, nan, nan, nan, nan, nan, 6.1, nan, 7.1, nan, 8.6, 8.1, 9.1, 10.1, 10.6, 11.1, nan, nan, 13.6, 13.1, 14.1, 14.6, nan, 15.6, 15.1, nan, nan, nan, nan}\n",
      "\n",
      "************************************ pcv ****************************\n",
      "\n",
      "{'45', '44', '48', nan, '46', '17', '14', '38', '\\t43', '31', '52', '23', '9', '33', '42', '27', '18', '43', '35', '20', '22', '15', '50', '\\t?', '36', '30', '54', '34', '19', '49', '51', '37', '41', '39', '40', '32', '26', '29', '53', '21', '47', '28', '24', '25', '16'}\n",
      "\n",
      "************************************ wc ****************************\n",
      "\n",
      "{'21600', '9400', '9900', '7000', '8800', '4200', '4700', '12000', '6000', '9800', '9000', '5000', '4100', '7500', '5600', '10500', '8100', '7100', '15700', '6400', '10700', '13600', '6200', nan, '12400', '6600', '19100', '6700', '6500', '9500', '7400', '5100', '26400', '12800', '9300', '7200', '2200', '12300', '\\t?', '9600', '12200', '12700', '11900', '6900', '5300', '10300', '11300', '13200', '11000', '10400', '10200', '6300', '10800', '\\t6200', '9200', '16700', '7300', '5500', '11400', '10900', '14900', '8400', '8000', '5700', '12100', '8200', '6800', '18900', '\\t8400', '14600', '4500', '11200', '11500', '8300', '5400', '11800', '15200', '2600', '5800', '7800', '8500', '5900', '16300', '12500', '3800', '8600', '4300', '5200', '4900', '7700', '9100', '9700', '7900'}\n",
      "\n",
      "************************************ rc ****************************\n",
      "\n",
      "{'6.5', '3.7', '3.2', '4.3', '2.1', '3.6', '5.8', '8.0', '5.9', '4', nan, '2.6', '2.8', '3.8', '4.7', '2.4', '6.1', '6.3', '5.7', '3.3', '3.0', '6.0', '5.0', '4.0', '5.4', '2.9', '6.4', '5', '4.6', '3.5', '5.6', '3.9', '2.7', '4.8', '3.1', '4.2', '3.4', '\\t?', '2.5', '4.5', '4.4', '2.3', '5.1', '3', '5.3', '4.1', '4.9', '5.5', '6.2', '5.2'}\n",
      "\n",
      "************************************ htn ****************************\n",
      "\n",
      "{nan, 'no', 'yes'}\n",
      "\n",
      "************************************ dm ****************************\n",
      "\n",
      "{'\\tno', ' yes', nan, 'yes', '\\tyes', 'no'}\n",
      "\n",
      "************************************ cad ****************************\n",
      "\n",
      "{nan, 'no', '\\tno', 'yes'}\n",
      "\n",
      "************************************ appet ****************************\n",
      "\n",
      "{nan, 'good', 'poor'}\n",
      "\n",
      "************************************ pe ****************************\n",
      "\n",
      "{nan, 'no', 'yes'}\n",
      "\n",
      "************************************ ane ****************************\n",
      "\n",
      "{nan, 'no', 'yes'}\n",
      "\n",
      "************************************ classification ****************************\n",
      "\n",
      "{'ckd', 'ckd\\t', 'notckd'}\n",
      "\n"
     ]
    }
   ],
   "source": [
    "# Finding the unique values in the given columns\n",
    "for i in df.columns:\n",
    "    print(\"************************************\", i ,  \"****************************\")\n",
    "    print()\n",
    "    print(set(df[i].tolist()))\n",
    "    print()"
   ]
  },
  {
   "cell_type": "code",
   "execution_count": 22,
   "id": "ede6e148-c62b-44cf-b81e-2c4249651dca",
   "metadata": {},
   "outputs": [
    {
     "name": "stdout",
     "output_type": "stream",
     "text": [
      "id                  int64\n",
      "age               float64\n",
      "bp                float64\n",
      "sg                float64\n",
      "al                float64\n",
      "su                float64\n",
      "rbc                object\n",
      "pc                 object\n",
      "pcc                object\n",
      "ba                 object\n",
      "bgr               float64\n",
      "bu                float64\n",
      "sc                float64\n",
      "sod               float64\n",
      "pot               float64\n",
      "hemo              float64\n",
      "pcv                object\n",
      "wc                 object\n",
      "rc                 object\n",
      "htn                object\n",
      "dm                 object\n",
      "cad                object\n",
      "appet              object\n",
      "pe                 object\n",
      "ane                object\n",
      "classification     object\n",
      "dtype: object\n"
     ]
    }
   ],
   "source": [
    "df.dtypes"
   ]
  },
  {
   "cell_type": "code",
   "execution_count": 23,
   "id": "0f89542a-d464-4885-89df-f98dca8e3489",
   "metadata": {},
   "outputs": [],
   "source": [
    "df['pcv'] = df['pcv'].apply(lambda x:'43' if x=='\\t43' else x) # This line replaces any instance of '\\t43' (which is '43' with a tab character at the beginning) with '43'.\n",
    "df['pcv'] = df['pcv'].apply(lambda x:'41' if x=='\\t?' else x) # Similarly, this line replaces '\\t?' with '41'"
   ]
  },
  {
   "cell_type": "code",
   "execution_count": 24,
   "id": "da3238b9-5e1d-4685-83a5-6eaefcae307b",
   "metadata": {},
   "outputs": [],
   "source": [
    "df['wc'] = df['wc'].apply(lambda x:'6200' if x=='\\t6200' else x)\n",
    "df['wc'] = df['wc'].apply(lambda x:'8400' if x=='\\t8400' else x)\n",
    "df['wc'] = df['wc'].apply(lambda x:'9800' if x=='\\t?' else x)"
   ]
  },
  {
   "cell_type": "code",
   "execution_count": 25,
   "id": "369cfcff-eb40-42f5-a9f9-95b775a17125",
   "metadata": {},
   "outputs": [
    {
     "data": {
      "text/plain": [
       "'41'"
      ]
     },
     "execution_count": 25,
     "metadata": {},
     "output_type": "execute_result"
    }
   ],
   "source": [
    "df['pcv'].mode()[0] #is used to find the most frequent (mode) value in the 'pcv' column of the DataFrame df"
   ]
  },
  {
   "cell_type": "code",
   "execution_count": 26,
   "id": "3b504960-9cca-42a7-8c73-c31096ec58f1",
   "metadata": {},
   "outputs": [],
   "source": [
    "df['rc'] = df['rc'].apply(lambda x:'5.2' if x=='\\t?' else x)"
   ]
  },
  {
   "cell_type": "code",
   "execution_count": 27,
   "id": "a34f0b1f-0208-4df6-95c4-df03b03d72c6",
   "metadata": {},
   "outputs": [],
   "source": [
    "df['classification'] = df['classification'].apply(lambda x:'ckd' if x=='ckd\\t' else x)"
   ]
  },
  {
   "cell_type": "code",
   "execution_count": 28,
   "id": "551f1f09-9e61-4061-bc5c-fffcd9cf92f0",
   "metadata": {},
   "outputs": [],
   "source": [
    "df['cad'] = df['cad'].apply(lambda x:'no' if x=='\\tno' else x) # If the value is exactly '\\tno' (i.e. 'no' with a tab character at the beginning), Then replace it with 'no' (without the tab),"
   ]
  },
  {
   "cell_type": "code",
   "execution_count": 29,
   "id": "ac39625c-1ef3-46ad-959f-65de956b8e95",
   "metadata": {},
   "outputs": [],
   "source": [
    "df['dm'] = df['dm'].apply(lambda x:'yes' if x=='\\tyes' else x)\n",
    "df['dm'] = df['dm'].apply(lambda x:'no' if x=='\\tno' else x)\n",
    "df['dm'] = df['dm'].apply(lambda x:'yes' if x==' yes' else x)"
   ]
  },
  {
   "cell_type": "code",
   "execution_count": 33,
   "id": "de2ddee3-4906-468e-a761-0fdf27237a39",
   "metadata": {},
   "outputs": [],
   "source": [
    "for i in df.select_dtypes(exclude=[\"object\"]).columns: # is ensuring that all non-object (i.e., typically numeric) columns in the DataFrame df have their values converted to float type.\n",
    "    df[i]=df[i].apply(lambda x:float(x))"
   ]
  },
  {
   "cell_type": "code",
   "execution_count": 35,
   "id": "4455cf18-ca92-450e-9d41-2ec49e7933b7",
   "metadata": {},
   "outputs": [
    {
     "name": "stdout",
     "output_type": "stream",
     "text": [
      "************************************ id ****************************\n",
      "\n",
      "{0.0, 1.0, 2.0, 3.0, 4.0, 5.0, 6.0, 7.0, 8.0, 9.0, 10.0, 11.0, 12.0, 13.0, 14.0, 15.0, 16.0, 17.0, 18.0, 19.0, 20.0, 21.0, 22.0, 23.0, 24.0, 25.0, 26.0, 27.0, 28.0, 29.0, 30.0, 31.0, 32.0, 33.0, 34.0, 35.0, 36.0, 37.0, 38.0, 39.0, 40.0, 41.0, 42.0, 43.0, 44.0, 45.0, 46.0, 47.0, 48.0, 49.0, 50.0, 51.0, 52.0, 53.0, 54.0, 55.0, 56.0, 57.0, 58.0, 59.0, 60.0, 61.0, 62.0, 63.0, 64.0, 65.0, 66.0, 67.0, 68.0, 69.0, 70.0, 71.0, 72.0, 73.0, 74.0, 75.0, 76.0, 77.0, 78.0, 79.0, 80.0, 81.0, 82.0, 83.0, 84.0, 85.0, 86.0, 87.0, 88.0, 89.0, 90.0, 91.0, 92.0, 93.0, 94.0, 95.0, 96.0, 97.0, 98.0, 99.0, 100.0, 101.0, 102.0, 103.0, 104.0, 105.0, 106.0, 107.0, 108.0, 109.0, 110.0, 111.0, 112.0, 113.0, 114.0, 115.0, 116.0, 117.0, 118.0, 119.0, 120.0, 121.0, 122.0, 123.0, 124.0, 125.0, 126.0, 127.0, 128.0, 129.0, 130.0, 131.0, 132.0, 133.0, 134.0, 135.0, 136.0, 137.0, 138.0, 139.0, 140.0, 141.0, 142.0, 143.0, 144.0, 145.0, 146.0, 147.0, 148.0, 149.0, 150.0, 151.0, 152.0, 153.0, 154.0, 155.0, 156.0, 157.0, 158.0, 159.0, 160.0, 161.0, 162.0, 163.0, 164.0, 165.0, 166.0, 167.0, 168.0, 169.0, 170.0, 171.0, 172.0, 173.0, 174.0, 175.0, 176.0, 177.0, 178.0, 179.0, 180.0, 181.0, 182.0, 183.0, 184.0, 185.0, 186.0, 187.0, 188.0, 189.0, 190.0, 191.0, 192.0, 193.0, 194.0, 195.0, 196.0, 197.0, 198.0, 199.0, 200.0, 201.0, 202.0, 203.0, 204.0, 205.0, 206.0, 207.0, 208.0, 209.0, 210.0, 211.0, 212.0, 213.0, 214.0, 215.0, 216.0, 217.0, 218.0, 219.0, 220.0, 221.0, 222.0, 223.0, 224.0, 225.0, 226.0, 227.0, 228.0, 229.0, 230.0, 231.0, 232.0, 233.0, 234.0, 235.0, 236.0, 237.0, 238.0, 239.0, 240.0, 241.0, 242.0, 243.0, 244.0, 245.0, 246.0, 247.0, 248.0, 249.0, 250.0, 251.0, 252.0, 253.0, 254.0, 255.0, 256.0, 257.0, 258.0, 259.0, 260.0, 261.0, 262.0, 263.0, 264.0, 265.0, 266.0, 267.0, 268.0, 269.0, 270.0, 271.0, 272.0, 273.0, 274.0, 275.0, 276.0, 277.0, 278.0, 279.0, 280.0, 281.0, 282.0, 283.0, 284.0, 285.0, 286.0, 287.0, 288.0, 289.0, 290.0, 291.0, 292.0, 293.0, 294.0, 295.0, 296.0, 297.0, 298.0, 299.0, 300.0, 301.0, 302.0, 303.0, 304.0, 305.0, 306.0, 307.0, 308.0, 309.0, 310.0, 311.0, 312.0, 313.0, 314.0, 315.0, 316.0, 317.0, 318.0, 319.0, 320.0, 321.0, 322.0, 323.0, 324.0, 325.0, 326.0, 327.0, 328.0, 329.0, 330.0, 331.0, 332.0, 333.0, 334.0, 335.0, 336.0, 337.0, 338.0, 339.0, 340.0, 341.0, 342.0, 343.0, 344.0, 345.0, 346.0, 347.0, 348.0, 349.0, 350.0, 351.0, 352.0, 353.0, 354.0, 355.0, 356.0, 357.0, 358.0, 359.0, 360.0, 361.0, 362.0, 363.0, 364.0, 365.0, 366.0, 367.0, 368.0, 369.0, 370.0, 371.0, 372.0, 373.0, 374.0, 375.0, 376.0, 377.0, 378.0, 379.0, 380.0, 381.0, 382.0, 383.0, 384.0, 385.0, 386.0, 387.0, 388.0, 389.0, 390.0, 391.0, 392.0, 393.0, 394.0, 395.0, 396.0, 397.0, 398.0, 399.0}\n",
      "\n",
      "************************************ age ****************************\n",
      "\n",
      "{2.0, 3.0, 4.0, 5.0, 6.0, 7.0, 8.0, 11.0, 12.0, 14.0, 15.0, 17.0, 19.0, 20.0, 21.0, 22.0, 23.0, 24.0, 25.0, 26.0, 27.0, 28.0, 29.0, 30.0, 32.0, 33.0, 34.0, 35.0, 36.0, 37.0, 38.0, 39.0, 40.0, 41.0, 42.0, 43.0, 44.0, 45.0, 46.0, 47.0, 48.0, nan, 50.0, 51.0, 52.0, 53.0, 54.0, 55.0, 56.0, 57.0, 58.0, 59.0, 60.0, 61.0, 62.0, 63.0, 64.0, 65.0, 66.0, 67.0, 68.0, 69.0, 70.0, 71.0, 72.0, 73.0, 74.0, 75.0, 76.0, 78.0, 79.0, 80.0, 81.0, 82.0, 83.0, 90.0, nan, nan, nan, nan, nan, nan, 49.0, nan, nan}\n",
      "\n",
      "************************************ bp ****************************\n",
      "\n",
      "{nan, 140.0, nan, nan, nan, nan, nan, 50.0, 180.0, nan, nan, 60.0, 70.0, nan, 80.0, 90.0, nan, 100.0, nan, 110.0, nan, 120.0}\n",
      "\n",
      "************************************ sg ****************************\n",
      "\n",
      "{1.02, 1.005, 1.015, 1.01, 1.025, nan, nan, nan, nan, nan, nan, nan, nan, nan, nan, nan, nan, nan, nan, nan, nan, nan, nan, nan, nan, nan, nan, nan, nan, nan, nan, nan, nan, nan, nan, nan, nan, nan, nan, nan, nan, nan, nan, nan, nan, nan, nan, nan, nan, nan, nan, nan}\n",
      "\n",
      "************************************ al ****************************\n",
      "\n",
      "{0.0, 1.0, 2.0, 3.0, 4.0, 5.0, nan, nan, nan, nan, nan, nan, nan, nan, nan, nan, nan, nan, nan, nan, nan, nan, nan, nan, nan, nan, nan, nan, nan, nan, nan, nan, nan, nan, nan, nan, nan, nan, nan, nan, nan, nan, nan, nan, nan, nan, nan, nan, nan, nan, nan, nan}\n",
      "\n",
      "************************************ su ****************************\n",
      "\n",
      "{0.0, 1.0, 2.0, 3.0, 4.0, 5.0, nan, nan, nan, nan, nan, nan, nan, nan, nan, nan, nan, nan, nan, nan, nan, nan, nan, nan, nan, nan, nan, nan, nan, nan, nan, nan, nan, nan, nan, nan, nan, nan, nan, nan, nan, nan, nan, nan, nan, nan, nan, nan, nan, nan, nan, nan, nan, nan, nan}\n",
      "\n",
      "************************************ rbc ****************************\n",
      "\n",
      "{nan, 'abnormal', 'normal'}\n",
      "\n",
      "************************************ pc ****************************\n",
      "\n",
      "{nan, 'abnormal', 'normal'}\n",
      "\n",
      "************************************ pcc ****************************\n",
      "\n",
      "{'present', nan, 'notpresent'}\n",
      "\n",
      "************************************ ba ****************************\n",
      "\n",
      "{'present', nan, 'notpresent'}\n",
      "\n",
      "************************************ bgr ****************************\n",
      "\n",
      "{103.0, nan, nan, 22.0, nan, nan, nan, 113.0, nan, nan, 70.0, nan, 116.0, nan, 74.0, nan, 76.0, nan, 78.0, 79.0, 80.0, 81.0, 82.0, 83.0, 84.0, 85.0, 86.0, 119.0, 88.0, 89.0, 90.0, 91.0, 92.0, 93.0, 94.0, 95.0, 120.0, nan, 98.0, 99.0, 100.0, 101.0, 102.0, nan, 104.0, 105.0, 106.0, 107.0, 108.0, 109.0, 110.0, nan, 112.0, nan, 114.0, 115.0, 111.0, 117.0, nan, nan, 118.0, 121.0, 122.0, 123.0, 124.0, nan, 125.0, 127.0, 128.0, 129.0, 130.0, 131.0, 132.0, 133.0, 134.0, nan, 137.0, 138.0, 139.0, 140.0, 141.0, 143.0, 144.0, nan, 146.0, 148.0, nan, 150.0, 153.0, nan, 156.0, 157.0, 158.0, 159.0, 160.0, nan, 162.0, 163.0, nan, 165.0, nan, 169.0, 171.0, 172.0, 173.0, 176.0, 182.0, 184.0, 192.0, nan, nan, nan, 204.0, nan, nan, 207.0, 208.0, 201.0, 210.0, 203.0, nan, 214.0, 213.0, 215.0, 219.0, 220.0, nan, 224.0, 226.0, 230.0, 233.0, 234.0, 238.0, 239.0, 241.0, 242.0, nan, 246.0, 248.0, 250.0, 251.0, 252.0, 253.0, 255.0, 256.0, 261.0, 263.0, 264.0, 268.0, 269.0, 270.0, 273.0, 280.0, 288.0, 294.0, 295.0, 297.0, 298.0, 303.0, 307.0, 308.0, 309.0, 323.0, 341.0, nan, 352.0, nan, 360.0, nan, nan, 75.0, 380.0, 410.0, 415.0, nan, 423.0, 424.0, 425.0, nan, nan, 87.0, nan, 447.0, nan, 463.0, nan, 96.0, 97.0, 490.0, nan}\n",
      "\n",
      "************************************ bu ****************************\n",
      "\n",
      "{1.5, nan, 10.0, nan, 15.0, 16.0, 17.0, 18.0, 19.0, 20.0, 21.0, 22.0, 23.0, 24.0, 25.0, 26.0, 27.0, 28.0, 29.0, 30.0, 31.0, 32.0, 33.0, 34.0, 35.0, 36.0, 37.0, 38.0, 39.0, 40.0, 41.0, 42.0, nan, 44.0, 45.0, 46.0, 47.0, 48.0, 49.0, 50.0, 51.0, 52.0, 53.0, 54.0, 55.0, 56.0, 50.1, 58.0, 57.0, 60.0, 61.0, 64.0, 65.0, 66.0, nan, 68.0, 67.0, 70.0, 71.0, 72.0, 73.0, 74.0, 75.0, 76.0, 77.0, 79.0, 80.0, 82.0, nan, 85.0, 86.0, 87.0, 88.0, 89.0, 90.0, 92.0, 93.0, 94.0, 95.0, 96.0, 98.0, 98.6, 103.0, 106.0, 107.0, 111.0, 113.0, 114.0, 115.0, 118.0, 125.0, 132.0, 133.0, nan, 137.0, 139.0, 142.0, nan, 145.0, 146.0, 148.0, 150.0, 153.0, 155.0, 158.0, nan, 162.0, 163.0, 164.0, 165.0, 166.0, 176.0, 180.0, 186.0, 191.0, nan, 202.0, nan, nan, 208.0, 215.0, 217.0, 219.0, 223.0, nan, 235.0, 241.0, nan, 309.0, nan, 322.0, nan, nan, nan, nan, 391.0, nan}\n",
      "\n",
      "************************************ sc ****************************\n",
      "\n",
      "{0.8, 1.2, 1.4, 3.8, 1.8, 1.1, 1.9, 7.2, 4.0, 2.7, 2.1, 4.6, 4.1, 9.6, 5.2, 7.7, 7.3, 2.5, 2.0, 10.8, 3.0, 3.25, nan, 15.0, 24.0, nan, 18.0, 18.1, 1.5, 1.0, 32.0, 6.5, 0.5, 6.0, 7.5, 8.5, 48.1, 11.5, nan, 12.0, 13.0, 13.5, nan, 76.0, 16.9, 16.4, nan, 2.4, 2.9, 3.9, 3.4, nan, 4.4, 5.9, nan, 6.4, nan, 11.9, 13.4, 2.8, 2.3, 3.3, 4.3, 1.3, nan, 5.3, 6.3, 6.8, nan, 0.6, nan, 0.9, 0.4, nan, 9.7, 9.2, 9.3, 0.7, 10.2, 1.7, 11.8, 12.2, 12.8, 13.8, 13.3, 14.2, 2.2, 15.2, 3.2, 6.7, nan, 5.6, 6.1, nan, 7.1, 1.6, 2.6, 3.6, nan, nan, nan}\n",
      "\n",
      "************************************ sod ****************************\n",
      "\n",
      "{nan, 4.5, nan, nan, nan, nan, nan, nan, nan, nan, nan, nan, nan, nan, nan, nan, nan, nan, nan, nan, nan, nan, nan, nan, nan, nan, nan, nan, nan, nan, nan, nan, nan, nan, nan, 104.0, nan, nan, nan, 111.0, 113.0, 114.0, 115.0, 120.0, 122.0, nan, 124.0, 125.0, 126.0, 127.0, 128.0, 129.0, 130.0, 131.0, 132.0, 133.0, 134.0, 135.0, 136.0, nan, 138.0, 139.0, 140.0, 141.0, 142.0, 137.0, 143.0, 145.0, 146.0, 147.0, 144.0, 150.0, nan, nan, nan, nan, nan, 163.0, nan, nan, nan, nan, nan, nan, nan, nan, nan, nan, nan, nan, nan, nan, nan, nan, nan, nan, nan, nan, nan, nan, nan, nan, nan, nan, nan, nan, nan, nan, nan, nan, nan, nan, nan, nan, nan, nan, nan, nan, nan, nan, nan}\n",
      "\n",
      "************************************ pot ****************************\n",
      "\n",
      "{2.5, 3.2, 4.0, 3.7, 4.2, 5.8, 3.4, 6.4, 4.9, 4.1, 4.3, 5.2, 5.9, 6.6, 3.5, 3.0, nan, nan, 4.5, nan, nan, nan, 5.5, 5.0, nan, nan, 6.5, nan, nan, 39.0, nan, nan, nan, 47.0, nan, nan, nan, nan, nan, nan, nan, nan, nan, nan, nan, nan, nan, nan, nan, nan, nan, 2.9, 3.9, nan, nan, nan, nan, 4.4, nan, 5.4, nan, nan, nan, nan, nan, nan, nan, nan, nan, nan, nan, nan, nan, nan, nan, nan, nan, nan, 2.8, nan, 3.8, 3.3, 4.8, nan, 5.3, 6.3, nan, nan, nan, nan, nan, nan, nan, nan, nan, nan, nan, nan, nan, nan, 2.7, nan, 4.7, nan, 5.7, nan, nan, nan, nan, nan, nan, nan, 4.6, 5.1, 5.6, 7.6, nan, nan, nan, 3.6, nan, nan, nan, nan, nan, nan, nan, nan}\n",
      "\n",
      "************************************ hemo ****************************\n",
      "\n",
      "{3.1, 4.8, 5.6, 6.6, 7.6, 7.7, 9.6, 10.8, 11.2, 11.3, 11.6, 12.2, 15.4, 12.4, 9.5, 9.4, 12.6, 12.1, 12.7, 13.0, 15.0, 16.1, nan, 5.5, nan, 6.0, nan, 7.5, nan, 8.0, 8.5, 9.0, 10.0, 10.5, nan, nan, nan, 11.0, 11.5, nan, 12.5, 12.0, nan, 13.5, nan, nan, 14.0, 14.5, nan, nan, 15.5, nan, 16.5, 16.4, 16.9, 16.0, 16.6, 17.0, nan, 17.1, 17.4, 17.5, 17.6, nan, nan, nan, nan, nan, nan, nan, nan, nan, 7.9, nan, 8.4, nan, 9.9, 10.4, 10.9, nan, 11.9, 11.4, nan, 12.9, 13.9, 13.4, nan, 14.4, 14.9, 15.9, nan, 5.8, 6.8, 6.3, nan, nan, 7.3, nan, nan, nan, nan, nan, 8.3, 8.2, 8.7, 8.8, 9.7, 9.8, 9.3, 9.2, 10.3, 10.2, 10.7, 11.8, 11.7, nan, 12.3, 12.8, 13.2, 13.8, 13.7, 13.3, 14.3, 14.2, 14.8, 14.7, 15.2, 15.7, 15.8, nan, 15.3, 16.2, 16.3, 16.7, 16.8, 17.2, 17.3, 17.7, 17.8, 6.2, nan, nan, 6.1, nan, nan, 7.1, 8.6, 8.1, 9.1, nan, 10.1, 10.6, 11.1, nan, nan, 13.6, 13.1, 14.1, 14.6, 15.6, 15.1, nan, nan, nan, nan, nan, nan}\n",
      "\n",
      "************************************ pcv ****************************\n",
      "\n",
      "{'45', '44', '48', nan, '46', '17', '14', '38', '31', '52', '23', '9', '33', '42', '27', '18', '43', '35', '20', '22', '15', '50', '36', '30', '54', '34', '19', '49', '51', '37', '41', '39', '40', '32', '26', '29', '53', '21', '47', '28', '24', '25', '16'}\n",
      "\n",
      "************************************ wc ****************************\n",
      "\n",
      "{'21600', '9400', '9900', '7000', '8800', '4200', '4700', '12000', '6000', '9800', '9000', '5000', '4100', '7500', '5600', '10500', '8100', '7100', '15700', '6400', '10700', '13600', '6200', nan, '12400', '6600', '19100', '6700', '6500', '9500', '7400', '5100', '26400', '12800', '9300', '7200', '2200', '12300', '9600', '12200', '12700', '11900', '6900', '5300', '10300', '11300', '13200', '11000', '10400', '10200', '6300', '10800', '9200', '16700', '7300', '5500', '11400', '10900', '14900', '8400', '8000', '5700', '12100', '8200', '6800', '18900', '14600', '4500', '11200', '11500', '8300', '5400', '11800', '15200', '2600', '5800', '7800', '8500', '5900', '16300', '12500', '3800', '8600', '4300', '5200', '4900', '7700', '9100', '9700', '7900'}\n",
      "\n",
      "************************************ rc ****************************\n",
      "\n",
      "{'6.5', '3.7', '3.2', '4.3', '2.1', '3.6', '5.8', '8.0', '5.9', '4', nan, '2.6', '2.8', '3.8', '4.7', '2.4', '6.1', '6.3', '5.7', '3.3', '3.0', '6.0', '5.0', '4.0', '5.4', '2.9', '6.4', '5', '4.6', '3.5', '5.6', '3.9', '2.7', '4.8', '3.1', '4.2', '3.4', '2.5', '4.5', '4.4', '2.3', '5.1', '3', '5.3', '4.1', '4.9', '5.5', '6.2', '5.2'}\n",
      "\n",
      "************************************ htn ****************************\n",
      "\n",
      "{nan, 'no', 'yes'}\n",
      "\n",
      "************************************ dm ****************************\n",
      "\n",
      "{nan, 'no', 'yes'}\n",
      "\n",
      "************************************ cad ****************************\n",
      "\n",
      "{nan, 'no', 'yes'}\n",
      "\n",
      "************************************ appet ****************************\n",
      "\n",
      "{nan, 'good', 'poor'}\n",
      "\n",
      "************************************ pe ****************************\n",
      "\n",
      "{nan, 'no', 'yes'}\n",
      "\n",
      "************************************ ane ****************************\n",
      "\n",
      "{nan, 'no', 'yes'}\n",
      "\n",
      "************************************ classification ****************************\n",
      "\n",
      "{'ckd', 'notckd'}\n",
      "\n"
     ]
    }
   ],
   "source": [
    "# Finding the unique values in the given columns\n",
    "for i in df.columns:\n",
    "    print(\"************************************\", i ,  \"****************************\")\n",
    "    print()\n",
    "    print(set(df[i].tolist()))\n",
    "    print()"
   ]
  },
  {
   "cell_type": "code",
   "execution_count": 36,
   "id": "0a6ef42a-a4ef-4fd8-9522-2e2bea5ca161",
   "metadata": {},
   "outputs": [
    {
     "name": "stdout",
     "output_type": "stream",
     "text": [
      "id                float64\n",
      "age               float64\n",
      "bp                float64\n",
      "sg                float64\n",
      "al                float64\n",
      "su                float64\n",
      "rbc                object\n",
      "pc                 object\n",
      "pcc                object\n",
      "ba                 object\n",
      "bgr               float64\n",
      "bu                float64\n",
      "sc                float64\n",
      "sod               float64\n",
      "pot               float64\n",
      "hemo              float64\n",
      "pcv                object\n",
      "wc                 object\n",
      "rc                 object\n",
      "htn                object\n",
      "dm                 object\n",
      "cad                object\n",
      "appet              object\n",
      "pe                 object\n",
      "ane                object\n",
      "classification     object\n",
      "dtype: object\n"
     ]
    }
   ],
   "source": [
    "df.dtypes"
   ]
  },
  {
   "cell_type": "code",
   "execution_count": 37,
   "id": "3c569a83-284f-4955-818d-b67d2ef48bf5",
   "metadata": {},
   "outputs": [
    {
     "name": "stdout",
     "output_type": "stream",
     "text": [
      "41\n",
      "\n",
      "9800\n",
      "\n",
      "5.2\n"
     ]
    }
   ],
   "source": [
    "print(df['pcv'].mode()[0]) #It prints the most frequent (mode) value from three columns of the DataFrame df: 'pcv', 'wc', and 'rc'.\n",
    "print()\n",
    "print(df['wc'].mode()[0])\n",
    "print()\n",
    "print(df['rc'].mode()[0])"
   ]
  },
  {
   "cell_type": "code",
   "execution_count": 40,
   "id": "5df9b881-8598-415f-a0a7-46a186369aec",
   "metadata": {},
   "outputs": [],
   "source": [
    "df['pcv'] = df['pcv'].fillna(df['pcv'].mode()[0])# This code fills missing values (NaN) in three columns of the DataFrame df — namely 'pcv', 'wc', \n",
    "df['wc'] = df['wc'].fillna(df['wc'].mode()[0])# and 'rc' — using the most frequent (mode) value of each column.\n",
    "df['rc'] = df['rc'].fillna(df['rc'].mode()[0])"
   ]
  },
  {
   "cell_type": "code",
   "execution_count": 41,
   "id": "5df053d4-3bca-421e-8009-4e2431675cb8",
   "metadata": {},
   "outputs": [],
   "source": [
    "df['pcv'] = df['pcv'].astype('int64')# Converts the 'pcv' column to 64-bit integer type. Useful when all values are whole numbers (e.g., 41, 43).\n",
    "df['wc'] = df['wc'].astype('int64') # Converts the 'wc' (white blood cell count) column to 64-bit integer. Again, appropriate if the WBC values are whole numbers like 7500, 8400, etc.\n",
    "df['rc'] = df['rc'].astype('float64')# Converts the 'rc' (red blood cell count) column to 64-bit float type. This is suitable because RBC counts often include decimals, like 4.5, 5.2, etc"
   ]
  },
  {
   "cell_type": "code",
   "execution_count": 42,
   "id": "e0a4bc7b-54a3-4ecf-ad83-a264cc76eddb",
   "metadata": {},
   "outputs": [
    {
     "name": "stdout",
     "output_type": "stream",
     "text": [
      "Object type Columns :\n",
      "Index(['rbc', 'pc', 'pcc', 'ba', 'htn', 'dm', 'cad', 'appet', 'pe', 'ane',\n",
      "       'classification'],\n",
      "      dtype='object')\n",
      "\n",
      "Numerical type Columns :\n",
      "Index(['id', 'age', 'bp', 'sg', 'al', 'su', 'bgr', 'bu', 'sc', 'sod', 'pot',\n",
      "       'hemo', 'pcv', 'wc', 'rc'],\n",
      "      dtype='object')\n"
     ]
    }
   ],
   "source": [
    "object_columns = df.select_dtypes(include=['object']).columns # Prints the list of object-type column names in the DataFrame.\n",
    "print(\"Object type Columns :\")\n",
    "print(object_columns)\n",
    "\n",
    "\n",
    "numerical_columns = df.select_dtypes(include=['int64','float64']).columns # Prints the list of numerical column names in the DataFrame.\n",
    "print(\"\\nNumerical type Columns :\") #\\n adds a blank line for better formatting in the output.\n",
    "print(numerical_columns)"
   ]
  },
  {
   "cell_type": "code",
   "execution_count": 43,
   "id": "71b9b954-37df-445e-92ca-2a48da93ab60",
   "metadata": {},
   "outputs": [],
   "source": [
    "from sklearn.impute import SimpleImputer # This code uses scikit-learn's SimpleImputer to fill in missing values (NaN) in a DataFrame df, using different strategies for object-type and numerical columns.\n",
    "imp_mode1 = SimpleImputer(missing_values=np.nan, strategy='most_frequent') # missing_values=np.nan: Specifies that NaN is the placeholder for missing data.\n",
    "imp_mode2 = SimpleImputer(missing_values=np.nan, strategy='median')\n",
    "df_imp1 = pd.DataFrame(imp_mode1.fit_transform(df[object_columns])) # Applies imp_mode1 to the object-type columns of df. fit_transform(...):\n",
    "df_imp1.columns = df[object_columns].columns \n",
    "df_imp2 = pd.DataFrame(imp_mode2.fit_transform(df[numerical_columns])) # Applies imp_mode2 to the numerical columns of df, replacing missing values with the median.\n",
    "df_imp2.columns = df[numerical_columns].columns # Wraps the result in a DataFrame df_imp2."
   ]
  },
  {
   "cell_type": "code",
   "execution_count": 44,
   "id": "04f78d49-8302-486c-82dd-743835c41d46",
   "metadata": {},
   "outputs": [
    {
     "data": {
      "text/plain": [
       "Index(['rbc', 'pc', 'pcc', 'ba', 'htn', 'dm', 'cad', 'appet', 'pe', 'ane',\n",
       "       'classification'],\n",
       "      dtype='object')"
      ]
     },
     "execution_count": 44,
     "metadata": {},
     "output_type": "execute_result"
    }
   ],
   "source": [
    "df[object_columns].columns"
   ]
  },
  {
   "cell_type": "code",
   "execution_count": 45,
   "id": "a40686f1-0297-41f7-867e-391d4b620937",
   "metadata": {},
   "outputs": [
    {
     "name": "stdout",
     "output_type": "stream",
     "text": [
      "0\n",
      "\n",
      "0\n"
     ]
    }
   ],
   "source": [
    "print(df_imp1.isnull().sum().sum()) # checking the remaining missing values in 2 cleaned DF. df_imp1 (object columns)\n",
    "print()\n",
    "print(df_imp2.isnull().sum().sum()) # and df_imp2 (numeric columns)"
   ]
  },
  {
   "cell_type": "code",
   "execution_count": 46,
   "id": "32e02d27-b12e-445c-bdc8-20c992ac46ca",
   "metadata": {},
   "outputs": [
    {
     "data": {
      "application/vnd.jupyter.widget-view+json": {
       "model_id": "d353af10fc434aecb18d26346fc3e99c",
       "version_major": 2,
       "version_minor": 0
      },
      "text/plain": [
       "Button(description='Toggle Pandas/Lux', layout=Layout(top='5px', width='140px'), style=ButtonStyle())"
      ]
     },
     "metadata": {},
     "output_type": "display_data"
    },
    {
     "data": {
      "application/vnd.jupyter.widget-view+json": {
       "model_id": "2882613cd56c4e56abdda5e62b106244",
       "version_major": 2,
       "version_minor": 0
      },
      "text/plain": [
       "Output()"
      ]
     },
     "metadata": {},
     "output_type": "display_data"
    }
   ],
   "source": [
    "df_imp1"
   ]
  },
  {
   "cell_type": "code",
   "execution_count": 47,
   "id": "a40a60a7-5df8-4d67-ae39-37dd141a2ea8",
   "metadata": {},
   "outputs": [
    {
     "data": {
      "application/vnd.jupyter.widget-view+json": {
       "model_id": "95354a809a744d5982a90117631bd886",
       "version_major": 2,
       "version_minor": 0
      },
      "text/plain": [
       "Button(description='Toggle Pandas/Lux', layout=Layout(top='5px', width='140px'), style=ButtonStyle())"
      ]
     },
     "metadata": {},
     "output_type": "display_data"
    },
    {
     "data": {
      "application/vnd.jupyter.widget-view+json": {
       "model_id": "f3b2d9f2c1174958a5b4c9958c1c6f83",
       "version_major": 2,
       "version_minor": 0
      },
      "text/plain": [
       "Output()"
      ]
     },
     "metadata": {},
     "output_type": "display_data"
    }
   ],
   "source": [
    "df_imp2"
   ]
  },
  {
   "cell_type": "code",
   "execution_count": 48,
   "id": "24fa3670-d096-4fb1-98ba-050bed1e3bfe",
   "metadata": {},
   "outputs": [
    {
     "data": {
      "application/vnd.jupyter.widget-view+json": {
       "model_id": "8d32609c0b6d4a94837ef9e2d631bb13",
       "version_major": 2,
       "version_minor": 0
      },
      "text/plain": [
       "Button(description='Toggle Pandas/Lux', layout=Layout(top='5px', width='140px'), style=ButtonStyle())"
      ]
     },
     "metadata": {},
     "output_type": "display_data"
    },
    {
     "data": {
      "application/vnd.jupyter.widget-view+json": {
       "model_id": "d423f64c34ca489d9a6d3199f73c3798",
       "version_major": 2,
       "version_minor": 0
      },
      "text/plain": [
       "Output()"
      ]
     },
     "metadata": {},
     "output_type": "display_data"
    }
   ],
   "source": [
    "df_imp1"
   ]
  },
  {
   "cell_type": "code",
   "execution_count": 49,
   "id": "8bd4a2cf-5939-45c9-9011-083a1c572de3",
   "metadata": {},
   "outputs": [
    {
     "data": {
      "application/vnd.jupyter.widget-view+json": {
       "model_id": "52eba1abec7344bfb4aa35742e5db88b",
       "version_major": 2,
       "version_minor": 0
      },
      "text/plain": [
       "Button(description='Toggle Pandas/Lux', layout=Layout(top='5px', width='140px'), style=ButtonStyle())"
      ]
     },
     "metadata": {},
     "output_type": "display_data"
    },
    {
     "data": {
      "application/vnd.jupyter.widget-view+json": {
       "model_id": "34a539fbe78e4a6482d9ed56448f6dcd",
       "version_major": 2,
       "version_minor": 0
      },
      "text/plain": [
       "Output()"
      ]
     },
     "metadata": {},
     "output_type": "display_data"
    }
   ],
   "source": [
    "df_imp2 = df_imp2.iloc[:,1:]# Uses integer-location based indexing (iloc) to select all rows (:) and all columns starting from the second column onward (1:).\n",
    "df_imp2# In other words, it drops the first column of df_imp2. Then, this subset of df_imp2 replaces the original df_imp2.\n",
    "# Sometimes when you create a DataFrame from imputation or transformation, the first column might be an index, ID, or unwanted column."
   ]
  },
  {
   "cell_type": "code",
   "execution_count": 54,
   "id": "4974c511-5c56-48aa-8b8c-dd3a68ee8d3c",
   "metadata": {},
   "outputs": [
    {
     "ename": "IndexError",
     "evalue": "Requested axis not found in manager",
     "output_type": "error",
     "traceback": [
      "\u001b[1;31m---------------------------------------------------------------------------\u001b[0m",
      "\u001b[1;31mIndexError\u001b[0m                                Traceback (most recent call last)",
      "Cell \u001b[1;32mIn[54], line 1\u001b[0m\n\u001b[1;32m----> 1\u001b[0m sns\u001b[38;5;241m.\u001b[39mboxplot(y\u001b[38;5;241m=\u001b[39m\u001b[38;5;124m'\u001b[39m\u001b[38;5;124mage\u001b[39m\u001b[38;5;124m'\u001b[39m, data\u001b[38;5;241m=\u001b[39mdf_imp2)\n",
      "File \u001b[1;32m~\\anaconda3\\Lib\\site-packages\\seaborn\\categorical.py:1619\u001b[0m, in \u001b[0;36mboxplot\u001b[1;34m(data, x, y, hue, order, hue_order, orient, color, palette, saturation, fill, dodge, width, gap, whis, linecolor, linewidth, fliersize, hue_norm, native_scale, log_scale, formatter, legend, ax, **kwargs)\u001b[0m\n\u001b[0;32m   1616\u001b[0m \u001b[38;5;28;01mif\u001b[39;00m p\u001b[38;5;241m.\u001b[39mvar_types\u001b[38;5;241m.\u001b[39mget(p\u001b[38;5;241m.\u001b[39morient) \u001b[38;5;241m==\u001b[39m \u001b[38;5;124m\"\u001b[39m\u001b[38;5;124mcategorical\u001b[39m\u001b[38;5;124m\"\u001b[39m \u001b[38;5;129;01mor\u001b[39;00m \u001b[38;5;129;01mnot\u001b[39;00m native_scale:\n\u001b[0;32m   1617\u001b[0m     p\u001b[38;5;241m.\u001b[39mscale_categorical(p\u001b[38;5;241m.\u001b[39morient, order\u001b[38;5;241m=\u001b[39morder, formatter\u001b[38;5;241m=\u001b[39mformatter)\n\u001b[1;32m-> 1619\u001b[0m p\u001b[38;5;241m.\u001b[39m_attach(ax, log_scale\u001b[38;5;241m=\u001b[39mlog_scale)\n\u001b[0;32m   1621\u001b[0m \u001b[38;5;66;03m# Deprecations to remove in v0.14.0.\u001b[39;00m\n\u001b[0;32m   1622\u001b[0m hue_order \u001b[38;5;241m=\u001b[39m p\u001b[38;5;241m.\u001b[39m_palette_without_hue_backcompat(palette, hue_order)\n",
      "File \u001b[1;32m~\\anaconda3\\Lib\\site-packages\\seaborn\\_base.py:1128\u001b[0m, in \u001b[0;36mVectorPlotter._attach\u001b[1;34m(self, obj, allowed_types, log_scale)\u001b[0m\n\u001b[0;32m   1126\u001b[0m \u001b[38;5;66;03m# Now actually update the matplotlib objects to do the conversion we want\u001b[39;00m\n\u001b[0;32m   1127\u001b[0m grouped \u001b[38;5;241m=\u001b[39m \u001b[38;5;28mself\u001b[39m\u001b[38;5;241m.\u001b[39mplot_data[var]\u001b[38;5;241m.\u001b[39mgroupby(\u001b[38;5;28mself\u001b[39m\u001b[38;5;241m.\u001b[39mconverters[var], sort\u001b[38;5;241m=\u001b[39m\u001b[38;5;28;01mFalse\u001b[39;00m)\n\u001b[1;32m-> 1128\u001b[0m \u001b[38;5;28;01mfor\u001b[39;00m converter, seed_data \u001b[38;5;129;01min\u001b[39;00m grouped:\n\u001b[0;32m   1129\u001b[0m     \u001b[38;5;28;01mif\u001b[39;00m \u001b[38;5;28mself\u001b[39m\u001b[38;5;241m.\u001b[39mvar_types[var] \u001b[38;5;241m==\u001b[39m \u001b[38;5;124m\"\u001b[39m\u001b[38;5;124mcategorical\u001b[39m\u001b[38;5;124m\"\u001b[39m:\n\u001b[0;32m   1130\u001b[0m         \u001b[38;5;28;01mif\u001b[39;00m \u001b[38;5;28mself\u001b[39m\u001b[38;5;241m.\u001b[39m_var_ordered[var]:\n",
      "File \u001b[1;32m~\\anaconda3\\Lib\\site-packages\\pandas\\core\\groupby\\ops.py:620\u001b[0m, in \u001b[0;36mBaseGrouper.get_iterator\u001b[1;34m(self, data, axis)\u001b[0m\n\u001b[0;32m    618\u001b[0m splitter \u001b[38;5;241m=\u001b[39m \u001b[38;5;28mself\u001b[39m\u001b[38;5;241m.\u001b[39m_get_splitter(data, axis\u001b[38;5;241m=\u001b[39maxis)\n\u001b[0;32m    619\u001b[0m keys \u001b[38;5;241m=\u001b[39m \u001b[38;5;28mself\u001b[39m\u001b[38;5;241m.\u001b[39mgroup_keys_seq\n\u001b[1;32m--> 620\u001b[0m \u001b[38;5;28;01myield from\u001b[39;00m \u001b[38;5;28mzip\u001b[39m(keys, splitter)\n",
      "File \u001b[1;32m~\\anaconda3\\Lib\\site-packages\\pandas\\core\\groupby\\ops.py:1160\u001b[0m, in \u001b[0;36mDataSplitter.__iter__\u001b[1;34m(self)\u001b[0m\n\u001b[0;32m   1157\u001b[0m starts, ends \u001b[38;5;241m=\u001b[39m lib\u001b[38;5;241m.\u001b[39mgenerate_slices(\u001b[38;5;28mself\u001b[39m\u001b[38;5;241m.\u001b[39m_slabels, \u001b[38;5;28mself\u001b[39m\u001b[38;5;241m.\u001b[39mngroups)\n\u001b[0;32m   1159\u001b[0m \u001b[38;5;28;01mfor\u001b[39;00m start, end \u001b[38;5;129;01min\u001b[39;00m \u001b[38;5;28mzip\u001b[39m(starts, ends):\n\u001b[1;32m-> 1160\u001b[0m     \u001b[38;5;28;01myield\u001b[39;00m \u001b[38;5;28mself\u001b[39m\u001b[38;5;241m.\u001b[39m_chop(sdata, \u001b[38;5;28mslice\u001b[39m(start, end))\n",
      "File \u001b[1;32m~\\anaconda3\\Lib\\site-packages\\pandas\\core\\groupby\\ops.py:1186\u001b[0m, in \u001b[0;36mFrameSplitter._chop\u001b[1;34m(self, sdata, slice_obj)\u001b[0m\n\u001b[0;32m   1180\u001b[0m \u001b[38;5;28;01mdef\u001b[39;00m \u001b[38;5;21m_chop\u001b[39m(\u001b[38;5;28mself\u001b[39m, sdata: DataFrame, slice_obj: \u001b[38;5;28mslice\u001b[39m) \u001b[38;5;241m-\u001b[39m\u001b[38;5;241m>\u001b[39m DataFrame:\n\u001b[0;32m   1181\u001b[0m     \u001b[38;5;66;03m# Fastpath equivalent to:\u001b[39;00m\n\u001b[0;32m   1182\u001b[0m     \u001b[38;5;66;03m# if self.axis == 0:\u001b[39;00m\n\u001b[0;32m   1183\u001b[0m     \u001b[38;5;66;03m#     return sdata.iloc[slice_obj]\u001b[39;00m\n\u001b[0;32m   1184\u001b[0m     \u001b[38;5;66;03m# else:\u001b[39;00m\n\u001b[0;32m   1185\u001b[0m     \u001b[38;5;66;03m#     return sdata.iloc[:, slice_obj]\u001b[39;00m\n\u001b[1;32m-> 1186\u001b[0m     mgr \u001b[38;5;241m=\u001b[39m sdata\u001b[38;5;241m.\u001b[39m_mgr\u001b[38;5;241m.\u001b[39mget_slice(slice_obj, axis\u001b[38;5;241m=\u001b[39m\u001b[38;5;241m1\u001b[39m \u001b[38;5;241m-\u001b[39m \u001b[38;5;28mself\u001b[39m\u001b[38;5;241m.\u001b[39maxis)\n\u001b[0;32m   1187\u001b[0m     df \u001b[38;5;241m=\u001b[39m sdata\u001b[38;5;241m.\u001b[39m_constructor_from_mgr(mgr, axes\u001b[38;5;241m=\u001b[39mmgr\u001b[38;5;241m.\u001b[39maxes)\n\u001b[0;32m   1188\u001b[0m     \u001b[38;5;28;01mreturn\u001b[39;00m df\u001b[38;5;241m.\u001b[39m__finalize__(sdata, method\u001b[38;5;241m=\u001b[39m\u001b[38;5;124m\"\u001b[39m\u001b[38;5;124mgroupby\u001b[39m\u001b[38;5;124m\"\u001b[39m)\n",
      "File \u001b[1;32m~\\anaconda3\\Lib\\site-packages\\pandas\\core\\internals\\managers.py:1978\u001b[0m, in \u001b[0;36mSingleBlockManager.get_slice\u001b[1;34m(self, slobj, axis)\u001b[0m\n\u001b[0;32m   1974\u001b[0m \u001b[38;5;28;01mdef\u001b[39;00m \u001b[38;5;21mget_slice\u001b[39m(\u001b[38;5;28mself\u001b[39m, slobj: \u001b[38;5;28mslice\u001b[39m, axis: AxisInt \u001b[38;5;241m=\u001b[39m \u001b[38;5;241m0\u001b[39m) \u001b[38;5;241m-\u001b[39m\u001b[38;5;241m>\u001b[39m SingleBlockManager:\n\u001b[0;32m   1975\u001b[0m     \u001b[38;5;66;03m# Assertion disabled for performance\u001b[39;00m\n\u001b[0;32m   1976\u001b[0m     \u001b[38;5;66;03m# assert isinstance(slobj, slice), type(slobj)\u001b[39;00m\n\u001b[0;32m   1977\u001b[0m     \u001b[38;5;28;01mif\u001b[39;00m axis \u001b[38;5;241m>\u001b[39m\u001b[38;5;241m=\u001b[39m \u001b[38;5;28mself\u001b[39m\u001b[38;5;241m.\u001b[39mndim:\n\u001b[1;32m-> 1978\u001b[0m         \u001b[38;5;28;01mraise\u001b[39;00m \u001b[38;5;167;01mIndexError\u001b[39;00m(\u001b[38;5;124m\"\u001b[39m\u001b[38;5;124mRequested axis not found in manager\u001b[39m\u001b[38;5;124m\"\u001b[39m)\n\u001b[0;32m   1980\u001b[0m     blk \u001b[38;5;241m=\u001b[39m \u001b[38;5;28mself\u001b[39m\u001b[38;5;241m.\u001b[39m_block\n\u001b[0;32m   1981\u001b[0m     array \u001b[38;5;241m=\u001b[39m blk\u001b[38;5;241m.\u001b[39mvalues[slobj]\n",
      "\u001b[1;31mIndexError\u001b[0m: Requested axis not found in manager"
     ]
    },
    {
     "data": {
      "image/png": "[encoded data removed]",
      "text/plain": [
       "<Figure size 640x480 with 1 Axes>"
      ]
     },
     "metadata": {},
     "output_type": "display_data"
    }
   ],
   "source": [
    "sns.boxplot(y='age', data=df_imp2)"
   ]
  },
  {
   "cell_type": "code",
   "execution_count": 55,
   "id": "9889cad4-9e0a-4100-b51b-8847b6188ecd",
   "metadata": {},
   "outputs": [
    {
     "ename": "IndexError",
     "evalue": "Requested axis not found in manager",
     "output_type": "error",
     "traceback": [
      "\u001b[1;31m---------------------------------------------------------------------------\u001b[0m",
      "\u001b[1;31mIndexError\u001b[0m                                Traceback (most recent call last)",
      "Cell \u001b[1;32mIn[55], line 7\u001b[0m\n\u001b[0;32m      4\u001b[0m     plt\u001b[38;5;241m.\u001b[39mshow()\n\u001b[0;32m      6\u001b[0m \u001b[38;5;28;01mfor\u001b[39;00m i \u001b[38;5;129;01min\u001b[39;00m \u001b[38;5;28mlist\u001b[39m(df_imp2\u001b[38;5;241m.\u001b[39mselect_dtypes(exclude\u001b[38;5;241m=\u001b[39m[\u001b[38;5;124m'\u001b[39m\u001b[38;5;124mobject\u001b[39m\u001b[38;5;124m'\u001b[39m])\u001b[38;5;241m.\u001b[39mcolumns)[\u001b[38;5;241m0\u001b[39m:]:\n\u001b[1;32m----> 7\u001b[0m     boxplots(i)\n",
      "Cell \u001b[1;32mIn[55], line 3\u001b[0m, in \u001b[0;36mboxplots\u001b[1;34m(col)\u001b[0m\n\u001b[0;32m      2\u001b[0m \u001b[38;5;28;01mdef\u001b[39;00m \u001b[38;5;21mboxplots\u001b[39m(col):\n\u001b[1;32m----> 3\u001b[0m     sns\u001b[38;5;241m.\u001b[39mboxplot(df_imp2[col])\n\u001b[0;32m      4\u001b[0m     plt\u001b[38;5;241m.\u001b[39mshow()\n",
      "File \u001b[1;32m~\\anaconda3\\Lib\\site-packages\\seaborn\\categorical.py:1619\u001b[0m, in \u001b[0;36mboxplot\u001b[1;34m(data, x, y, hue, order, hue_order, orient, color, palette, saturation, fill, dodge, width, gap, whis, linecolor, linewidth, fliersize, hue_norm, native_scale, log_scale, formatter, legend, ax, **kwargs)\u001b[0m\n\u001b[0;32m   1616\u001b[0m \u001b[38;5;28;01mif\u001b[39;00m p\u001b[38;5;241m.\u001b[39mvar_types\u001b[38;5;241m.\u001b[39mget(p\u001b[38;5;241m.\u001b[39morient) \u001b[38;5;241m==\u001b[39m \u001b[38;5;124m\"\u001b[39m\u001b[38;5;124mcategorical\u001b[39m\u001b[38;5;124m\"\u001b[39m \u001b[38;5;129;01mor\u001b[39;00m \u001b[38;5;129;01mnot\u001b[39;00m native_scale:\n\u001b[0;32m   1617\u001b[0m     p\u001b[38;5;241m.\u001b[39mscale_categorical(p\u001b[38;5;241m.\u001b[39morient, order\u001b[38;5;241m=\u001b[39morder, formatter\u001b[38;5;241m=\u001b[39mformatter)\n\u001b[1;32m-> 1619\u001b[0m p\u001b[38;5;241m.\u001b[39m_attach(ax, log_scale\u001b[38;5;241m=\u001b[39mlog_scale)\n\u001b[0;32m   1621\u001b[0m \u001b[38;5;66;03m# Deprecations to remove in v0.14.0.\u001b[39;00m\n\u001b[0;32m   1622\u001b[0m hue_order \u001b[38;5;241m=\u001b[39m p\u001b[38;5;241m.\u001b[39m_palette_without_hue_backcompat(palette, hue_order)\n",
      "File \u001b[1;32m~\\anaconda3\\Lib\\site-packages\\seaborn\\_base.py:1128\u001b[0m, in \u001b[0;36mVectorPlotter._attach\u001b[1;34m(self, obj, allowed_types, log_scale)\u001b[0m\n\u001b[0;32m   1126\u001b[0m \u001b[38;5;66;03m# Now actually update the matplotlib objects to do the conversion we want\u001b[39;00m\n\u001b[0;32m   1127\u001b[0m grouped \u001b[38;5;241m=\u001b[39m \u001b[38;5;28mself\u001b[39m\u001b[38;5;241m.\u001b[39mplot_data[var]\u001b[38;5;241m.\u001b[39mgroupby(\u001b[38;5;28mself\u001b[39m\u001b[38;5;241m.\u001b[39mconverters[var], sort\u001b[38;5;241m=\u001b[39m\u001b[38;5;28;01mFalse\u001b[39;00m)\n\u001b[1;32m-> 1128\u001b[0m \u001b[38;5;28;01mfor\u001b[39;00m converter, seed_data \u001b[38;5;129;01min\u001b[39;00m grouped:\n\u001b[0;32m   1129\u001b[0m     \u001b[38;5;28;01mif\u001b[39;00m \u001b[38;5;28mself\u001b[39m\u001b[38;5;241m.\u001b[39mvar_types[var] \u001b[38;5;241m==\u001b[39m \u001b[38;5;124m\"\u001b[39m\u001b[38;5;124mcategorical\u001b[39m\u001b[38;5;124m\"\u001b[39m:\n\u001b[0;32m   1130\u001b[0m         \u001b[38;5;28;01mif\u001b[39;00m \u001b[38;5;28mself\u001b[39m\u001b[38;5;241m.\u001b[39m_var_ordered[var]:\n",
      "File \u001b[1;32m~\\anaconda3\\Lib\\site-packages\\pandas\\core\\groupby\\ops.py:620\u001b[0m, in \u001b[0;36mBaseGrouper.get_iterator\u001b[1;34m(self, data, axis)\u001b[0m\n\u001b[0;32m    618\u001b[0m splitter \u001b[38;5;241m=\u001b[39m \u001b[38;5;28mself\u001b[39m\u001b[38;5;241m.\u001b[39m_get_splitter(data, axis\u001b[38;5;241m=\u001b[39maxis)\n\u001b[0;32m    619\u001b[0m keys \u001b[38;5;241m=\u001b[39m \u001b[38;5;28mself\u001b[39m\u001b[38;5;241m.\u001b[39mgroup_keys_seq\n\u001b[1;32m--> 620\u001b[0m \u001b[38;5;28;01myield from\u001b[39;00m \u001b[38;5;28mzip\u001b[39m(keys, splitter)\n",
      "File \u001b[1;32m~\\anaconda3\\Lib\\site-packages\\pandas\\core\\groupby\\ops.py:1160\u001b[0m, in \u001b[0;36mDataSplitter.__iter__\u001b[1;34m(self)\u001b[0m\n\u001b[0;32m   1157\u001b[0m starts, ends \u001b[38;5;241m=\u001b[39m lib\u001b[38;5;241m.\u001b[39mgenerate_slices(\u001b[38;5;28mself\u001b[39m\u001b[38;5;241m.\u001b[39m_slabels, \u001b[38;5;28mself\u001b[39m\u001b[38;5;241m.\u001b[39mngroups)\n\u001b[0;32m   1159\u001b[0m \u001b[38;5;28;01mfor\u001b[39;00m start, end \u001b[38;5;129;01min\u001b[39;00m \u001b[38;5;28mzip\u001b[39m(starts, ends):\n\u001b[1;32m-> 1160\u001b[0m     \u001b[38;5;28;01myield\u001b[39;00m \u001b[38;5;28mself\u001b[39m\u001b[38;5;241m.\u001b[39m_chop(sdata, \u001b[38;5;28mslice\u001b[39m(start, end))\n",
      "File \u001b[1;32m~\\anaconda3\\Lib\\site-packages\\pandas\\core\\groupby\\ops.py:1186\u001b[0m, in \u001b[0;36mFrameSplitter._chop\u001b[1;34m(self, sdata, slice_obj)\u001b[0m\n\u001b[0;32m   1180\u001b[0m \u001b[38;5;28;01mdef\u001b[39;00m \u001b[38;5;21m_chop\u001b[39m(\u001b[38;5;28mself\u001b[39m, sdata: DataFrame, slice_obj: \u001b[38;5;28mslice\u001b[39m) \u001b[38;5;241m-\u001b[39m\u001b[38;5;241m>\u001b[39m DataFrame:\n\u001b[0;32m   1181\u001b[0m     \u001b[38;5;66;03m# Fastpath equivalent to:\u001b[39;00m\n\u001b[0;32m   1182\u001b[0m     \u001b[38;5;66;03m# if self.axis == 0:\u001b[39;00m\n\u001b[0;32m   1183\u001b[0m     \u001b[38;5;66;03m#     return sdata.iloc[slice_obj]\u001b[39;00m\n\u001b[0;32m   1184\u001b[0m     \u001b[38;5;66;03m# else:\u001b[39;00m\n\u001b[0;32m   1185\u001b[0m     \u001b[38;5;66;03m#     return sdata.iloc[:, slice_obj]\u001b[39;00m\n\u001b[1;32m-> 1186\u001b[0m     mgr \u001b[38;5;241m=\u001b[39m sdata\u001b[38;5;241m.\u001b[39m_mgr\u001b[38;5;241m.\u001b[39mget_slice(slice_obj, axis\u001b[38;5;241m=\u001b[39m\u001b[38;5;241m1\u001b[39m \u001b[38;5;241m-\u001b[39m \u001b[38;5;28mself\u001b[39m\u001b[38;5;241m.\u001b[39maxis)\n\u001b[0;32m   1187\u001b[0m     df \u001b[38;5;241m=\u001b[39m sdata\u001b[38;5;241m.\u001b[39m_constructor_from_mgr(mgr, axes\u001b[38;5;241m=\u001b[39mmgr\u001b[38;5;241m.\u001b[39maxes)\n\u001b[0;32m   1188\u001b[0m     \u001b[38;5;28;01mreturn\u001b[39;00m df\u001b[38;5;241m.\u001b[39m__finalize__(sdata, method\u001b[38;5;241m=\u001b[39m\u001b[38;5;124m\"\u001b[39m\u001b[38;5;124mgroupby\u001b[39m\u001b[38;5;124m\"\u001b[39m)\n",
      "File \u001b[1;32m~\\anaconda3\\Lib\\site-packages\\pandas\\core\\internals\\managers.py:1978\u001b[0m, in \u001b[0;36mSingleBlockManager.get_slice\u001b[1;34m(self, slobj, axis)\u001b[0m\n\u001b[0;32m   1974\u001b[0m \u001b[38;5;28;01mdef\u001b[39;00m \u001b[38;5;21mget_slice\u001b[39m(\u001b[38;5;28mself\u001b[39m, slobj: \u001b[38;5;28mslice\u001b[39m, axis: AxisInt \u001b[38;5;241m=\u001b[39m \u001b[38;5;241m0\u001b[39m) \u001b[38;5;241m-\u001b[39m\u001b[38;5;241m>\u001b[39m SingleBlockManager:\n\u001b[0;32m   1975\u001b[0m     \u001b[38;5;66;03m# Assertion disabled for performance\u001b[39;00m\n\u001b[0;32m   1976\u001b[0m     \u001b[38;5;66;03m# assert isinstance(slobj, slice), type(slobj)\u001b[39;00m\n\u001b[0;32m   1977\u001b[0m     \u001b[38;5;28;01mif\u001b[39;00m axis \u001b[38;5;241m>\u001b[39m\u001b[38;5;241m=\u001b[39m \u001b[38;5;28mself\u001b[39m\u001b[38;5;241m.\u001b[39mndim:\n\u001b[1;32m-> 1978\u001b[0m         \u001b[38;5;28;01mraise\u001b[39;00m \u001b[38;5;167;01mIndexError\u001b[39;00m(\u001b[38;5;124m\"\u001b[39m\u001b[38;5;124mRequested axis not found in manager\u001b[39m\u001b[38;5;124m\"\u001b[39m)\n\u001b[0;32m   1980\u001b[0m     blk \u001b[38;5;241m=\u001b[39m \u001b[38;5;28mself\u001b[39m\u001b[38;5;241m.\u001b[39m_block\n\u001b[0;32m   1981\u001b[0m     array \u001b[38;5;241m=\u001b[39m blk\u001b[38;5;241m.\u001b[39mvalues[slobj]\n",
      "\u001b[1;31mIndexError\u001b[0m: Requested axis not found in manager"
     ]
    },
    {
     "data": {
      "image/png": "[encoded data removed]",
      "text/plain": [
       "<Figure size 640x480 with 1 Axes>"
      ]
     },
     "metadata": {},
     "output_type": "display_data"
    }
   ],
   "source": [
    "# Checking outlier\n",
    "def boxplots(col):\n",
    "    sns.boxplot(df_imp2[col])\n",
    "    plt.show()\n",
    "\n",
    "for i in list(df_imp2.select_dtypes(exclude=['object']).columns)[0:]:\n",
    "    boxplots(i)"
   ]
  },
  {
   "cell_type": "code",
   "execution_count": 56,
   "id": "5c9e4508-ab8f-477d-9aee-453c7b13055b",
   "metadata": {},
   "outputs": [
    {
     "data": {
      "text/plain": [
       "Index(['rbc', 'pc', 'pcc', 'ba', 'htn', 'dm', 'cad', 'appet', 'pe', 'ane',\n",
       "       'classification'],\n",
       "      dtype='object')"
      ]
     },
     "execution_count": 56,
     "metadata": {},
     "output_type": "execute_result"
    }
   ],
   "source": [
    "df_imp1.columns"
   ]
  },
  {
   "cell_type": "code",
   "execution_count": 57,
   "id": "4f7873a8-1ef7-4abf-ae94-0c1ac80c868d",
   "metadata": {},
   "outputs": [
    {
     "data": {
      "text/plain": [
       "Index(['age', 'bp', 'sg', 'al', 'su', 'bgr', 'bu', 'sc', 'sod', 'pot', 'hemo',\n",
       "       'pcv', 'wc', 'rc'],\n",
       "      dtype='object')"
      ]
     },
     "execution_count": 57,
     "metadata": {},
     "output_type": "execute_result"
    }
   ],
   "source": [
    "df_imp2.columns"
   ]
  },
  {
   "cell_type": "code",
   "execution_count": 58,
   "id": "eec23e2e-cb39-4466-a6eb-b35c6ab111ab",
   "metadata": {},
   "outputs": [],
   "source": [
    "df_imp1['test'] = 'test'# This code adds a new column called 'test' to both df_imp1 and df_imp2, with the same value 'test' in every row.\n",
    "df_imp2['test'] = 'test'# To add a common column for easy merging or comparison later.\n",
    "#Sometimes this is done before a concat() or merge() to track which part of the data came from which source.\n",
    "#It can also be used as a placeholder column when building or testing models."
   ]
  },
  {
   "cell_type": "code",
   "execution_count": 59,
   "id": "1f7b11a1-15dc-413d-b858-5a3edb7ef7b1",
   "metadata": {},
   "outputs": [
    {
     "data": {
      "text/html": [
       "<div>\n",
       "<style scoped>\n",
       "    .dataframe tbody tr th:only-of-type {\n",
       "        vertical-align: middle;\n",
       "    }\n",
       "\n",
       "    .dataframe tbody tr th {\n",
       "        vertical-align: top;\n",
       "    }\n",
       "\n",
       "    .dataframe thead th {\n",
       "        text-align: right;\n",
       "    }\n",
       "</style>\n",
       "<table border=\"1\" class=\"dataframe\">\n",
       "  <thead>\n",
       "    <tr style=\"text-align: right;\">\n",
       "      <th></th>\n",
       "      <th>rbc</th>\n",
       "      <th>pc</th>\n",
       "      <th>pcc</th>\n",
       "      <th>ba</th>\n",
       "      <th>htn</th>\n",
       "      <th>dm</th>\n",
       "      <th>cad</th>\n",
       "      <th>appet</th>\n",
       "      <th>pe</th>\n",
       "      <th>ane</th>\n",
       "      <th>...</th>\n",
       "      <th>bgr</th>\n",
       "      <th>bu</th>\n",
       "      <th>sc</th>\n",
       "      <th>sod</th>\n",
       "      <th>pot</th>\n",
       "      <th>hemo</th>\n",
       "      <th>pcv</th>\n",
       "      <th>wc</th>\n",
       "      <th>rc</th>\n",
       "      <th>test</th>\n",
       "    </tr>\n",
       "  </thead>\n",
       "  <tbody>\n",
       "    <tr>\n",
       "      <th>0</th>\n",
       "      <td>normal</td>\n",
       "      <td>normal</td>\n",
       "      <td>notpresent</td>\n",
       "      <td>notpresent</td>\n",
       "      <td>yes</td>\n",
       "      <td>yes</td>\n",
       "      <td>no</td>\n",
       "      <td>good</td>\n",
       "      <td>no</td>\n",
       "      <td>no</td>\n",
       "      <td>...</td>\n",
       "      <td>121.0</td>\n",
       "      <td>36.0</td>\n",
       "      <td>1.2</td>\n",
       "      <td>138.0</td>\n",
       "      <td>4.4</td>\n",
       "      <td>15.4</td>\n",
       "      <td>44.0</td>\n",
       "      <td>7800.0</td>\n",
       "      <td>5.2</td>\n",
       "      <td>test</td>\n",
       "    </tr>\n",
       "    <tr>\n",
       "      <th>1</th>\n",
       "      <td>normal</td>\n",
       "      <td>normal</td>\n",
       "      <td>notpresent</td>\n",
       "      <td>notpresent</td>\n",
       "      <td>no</td>\n",
       "      <td>no</td>\n",
       "      <td>no</td>\n",
       "      <td>good</td>\n",
       "      <td>no</td>\n",
       "      <td>no</td>\n",
       "      <td>...</td>\n",
       "      <td>121.0</td>\n",
       "      <td>18.0</td>\n",
       "      <td>0.8</td>\n",
       "      <td>138.0</td>\n",
       "      <td>4.4</td>\n",
       "      <td>11.3</td>\n",
       "      <td>38.0</td>\n",
       "      <td>6000.0</td>\n",
       "      <td>5.2</td>\n",
       "      <td>test</td>\n",
       "    </tr>\n",
       "    <tr>\n",
       "      <th>2</th>\n",
       "      <td>normal</td>\n",
       "      <td>normal</td>\n",
       "      <td>notpresent</td>\n",
       "      <td>notpresent</td>\n",
       "      <td>no</td>\n",
       "      <td>yes</td>\n",
       "      <td>no</td>\n",
       "      <td>poor</td>\n",
       "      <td>no</td>\n",
       "      <td>yes</td>\n",
       "      <td>...</td>\n",
       "      <td>423.0</td>\n",
       "      <td>53.0</td>\n",
       "      <td>1.8</td>\n",
       "      <td>138.0</td>\n",
       "      <td>4.4</td>\n",
       "      <td>9.6</td>\n",
       "      <td>31.0</td>\n",
       "      <td>7500.0</td>\n",
       "      <td>5.2</td>\n",
       "      <td>test</td>\n",
       "    </tr>\n",
       "    <tr>\n",
       "      <th>3</th>\n",
       "      <td>normal</td>\n",
       "      <td>abnormal</td>\n",
       "      <td>present</td>\n",
       "      <td>notpresent</td>\n",
       "      <td>yes</td>\n",
       "      <td>no</td>\n",
       "      <td>no</td>\n",
       "      <td>poor</td>\n",
       "      <td>yes</td>\n",
       "      <td>yes</td>\n",
       "      <td>...</td>\n",
       "      <td>117.0</td>\n",
       "      <td>56.0</td>\n",
       "      <td>3.8</td>\n",
       "      <td>111.0</td>\n",
       "      <td>2.5</td>\n",
       "      <td>11.2</td>\n",
       "      <td>32.0</td>\n",
       "      <td>6700.0</td>\n",
       "      <td>3.9</td>\n",
       "      <td>test</td>\n",
       "    </tr>\n",
       "    <tr>\n",
       "      <th>4</th>\n",
       "      <td>normal</td>\n",
       "      <td>normal</td>\n",
       "      <td>notpresent</td>\n",
       "      <td>notpresent</td>\n",
       "      <td>no</td>\n",
       "      <td>no</td>\n",
       "      <td>no</td>\n",
       "      <td>good</td>\n",
       "      <td>no</td>\n",
       "      <td>no</td>\n",
       "      <td>...</td>\n",
       "      <td>106.0</td>\n",
       "      <td>26.0</td>\n",
       "      <td>1.4</td>\n",
       "      <td>138.0</td>\n",
       "      <td>4.4</td>\n",
       "      <td>11.6</td>\n",
       "      <td>35.0</td>\n",
       "      <td>7300.0</td>\n",
       "      <td>4.6</td>\n",
       "      <td>test</td>\n",
       "    </tr>\n",
       "    <tr>\n",
       "      <th>...</th>\n",
       "      <td>...</td>\n",
       "      <td>...</td>\n",
       "      <td>...</td>\n",
       "      <td>...</td>\n",
       "      <td>...</td>\n",
       "      <td>...</td>\n",
       "      <td>...</td>\n",
       "      <td>...</td>\n",
       "      <td>...</td>\n",
       "      <td>...</td>\n",
       "      <td>...</td>\n",
       "      <td>...</td>\n",
       "      <td>...</td>\n",
       "      <td>...</td>\n",
       "      <td>...</td>\n",
       "      <td>...</td>\n",
       "      <td>...</td>\n",
       "      <td>...</td>\n",
       "      <td>...</td>\n",
       "      <td>...</td>\n",
       "      <td>...</td>\n",
       "    </tr>\n",
       "    <tr>\n",
       "      <th>395</th>\n",
       "      <td>normal</td>\n",
       "      <td>normal</td>\n",
       "      <td>notpresent</td>\n",
       "      <td>notpresent</td>\n",
       "      <td>no</td>\n",
       "      <td>no</td>\n",
       "      <td>no</td>\n",
       "      <td>good</td>\n",
       "      <td>no</td>\n",
       "      <td>no</td>\n",
       "      <td>...</td>\n",
       "      <td>140.0</td>\n",
       "      <td>49.0</td>\n",
       "      <td>0.5</td>\n",
       "      <td>150.0</td>\n",
       "      <td>4.9</td>\n",
       "      <td>15.7</td>\n",
       "      <td>47.0</td>\n",
       "      <td>6700.0</td>\n",
       "      <td>4.9</td>\n",
       "      <td>test</td>\n",
       "    </tr>\n",
       "    <tr>\n",
       "      <th>396</th>\n",
       "      <td>normal</td>\n",
       "      <td>normal</td>\n",
       "      <td>notpresent</td>\n",
       "      <td>notpresent</td>\n",
       "      <td>no</td>\n",
       "      <td>no</td>\n",
       "      <td>no</td>\n",
       "      <td>good</td>\n",
       "      <td>no</td>\n",
       "      <td>no</td>\n",
       "      <td>...</td>\n",
       "      <td>75.0</td>\n",
       "      <td>31.0</td>\n",
       "      <td>1.2</td>\n",
       "      <td>141.0</td>\n",
       "      <td>3.5</td>\n",
       "      <td>16.5</td>\n",
       "      <td>54.0</td>\n",
       "      <td>7800.0</td>\n",
       "      <td>6.2</td>\n",
       "      <td>test</td>\n",
       "    </tr>\n",
       "    <tr>\n",
       "      <th>397</th>\n",
       "      <td>normal</td>\n",
       "      <td>normal</td>\n",
       "      <td>notpresent</td>\n",
       "      <td>notpresent</td>\n",
       "      <td>no</td>\n",
       "      <td>no</td>\n",
       "      <td>no</td>\n",
       "      <td>good</td>\n",
       "      <td>no</td>\n",
       "      <td>no</td>\n",
       "      <td>...</td>\n",
       "      <td>100.0</td>\n",
       "      <td>26.0</td>\n",
       "      <td>0.6</td>\n",
       "      <td>137.0</td>\n",
       "      <td>4.4</td>\n",
       "      <td>15.8</td>\n",
       "      <td>49.0</td>\n",
       "      <td>6600.0</td>\n",
       "      <td>5.4</td>\n",
       "      <td>test</td>\n",
       "    </tr>\n",
       "    <tr>\n",
       "      <th>398</th>\n",
       "      <td>normal</td>\n",
       "      <td>normal</td>\n",
       "      <td>notpresent</td>\n",
       "      <td>notpresent</td>\n",
       "      <td>no</td>\n",
       "      <td>no</td>\n",
       "      <td>no</td>\n",
       "      <td>good</td>\n",
       "      <td>no</td>\n",
       "      <td>no</td>\n",
       "      <td>...</td>\n",
       "      <td>114.0</td>\n",
       "      <td>50.0</td>\n",
       "      <td>1.0</td>\n",
       "      <td>135.0</td>\n",
       "      <td>4.9</td>\n",
       "      <td>14.2</td>\n",
       "      <td>51.0</td>\n",
       "      <td>7200.0</td>\n",
       "      <td>5.9</td>\n",
       "      <td>test</td>\n",
       "    </tr>\n",
       "    <tr>\n",
       "      <th>399</th>\n",
       "      <td>normal</td>\n",
       "      <td>normal</td>\n",
       "      <td>notpresent</td>\n",
       "      <td>notpresent</td>\n",
       "      <td>no</td>\n",
       "      <td>no</td>\n",
       "      <td>no</td>\n",
       "      <td>good</td>\n",
       "      <td>no</td>\n",
       "      <td>no</td>\n",
       "      <td>...</td>\n",
       "      <td>131.0</td>\n",
       "      <td>18.0</td>\n",
       "      <td>1.1</td>\n",
       "      <td>141.0</td>\n",
       "      <td>3.5</td>\n",
       "      <td>15.8</td>\n",
       "      <td>53.0</td>\n",
       "      <td>6800.0</td>\n",
       "      <td>6.1</td>\n",
       "      <td>test</td>\n",
       "    </tr>\n",
       "  </tbody>\n",
       "</table>\n",
       "<p>400 rows × 27 columns</p>\n",
       "</div>"
      ],
      "text/plain": [
       "        rbc        pc         pcc          ba  htn   dm cad appet   pe  ane  \\\n",
       "0    normal    normal  notpresent  notpresent  yes  yes  no  good   no   no   \n",
       "1    normal    normal  notpresent  notpresent   no   no  no  good   no   no   \n",
       "2    normal    normal  notpresent  notpresent   no  yes  no  poor   no  yes   \n",
       "3    normal  abnormal     present  notpresent  yes   no  no  poor  yes  yes   \n",
       "4    normal    normal  notpresent  notpresent   no   no  no  good   no   no   \n",
       "..      ...       ...         ...         ...  ...  ...  ..   ...  ...  ...   \n",
       "395  normal    normal  notpresent  notpresent   no   no  no  good   no   no   \n",
       "396  normal    normal  notpresent  notpresent   no   no  no  good   no   no   \n",
       "397  normal    normal  notpresent  notpresent   no   no  no  good   no   no   \n",
       "398  normal    normal  notpresent  notpresent   no   no  no  good   no   no   \n",
       "399  normal    normal  notpresent  notpresent   no   no  no  good   no   no   \n",
       "\n",
       "     ...    bgr    bu   sc    sod  pot  hemo   pcv      wc   rc  test  \n",
       "0    ...  121.0  36.0  1.2  138.0  4.4  15.4  44.0  7800.0  5.2  test  \n",
       "1    ...  121.0  18.0  0.8  138.0  4.4  11.3  38.0  6000.0  5.2  test  \n",
       "2    ...  423.0  53.0  1.8  138.0  4.4   9.6  31.0  7500.0  5.2  test  \n",
       "3    ...  117.0  56.0  3.8  111.0  2.5  11.2  32.0  6700.0  3.9  test  \n",
       "4    ...  106.0  26.0  1.4  138.0  4.4  11.6  35.0  7300.0  4.6  test  \n",
       "..   ...    ...   ...  ...    ...  ...   ...   ...     ...  ...   ...  \n",
       "395  ...  140.0  49.0  0.5  150.0  4.9  15.7  47.0  6700.0  4.9  test  \n",
       "396  ...   75.0  31.0  1.2  141.0  3.5  16.5  54.0  7800.0  6.2  test  \n",
       "397  ...  100.0  26.0  0.6  137.0  4.4  15.8  49.0  6600.0  5.4  test  \n",
       "398  ...  114.0  50.0  1.0  135.0  4.9  14.2  51.0  7200.0  5.9  test  \n",
       "399  ...  131.0  18.0  1.1  141.0  3.5  15.8  53.0  6800.0  6.1  test  \n",
       "\n",
       "[400 rows x 27 columns]"
      ]
     },
     "metadata": {},
     "output_type": "display_data"
    }
   ],
   "source": [
    "table_df = pd.concat([df_imp1,df_imp2], axis=1)#combines the two DataFrames df_imp1 and df_imp2 side by side (column-wise) into a new DataFrame called table_df.\n",
    "table_df\n",
    "# Why use this?\n",
    "#To reconstruct the original DataFrame after separately imputing object and numerical columns.\n",
    "\n",
    "#Or to prepare one combined dataset for analysis, visualization, or modeling.\n",
    "\n"
   ]
  },
  {
   "cell_type": "code",
   "execution_count": 60,
   "id": "88ca4dbe-f34e-4033-acad-f29d5dce4afd",
   "metadata": {},
   "outputs": [
    {
     "data": {
      "text/plain": [
       "Index(['rbc', 'pc', 'pcc', 'ba', 'htn', 'dm', 'cad', 'appet', 'pe', 'ane',\n",
       "       'classification', 'test', 'age', 'bp', 'sg', 'al', 'su', 'bgr', 'bu',\n",
       "       'sc', 'sod', 'pot', 'hemo', 'pcv', 'wc', 'rc', 'test'],\n",
       "      dtype='object')"
      ]
     },
     "execution_count": 60,
     "metadata": {},
     "output_type": "execute_result"
    }
   ],
   "source": [
    "table_df.columns"
   ]
  },
  {
   "cell_type": "code",
   "execution_count": 61,
   "id": "a31a7635-891d-463a-96af-f640e41a4fee",
   "metadata": {},
   "outputs": [
    {
     "data": {
      "text/plain": [
       "Index(['rbc', 'pc', 'pcc', 'ba', 'htn', 'dm', 'cad', 'appet', 'pe', 'ane',\n",
       "       'classification', 'age', 'bp', 'sg', 'al', 'su', 'bgr', 'bu', 'sc',\n",
       "       'sod', 'pot', 'hemo', 'pcv', 'wc', 'rc'],\n",
       "      dtype='object')"
      ]
     },
     "execution_count": 61,
     "metadata": {},
     "output_type": "execute_result"
    }
   ],
   "source": [
    "table_df = table_df.drop(['test'], axis=1)# Drops (removes) the column named 'test' from table_df.\n",
    "table_df.columns # axis=1 means drop along the columns (as opposed to rows, which would be axis=0).\n",
    "# The updated DataFrame (without the 'test' column) is saved back into table_df."
   ]
  },
  {
   "cell_type": "code",
   "execution_count": 62,
   "id": "2a4dc6b2-f7ba-47df-a262-6e6eea2540bd",
   "metadata": {},
   "outputs": [],
   "source": [
    "# split the data into independent and dependent variables\n",
    "x = table_df.drop('classification', axis=1) # Drops the 'classification' column from table_df. axis=1 means \"drop a column\" (not a row).\n",
    "y = table_df['classification'] # Extracts the 'classification' column from table_df. y is the target variable — what you want the model to predict.\n",
    "# You use x to train the model, and y as the ground truth for evaluation."
   ]
  },
  {
   "cell_type": "code",
   "execution_count": 63,
   "id": "08e67d36-5b67-46a2-8871-b572e61bf850",
   "metadata": {},
   "outputs": [
    {
     "data": {
      "text/plain": [
       "Index(['rbc', 'pc', 'pcc', 'ba', 'htn', 'dm', 'cad', 'appet', 'pe', 'ane',\n",
       "       'age', 'bp', 'sg', 'al', 'su', 'bgr', 'bu', 'sc', 'sod', 'pot', 'hemo',\n",
       "       'pcv', 'wc', 'rc'],\n",
       "      dtype='object')"
      ]
     },
     "execution_count": 63,
     "metadata": {},
     "output_type": "execute_result"
    }
   ],
   "source": [
    "x.columns"
   ]
  },
  {
   "cell_type": "code",
   "execution_count": 64,
   "id": "ffe5bb43-f96c-4e1a-9b39-048d96fb897b",
   "metadata": {},
   "outputs": [
    {
     "data": {
      "text/plain": [
       "0         ckd\n",
       "1         ckd\n",
       "2         ckd\n",
       "3         ckd\n",
       "4         ckd\n",
       "        ...  \n",
       "395    notckd\n",
       "396    notckd\n",
       "397    notckd\n",
       "398    notckd\n",
       "399    notckd\n",
       "Name: classification, Length: 400, dtype: object"
      ]
     },
     "execution_count": 64,
     "metadata": {},
     "output_type": "execute_result"
    }
   ],
   "source": [
    "y"
   ]
  },
  {
   "cell_type": "code",
   "execution_count": 65,
   "id": "922bfac0-c48b-43e1-81da-1c6b43b0ad0c",
   "metadata": {},
   "outputs": [
    {
     "data": {
      "application/vnd.jupyter.widget-view+json": {
       "model_id": "9e447d6b2a0d40d9b78e4badd91210b6",
       "version_major": 2,
       "version_minor": 0
      },
      "text/plain": [
       "Button(description='Toggle Pandas/Lux', layout=Layout(top='5px', width='140px'), style=ButtonStyle())"
      ]
     },
     "metadata": {},
     "output_type": "display_data"
    },
    {
     "data": {
      "application/vnd.jupyter.widget-view+json": {
       "model_id": "c018b86202fa459aab29e967616226f3",
       "version_major": 2,
       "version_minor": 0
      },
      "text/plain": [
       "Output()"
      ]
     },
     "metadata": {},
     "output_type": "display_data"
    }
   ],
   "source": [
    "y.value_counts()"
   ]
  },
  {
   "cell_type": "code",
   "execution_count": 66,
   "id": "6d96b88e-7250-4f55-b240-961fdbe80da5",
   "metadata": {},
   "outputs": [],
   "source": [
    "y = np.where(y=='ckd', 1,0) # converts the target variable y into binary numeric values, which is often necessary for machine learning models\n",
    "# So 'ckd' becomes 1, and 'notckd' (or anything else) becomes 0."
   ]
  },
  {
   "cell_type": "code",
   "execution_count": 67,
   "id": "b2ccadc2-e225-4d1e-898d-b4d6a491fa41",
   "metadata": {},
   "outputs": [
    {
     "data": {
      "application/vnd.jupyter.widget-view+json": {
       "model_id": "ec8823f676f04abd91df4e601032d42a",
       "version_major": 2,
       "version_minor": 0
      },
      "text/plain": [
       "Button(description='Toggle Pandas/Lux', layout=Layout(top='5px', width='140px'), style=ButtonStyle())"
      ]
     },
     "metadata": {},
     "output_type": "display_data"
    },
    {
     "data": {
      "application/vnd.jupyter.widget-view+json": {
       "model_id": "5651f38a494c404facc6ccc1e7234d87",
       "version_major": 2,
       "version_minor": 0
      },
      "text/plain": [
       "Output()"
      ]
     },
     "metadata": {},
     "output_type": "display_data"
    }
   ],
   "source": [
    "pd.DataFrame(y).value_counts()"
   ]
  },
  {
   "cell_type": "code",
   "execution_count": 68,
   "id": "32a3193a-27ad-489e-a1cb-94726fbe0869",
   "metadata": {},
   "outputs": [],
   "source": [
    "# Handing encoding concept \n",
    "def classify_features(x):# automatically classifies the features in a DataFrame x into four categories based on their data type and uniqueness (cardinality).\n",
    "    categorical_features =[] # Text-based columns with fewer than 3 unique values — ideal for label encoding (e.g., yes/no).\n",
    "    non_categorical_features = [] # Text-based columns with 3 or more unique values — usually require one-hot encoding or similar.\n",
    "    discreate_features = [] #  Numeric columns with fewer than 100 unique values — often integers or categoricals encoded as numbers.\n",
    "    continous_features = [] # Numeric columns with 100+ unique values — true continuous numerical features.\n",
    "\n",
    "    for column in x.columns: # And checks the type and cardinality:\n",
    "        if x[column].dtype=='object': # If there are fewer than 3 unique values, treat it as a simple categorical (like yes/no, male/female).\n",
    "            if x[column].nunique() < 3: # Otherwise, treat it as a non-categorical object feature — possibly high-cardinality text.\n",
    "                categorical_features.append(column)\n",
    "            else:\n",
    "                non_categorical_features.append(column)\n",
    "        elif x[column].dtype in ['int64','float64']:# If it has fewer than 100 unique values, it's likely a discrete feature (e.g., age, number of children).\n",
    "            if x[column].nunique() < 100:\n",
    "                discreate_features.append(column) # If it has 100+ unique values, it's treated as a continuous variable (e.g., blood pressure, cholesterol).\n",
    "            else:\n",
    "                continous_features.append(column)\n",
    "    return categorical_features, non_categorical_features, discreate_features, continous_features\n",
    "    # This gives you four separate lists of columns, so you can apply appropriate preprocessing (e.g., encoding, scaling) to each group."
   ]
  },
  {
   "cell_type": "code",
   "execution_count": 69,
   "id": "5567d85f-29eb-4bea-9c8d-7bf07c0e9893",
   "metadata": {},
   "outputs": [],
   "source": [
    "categorical, non_categorical, discreate, continous = classify_features(x)"
   ]
  },
  {
   "cell_type": "code",
   "execution_count": 70,
   "id": "377c483b-5c4e-441d-8c3d-4bc78888355a",
   "metadata": {},
   "outputs": [
    {
     "data": {
      "text/plain": [
       "['rbc', 'pc', 'pcc', 'ba', 'htn', 'dm', 'cad', 'appet', 'pe', 'ane']"
      ]
     },
     "execution_count": 70,
     "metadata": {},
     "output_type": "execute_result"
    }
   ],
   "source": [
    "categorical"
   ]
  },
  {
   "cell_type": "code",
   "execution_count": 71,
   "id": "c5c87fd6-22fe-4dce-b7f2-1b2d1edcbc81",
   "metadata": {},
   "outputs": [
    {
     "data": {
      "text/plain": [
       "[]"
      ]
     },
     "execution_count": 71,
     "metadata": {},
     "output_type": "execute_result"
    }
   ],
   "source": [
    "non_categorical"
   ]
  },
  {
   "cell_type": "code",
   "execution_count": 72,
   "id": "4f48689d-e19d-43d5-b30f-5d7b1bcd725e",
   "metadata": {},
   "outputs": [
    {
     "data": {
      "text/plain": [
       "['age', 'bp', 'sg', 'al', 'su', 'sc', 'sod', 'pot', 'pcv', 'wc', 'rc']"
      ]
     },
     "execution_count": 72,
     "metadata": {},
     "output_type": "execute_result"
    }
   ],
   "source": [
    "discreate"
   ]
  },
  {
   "cell_type": "code",
   "execution_count": 73,
   "id": "a0e555bf-398b-4a09-a1fe-c2d50ac269ac",
   "metadata": {},
   "outputs": [
    {
     "data": {
      "text/plain": [
       "['bgr', 'bu', 'hemo']"
      ]
     },
     "execution_count": 73,
     "metadata": {},
     "output_type": "execute_result"
    }
   ],
   "source": [
    "continous"
   ]
  },
  {
   "cell_type": "code",
   "execution_count": 76,
   "id": "6cd34afd-f66c-49bb-917f-67d3661791b5",
   "metadata": {},
   "outputs": [
    {
     "name": "stdout",
     "output_type": "stream",
     "text": [
      "Collecting dtale\n",
      "  Downloading dtale-3.17.0-py2.py3-none-any.whl.metadata (16 kB)\n",
      "Collecting dash-daq<=0.5.0 (from dtale)\n",
      "  Downloading dash_daq-0.5.0.tar.gz (642 kB)\n",
      "     ---------------------------------------- 0.0/642.7 kB ? eta -:--:--\n",
      "     -------------------------------------- 642.7/642.7 kB 4.0 MB/s eta 0:00:00\n",
      "  Preparing metadata (setup.py): started\n",
      "  Preparing metadata (setup.py): finished with status 'done'\n",
      "Collecting future>=0.14.0 (from dtale)\n",
      "  Downloading future-1.0.0-py3-none-any.whl.metadata (4.0 kB)\n",
      "Collecting missingno (from dtale)\n",
      "  Downloading missingno-0.5.2-py3-none-any.whl.metadata (639 bytes)\n",
      "Requirement already satisfied: pandas in c:\\users\\tilek\\anaconda3\\lib\\site-packages (from dtale) (2.2.2)\n",
      "Collecting squarify (from dtale)\n",
      "  Downloading squarify-0.4.4-py3-none-any.whl.metadata (600 bytes)\n",
      "Collecting strsimpy (from dtale)\n",
      "  Downloading strsimpy-0.2.1-py3-none-any.whl.metadata (20 kB)\n",
      "Requirement already satisfied: six in c:\\users\\tilek\\anaconda3\\lib\\site-packages (from dtale) (1.16.0)\n",
      "Requirement already satisfied: xlrd in c:\\users\\tilek\\anaconda3\\lib\\site-packages (from dtale) (2.0.1)\n",
      "Requirement already satisfied: beautifulsoup4!=4.13.0b2 in c:\\users\\tilek\\anaconda3\\lib\\site-packages (from dtale) (4.12.3)\n",
      "Requirement already satisfied: certifi in c:\\users\\tilek\\anaconda3\\lib\\site-packages (from dtale) (2025.4.26)\n",
      "Collecting dash-bootstrap-components<=1.7.1 (from dtale)\n",
      "  Downloading dash_bootstrap_components-1.7.1-py3-none-any.whl.metadata (17 kB)\n",
      "Requirement already satisfied: lz4 in c:\\users\\tilek\\anaconda3\\lib\\site-packages (from dtale) (4.3.2)\n",
      "Requirement already satisfied: cycler in c:\\users\\tilek\\anaconda3\\lib\\site-packages (from dtale) (0.11.0)\n",
      "Collecting dash<=2.18.2 (from dtale)\n",
      "  Downloading dash-2.18.2-py3-none-any.whl.metadata (10 kB)\n",
      "Requirement already satisfied: seaborn in c:\\users\\tilek\\anaconda3\\lib\\site-packages (from dtale) (0.13.2)\n",
      "Requirement already satisfied: werkzeug in c:\\users\\tilek\\anaconda3\\lib\\site-packages (from dtale) (3.0.3)\n",
      "Collecting Flask-Compress (from dtale)\n",
      "  Downloading Flask_Compress-1.17-py3-none-any.whl.metadata (8.8 kB)\n",
      "Requirement already satisfied: scikit-learn in c:\\users\\tilek\\anaconda3\\lib\\site-packages (from dtale) (1.5.1)\n",
      "Requirement already satisfied: statsmodels in c:\\users\\tilek\\anaconda3\\lib\\site-packages (from dtale) (0.14.2)\n",
      "Requirement already satisfied: networkx in c:\\users\\tilek\\anaconda3\\lib\\site-packages (from dtale) (3.3)\n",
      "Requirement already satisfied: numpy in c:\\users\\tilek\\anaconda3\\lib\\site-packages (from dtale) (1.26.4)\n",
      "Requirement already satisfied: openpyxl!=3.2.0b1 in c:\\users\\tilek\\anaconda3\\lib\\site-packages (from dtale) (3.1.5)\n",
      "Requirement already satisfied: xarray in c:\\users\\tilek\\anaconda3\\lib\\site-packages (from dtale) (2023.6.0)\n",
      "Requirement already satisfied: scipy!=1.12.0rc1,!=1.14.0,!=1.14.0rc1,!=1.14.0rc2 in c:\\users\\tilek\\anaconda3\\lib\\site-packages (from dtale) (1.13.1)\n",
      "Requirement already satisfied: et-xmlfile in c:\\users\\tilek\\anaconda3\\lib\\site-packages (from dtale) (1.1.0)\n",
      "Requirement already satisfied: plotly in c:\\users\\tilek\\anaconda3\\lib\\site-packages (from dtale) (5.24.1)\n",
      "Requirement already satisfied: Flask in c:\\users\\tilek\\anaconda3\\lib\\site-packages (from dtale) (3.0.3)\n",
      "Requirement already satisfied: itsdangerous in c:\\users\\tilek\\anaconda3\\lib\\site-packages (from dtale) (2.2.0)\n",
      "Requirement already satisfied: requests in c:\\users\\tilek\\anaconda3\\lib\\site-packages (from dtale) (2.32.3)\n",
      "Collecting kaleido (from dtale)\n",
      "  Downloading kaleido-0.2.1-py2.py3-none-win_amd64.whl.metadata (15 kB)\n",
      "Requirement already satisfied: matplotlib in c:\\users\\tilek\\anaconda3\\lib\\site-packages (from dtale) (3.9.2)\n",
      "Requirement already satisfied: soupsieve>1.2 in c:\\users\\tilek\\anaconda3\\lib\\site-packages (from beautifulsoup4!=4.13.0b2->dtale) (2.5)\n",
      "Collecting dash-html-components==2.0.0 (from dash<=2.18.2->dtale)\n",
      "  Downloading dash_html_components-2.0.0-py3-none-any.whl.metadata (3.8 kB)\n",
      "Collecting dash-core-components==2.0.0 (from dash<=2.18.2->dtale)\n",
      "  Downloading dash_core_components-2.0.0-py3-none-any.whl.metadata (2.9 kB)\n",
      "Collecting dash-table==5.0.0 (from dash<=2.18.2->dtale)\n",
      "  Downloading dash_table-5.0.0-py3-none-any.whl.metadata (2.4 kB)\n",
      "Requirement already satisfied: importlib-metadata in c:\\users\\tilek\\anaconda3\\lib\\site-packages (from dash<=2.18.2->dtale) (7.0.1)\n",
      "Requirement already satisfied: typing-extensions>=4.1.1 in c:\\users\\tilek\\anaconda3\\lib\\site-packages (from dash<=2.18.2->dtale) (4.13.2)\n",
      "Collecting retrying (from dash<=2.18.2->dtale)\n",
      "  Downloading retrying-1.3.4-py3-none-any.whl.metadata (6.9 kB)\n",
      "Requirement already satisfied: nest-asyncio in c:\\users\\tilek\\anaconda3\\lib\\site-packages (from dash<=2.18.2->dtale) (1.6.0)\n",
      "Requirement already satisfied: setuptools in c:\\users\\tilek\\anaconda3\\lib\\site-packages (from dash<=2.18.2->dtale) (75.1.0)\n",
      "Requirement already satisfied: Jinja2>=3.1.2 in c:\\users\\tilek\\anaconda3\\lib\\site-packages (from Flask->dtale) (3.1.4)\n",
      "Requirement already satisfied: click>=8.1.3 in c:\\users\\tilek\\anaconda3\\lib\\site-packages (from Flask->dtale) (8.1.7)\n",
      "Requirement already satisfied: blinker>=1.6.2 in c:\\users\\tilek\\anaconda3\\lib\\site-packages (from Flask->dtale) (1.6.2)\n",
      "Requirement already satisfied: tenacity>=6.2.0 in c:\\users\\tilek\\anaconda3\\lib\\site-packages (from plotly->dtale) (8.2.3)\n",
      "Requirement already satisfied: packaging in c:\\users\\tilek\\anaconda3\\lib\\site-packages (from plotly->dtale) (24.1)\n",
      "Requirement already satisfied: MarkupSafe>=2.1.1 in c:\\users\\tilek\\anaconda3\\lib\\site-packages (from werkzeug->dtale) (2.1.3)\n",
      "Requirement already satisfied: brotli in c:\\users\\tilek\\anaconda3\\lib\\site-packages (from Flask-Compress->dtale) (1.0.9)\n",
      "Requirement already satisfied: zstandard in c:\\users\\tilek\\anaconda3\\lib\\site-packages (from Flask-Compress->dtale) (0.23.0)\n",
      "Requirement already satisfied: contourpy>=1.0.1 in c:\\users\\tilek\\anaconda3\\lib\\site-packages (from matplotlib->dtale) (1.2.0)\n",
      "Requirement already satisfied: fonttools>=4.22.0 in c:\\users\\tilek\\anaconda3\\lib\\site-packages (from matplotlib->dtale) (4.51.0)\n",
      "Requirement already satisfied: kiwisolver>=1.3.1 in c:\\users\\tilek\\anaconda3\\lib\\site-packages (from matplotlib->dtale) (1.4.4)\n",
      "Requirement already satisfied: pillow>=8 in c:\\users\\tilek\\anaconda3\\lib\\site-packages (from matplotlib->dtale) (10.4.0)\n",
      "Requirement already satisfied: pyparsing>=2.3.1 in c:\\users\\tilek\\anaconda3\\lib\\site-packages (from matplotlib->dtale) (3.1.2)\n",
      "Requirement already satisfied: python-dateutil>=2.7 in c:\\users\\tilek\\anaconda3\\lib\\site-packages (from matplotlib->dtale) (2.9.0.post0)\n",
      "Requirement already satisfied: pytz>=2020.1 in c:\\users\\tilek\\anaconda3\\lib\\site-packages (from pandas->dtale) (2024.1)\n",
      "Requirement already satisfied: tzdata>=2022.7 in c:\\users\\tilek\\anaconda3\\lib\\site-packages (from pandas->dtale) (2023.3)\n",
      "Requirement already satisfied: charset-normalizer<4,>=2 in c:\\users\\tilek\\anaconda3\\lib\\site-packages (from requests->dtale) (3.3.2)\n",
      "Requirement already satisfied: idna<4,>=2.5 in c:\\users\\tilek\\anaconda3\\lib\\site-packages (from requests->dtale) (3.7)\n",
      "Requirement already satisfied: urllib3<3,>=1.21.1 in c:\\users\\tilek\\anaconda3\\lib\\site-packages (from requests->dtale) (2.2.3)\n",
      "Requirement already satisfied: joblib>=1.2.0 in c:\\users\\tilek\\anaconda3\\lib\\site-packages (from scikit-learn->dtale) (1.4.2)\n",
      "Requirement already satisfied: threadpoolctl>=3.1.0 in c:\\users\\tilek\\anaconda3\\lib\\site-packages (from scikit-learn->dtale) (3.5.0)\n",
      "Requirement already satisfied: patsy>=0.5.6 in c:\\users\\tilek\\anaconda3\\lib\\site-packages (from statsmodels->dtale) (0.5.6)\n",
      "Requirement already satisfied: colorama in c:\\users\\tilek\\anaconda3\\lib\\site-packages (from click>=8.1.3->Flask->dtale) (0.4.6)\n",
      "Requirement already satisfied: zipp>=0.5 in c:\\users\\tilek\\anaconda3\\lib\\site-packages (from importlib-metadata->dash<=2.18.2->dtale) (3.17.0)\n",
      "Downloading dtale-3.17.0-py2.py3-none-any.whl (14.9 MB)\n",
      "   ---------------------------------------- 0.0/14.9 MB ? eta -:--:--\n",
      "   --- ------------------------------------ 1.3/14.9 MB 6.7 MB/s eta 0:00:03\n",
      "   --------- ------------------------------ 3.4/14.9 MB 8.7 MB/s eta 0:00:02\n",
      "   ------------ --------------------------- 4.7/14.9 MB 8.9 MB/s eta 0:00:02\n",
      "   ---------------- ----------------------- 6.3/14.9 MB 7.9 MB/s eta 0:00:02\n",
      "   --------------------- ------------------ 8.1/14.9 MB 8.1 MB/s eta 0:00:01\n",
      "   ------------------------- -------------- 9.7/14.9 MB 8.1 MB/s eta 0:00:01\n",
      "   ------------------------------ --------- 11.5/14.9 MB 8.1 MB/s eta 0:00:01\n",
      "   ----------------------------------- ---- 13.1/14.9 MB 8.1 MB/s eta 0:00:01\n",
      "   ---------------------------------------  14.7/14.9 MB 8.0 MB/s eta 0:00:01\n",
      "   ---------------------------------------  14.7/14.9 MB 8.0 MB/s eta 0:00:01\n",
      "   ---------------------------------------  14.7/14.9 MB 8.0 MB/s eta 0:00:01\n",
      "   ---------------------------------------- 14.9/14.9 MB 6.1 MB/s eta 0:00:00\n",
      "Downloading dash-2.18.2-py3-none-any.whl (7.8 MB)\n",
      "   ---------------------------------------- 0.0/7.8 MB ? eta -:--:--\n",
      "   -------- ------------------------------- 1.6/7.8 MB 8.4 MB/s eta 0:00:01\n",
      "   ----------------- ---------------------- 3.4/7.8 MB 8.8 MB/s eta 0:00:01\n",
      "   ---------------------------- ----------- 5.5/7.8 MB 9.1 MB/s eta 0:00:01\n",
      "   ------------------------------------- -- 7.3/7.8 MB 9.3 MB/s eta 0:00:01\n",
      "   ---------------------------------------- 7.8/7.8 MB 8.8 MB/s eta 0:00:00\n",
      "Downloading dash_core_components-2.0.0-py3-none-any.whl (3.8 kB)\n",
      "Downloading dash_html_components-2.0.0-py3-none-any.whl (4.1 kB)\n",
      "Downloading dash_table-5.0.0-py3-none-any.whl (3.9 kB)\n",
      "Downloading dash_bootstrap_components-1.7.1-py3-none-any.whl (229 kB)\n",
      "Downloading future-1.0.0-py3-none-any.whl (491 kB)\n",
      "Downloading Flask_Compress-1.17-py3-none-any.whl (8.7 kB)\n",
      "Downloading kaleido-0.2.1-py2.py3-none-win_amd64.whl (65.9 MB)\n",
      "   ---------------------------------------- 0.0/65.9 MB ? eta -:--:--\n",
      "    --------------------------------------- 1.3/65.9 MB 8.4 MB/s eta 0:00:08\n",
      "   - -------------------------------------- 3.1/65.9 MB 8.0 MB/s eta 0:00:08\n",
      "   -- ------------------------------------- 4.5/65.9 MB 7.7 MB/s eta 0:00:09\n",
      "   --- ------------------------------------ 5.8/65.9 MB 7.0 MB/s eta 0:00:09\n",
      "   --- ------------------------------------ 6.6/65.9 MB 6.5 MB/s eta 0:00:10\n",
      "   ---- ----------------------------------- 7.6/65.9 MB 6.3 MB/s eta 0:00:10\n",
      "   ----- ---------------------------------- 9.2/65.9 MB 6.3 MB/s eta 0:00:09\n",
      "   ------ --------------------------------- 10.7/65.9 MB 6.5 MB/s eta 0:00:09\n",
      "   ------- -------------------------------- 12.1/65.9 MB 6.5 MB/s eta 0:00:09\n",
      "   -------- ------------------------------- 13.4/65.9 MB 6.5 MB/s eta 0:00:09\n",
      "   -------- ------------------------------- 14.2/65.9 MB 6.5 MB/s eta 0:00:08\n",
      "   -------- ------------------------------- 14.7/65.9 MB 6.3 MB/s eta 0:00:09\n",
      "   -------- ------------------------------- 14.7/65.9 MB 6.3 MB/s eta 0:00:09\n",
      "   --------- ------------------------------ 15.7/65.9 MB 5.4 MB/s eta 0:00:10\n",
      "   ---------- ----------------------------- 17.0/65.9 MB 5.5 MB/s eta 0:00:09\n",
      "   ----------- ---------------------------- 18.6/65.9 MB 5.6 MB/s eta 0:00:09\n",
      "   ------------ --------------------------- 19.9/65.9 MB 5.6 MB/s eta 0:00:09\n",
      "   ------------- -------------------------- 21.8/65.9 MB 5.8 MB/s eta 0:00:08\n",
      "   -------------- ------------------------- 23.6/65.9 MB 6.0 MB/s eta 0:00:08\n",
      "   --------------- ------------------------ 25.2/65.9 MB 6.1 MB/s eta 0:00:07\n",
      "   ---------------- ----------------------- 27.0/65.9 MB 6.2 MB/s eta 0:00:07\n",
      "   ----------------- ---------------------- 28.8/65.9 MB 6.3 MB/s eta 0:00:06\n",
      "   ------------------ --------------------- 30.4/65.9 MB 6.4 MB/s eta 0:00:06\n",
      "   ------------------- -------------------- 32.5/65.9 MB 6.5 MB/s eta 0:00:06\n",
      "   -------------------- ------------------- 34.3/65.9 MB 6.6 MB/s eta 0:00:05\n",
      "   --------------------- ------------------ 36.2/65.9 MB 6.7 MB/s eta 0:00:05\n",
      "   ---------------------- ----------------- 37.7/65.9 MB 6.7 MB/s eta 0:00:05\n",
      "   ------------------------ --------------- 39.6/65.9 MB 6.8 MB/s eta 0:00:04\n",
      "   ------------------------- -------------- 41.4/65.9 MB 6.9 MB/s eta 0:00:04\n",
      "   -------------------------- ------------- 43.0/65.9 MB 6.9 MB/s eta 0:00:04\n",
      "   --------------------------- ------------ 44.8/65.9 MB 6.9 MB/s eta 0:00:04\n",
      "   ---------------------------- ----------- 46.9/65.9 MB 7.0 MB/s eta 0:00:03\n",
      "   ----------------------------- ---------- 48.8/65.9 MB 7.1 MB/s eta 0:00:03\n",
      "   ------------------------------ --------- 50.3/65.9 MB 7.1 MB/s eta 0:00:03\n",
      "   ------------------------------- -------- 52.2/65.9 MB 7.1 MB/s eta 0:00:02\n",
      "   -------------------------------- ------- 53.7/65.9 MB 7.2 MB/s eta 0:00:02\n",
      "   --------------------------------- ------ 55.6/65.9 MB 7.2 MB/s eta 0:00:02\n",
      "   ---------------------------------- ----- 57.4/65.9 MB 7.2 MB/s eta 0:00:02\n",
      "   ----------------------------------- ---- 59.0/65.9 MB 7.2 MB/s eta 0:00:01\n",
      "   ------------------------------------ --- 60.8/65.9 MB 7.3 MB/s eta 0:00:01\n",
      "   ------------------------------------- -- 62.4/65.9 MB 7.3 MB/s eta 0:00:01\n",
      "   ---------------------------------------  64.5/65.9 MB 7.3 MB/s eta 0:00:01\n",
      "   ---------------------------------------  65.8/65.9 MB 7.3 MB/s eta 0:00:01\n",
      "   ---------------------------------------  65.8/65.9 MB 7.3 MB/s eta 0:00:01\n",
      "   ---------------------------------------- 65.9/65.9 MB 7.1 MB/s eta 0:00:00\n",
      "Downloading missingno-0.5.2-py3-none-any.whl (8.7 kB)\n",
      "Downloading squarify-0.4.4-py3-none-any.whl (4.1 kB)\n",
      "Downloading strsimpy-0.2.1-py3-none-any.whl (45 kB)\n",
      "Downloading retrying-1.3.4-py3-none-any.whl (11 kB)\n",
      "Building wheels for collected packages: dash-daq\n",
      "  Building wheel for dash-daq (setup.py): started\n",
      "  Building wheel for dash-daq (setup.py): finished with status 'done'\n",
      "  Created wheel for dash-daq: filename=dash_daq-0.5.0-py3-none-any.whl size=669717 sha256=10ffcb2af60e069fb0b61910f1ebaa31f270f0bab145cad1d02255303be1d4a5\n",
      "  Stored in directory: c:\\users\\tilek\\appdata\\local\\pip\\cache\\wheels\\40\\89\\1a\\4435006b003f97da22dbcad819d26f957dad9d54a1678876fd\n",
      "Successfully built dash-daq\n",
      "Installing collected packages: strsimpy, squarify, kaleido, dash-table, dash-html-components, dash-core-components, retrying, future, Flask-Compress, dash, missingno, dash-daq, dash-bootstrap-components, dtale\n",
      "Successfully installed Flask-Compress-1.17 dash-2.18.2 dash-bootstrap-components-1.7.1 dash-core-components-2.0.0 dash-daq-0.5.0 dash-html-components-2.0.0 dash-table-5.0.0 dtale-3.17.0 future-1.0.0 kaleido-0.2.1 missingno-0.5.2 retrying-1.3.4 squarify-0.4.4 strsimpy-0.2.1\n"
     ]
    }
   ],
   "source": [
    "!pip install dtale"
   ]
  },
  {
   "cell_type": "code",
   "execution_count": 77,
   "id": "399d8de8-b3cf-4e24-9078-7fd101c05d9c",
   "metadata": {},
   "outputs": [
    {
     "data": {
      "text/html": [
       "\n",
       "        <iframe\n",
       "            width=\"100%\"\n",
       "            height=\"475\"\n",
       "            src=\"http://DESKTOP-5CD01UT:40000/dtale/iframe/1\"\n",
       "            frameborder=\"0\"\n",
       "            allowfullscreen\n",
       "            \n",
       "        ></iframe>\n",
       "        "
      ],
      "text/plain": [
       "<IPython.lib.display.IFrame at 0x1d80accc9e0>"
      ]
     },
     "metadata": {},
     "output_type": "display_data"
    },
    {
     "data": {
      "text/plain": []
     },
     "execution_count": 77,
     "metadata": {},
     "output_type": "execute_result"
    }
   ],
   "source": [
    "import dtale\n",
    "dtale.show(df)"
   ]
  },
  {
   "cell_type": "code",
   "execution_count": 107,
   "id": "0c05204b-1ab6-4cf9-a54a-3fdcb82473f5",
   "metadata": {},
   "outputs": [
    {
     "name": "stdout",
     "output_type": "stream",
     "text": [
      "rbc\n",
      "normal      353\n",
      "abnormal     47\n",
      "Name: count, dtype: int64\n",
      "\n",
      "pc\n",
      "normal      324\n",
      "abnormal     76\n",
      "Name: count, dtype: int64\n",
      "\n",
      "pcc\n",
      "notpresent    358\n",
      "present        42\n",
      "Name: count, dtype: int64\n",
      "\n",
      "ba\n",
      "notpresent    378\n",
      "present        22\n",
      "Name: count, dtype: int64\n",
      "\n",
      "htn\n",
      "no     253\n",
      "yes    147\n",
      "Name: count, dtype: int64\n",
      "\n",
      "dm\n",
      "no     263\n",
      "yes    137\n",
      "Name: count, dtype: int64\n",
      "\n",
      "cad\n",
      "no     366\n",
      "yes     34\n",
      "Name: count, dtype: int64\n",
      "\n",
      "appet\n",
      "good    318\n",
      "poor     82\n",
      "Name: count, dtype: int64\n",
      "\n",
      "pe\n",
      "no     324\n",
      "yes     76\n",
      "Name: count, dtype: int64\n",
      "\n",
      "ane\n",
      "no     340\n",
      "yes     60\n",
      "Name: count, dtype: int64\n",
      "\n"
     ]
    }
   ],
   "source": [
    "for i in categorical:\n",
    "    print(x[i].value_counts())\n",
    "    print() # Counts how many times each unique value appears in that column.\n",
    "# Understand the class balance (e.g., how many 'yes' vs 'no')\n",
    "#Spot rare categories\n",
    "#Check if label encoding or one-hot encoding is appropriate"
   ]
  },
  {
   "cell_type": "code",
   "execution_count": 108,
   "id": "0b035133-5356-441b-bbad-7f5125f71691",
   "metadata": {},
   "outputs": [],
   "source": [
    "df_dummies = pd.get_dummies(x[categorical], drop_first=True) # x[categorical]: Selects only the columns in x that are listed in the categorical list \n",
    "# pd.get_dummies(...):Converts categorical variables into one-hot encoded columns.\n",
    "#drop_first=True: Drops the first category of each feature to avoid the dummy variable trap (multicollinearity). This means if color has 3 categories, only 2 dummy columns will be created, because the dropped category is implied when both are 0.\n",
    "# Why use get_dummies? Many machine learning algorithms require numerical input."
   ]
  },
  {
   "cell_type": "code",
   "execution_count": 109,
   "id": "fff3f73c-d21d-4374-ba35-35b00385858a",
   "metadata": {},
   "outputs": [
    {
     "data": {
      "text/html": [
       "<div>\n",
       "<style scoped>\n",
       "    .dataframe tbody tr th:only-of-type {\n",
       "        vertical-align: middle;\n",
       "    }\n",
       "\n",
       "    .dataframe tbody tr th {\n",
       "        vertical-align: top;\n",
       "    }\n",
       "\n",
       "    .dataframe thead th {\n",
       "        text-align: right;\n",
       "    }\n",
       "</style>\n",
       "<table border=\"1\" class=\"dataframe\">\n",
       "  <thead>\n",
       "    <tr style=\"text-align: right;\">\n",
       "      <th></th>\n",
       "      <th>rbc</th>\n",
       "      <th>pc</th>\n",
       "      <th>pcc</th>\n",
       "      <th>ba</th>\n",
       "      <th>htn</th>\n",
       "      <th>dm</th>\n",
       "      <th>cad</th>\n",
       "      <th>appet</th>\n",
       "      <th>pe</th>\n",
       "      <th>ane</th>\n",
       "    </tr>\n",
       "  </thead>\n",
       "  <tbody>\n",
       "    <tr>\n",
       "      <th>0</th>\n",
       "      <td>normal</td>\n",
       "      <td>normal</td>\n",
       "      <td>notpresent</td>\n",
       "      <td>notpresent</td>\n",
       "      <td>yes</td>\n",
       "      <td>yes</td>\n",
       "      <td>no</td>\n",
       "      <td>good</td>\n",
       "      <td>no</td>\n",
       "      <td>no</td>\n",
       "    </tr>\n",
       "    <tr>\n",
       "      <th>1</th>\n",
       "      <td>normal</td>\n",
       "      <td>normal</td>\n",
       "      <td>notpresent</td>\n",
       "      <td>notpresent</td>\n",
       "      <td>no</td>\n",
       "      <td>no</td>\n",
       "      <td>no</td>\n",
       "      <td>good</td>\n",
       "      <td>no</td>\n",
       "      <td>no</td>\n",
       "    </tr>\n",
       "    <tr>\n",
       "      <th>2</th>\n",
       "      <td>normal</td>\n",
       "      <td>normal</td>\n",
       "      <td>notpresent</td>\n",
       "      <td>notpresent</td>\n",
       "      <td>no</td>\n",
       "      <td>yes</td>\n",
       "      <td>no</td>\n",
       "      <td>poor</td>\n",
       "      <td>no</td>\n",
       "      <td>yes</td>\n",
       "    </tr>\n",
       "    <tr>\n",
       "      <th>3</th>\n",
       "      <td>normal</td>\n",
       "      <td>abnormal</td>\n",
       "      <td>present</td>\n",
       "      <td>notpresent</td>\n",
       "      <td>yes</td>\n",
       "      <td>no</td>\n",
       "      <td>no</td>\n",
       "      <td>poor</td>\n",
       "      <td>yes</td>\n",
       "      <td>yes</td>\n",
       "    </tr>\n",
       "    <tr>\n",
       "      <th>4</th>\n",
       "      <td>normal</td>\n",
       "      <td>normal</td>\n",
       "      <td>notpresent</td>\n",
       "      <td>notpresent</td>\n",
       "      <td>no</td>\n",
       "      <td>no</td>\n",
       "      <td>no</td>\n",
       "      <td>good</td>\n",
       "      <td>no</td>\n",
       "      <td>no</td>\n",
       "    </tr>\n",
       "    <tr>\n",
       "      <th>...</th>\n",
       "      <td>...</td>\n",
       "      <td>...</td>\n",
       "      <td>...</td>\n",
       "      <td>...</td>\n",
       "      <td>...</td>\n",
       "      <td>...</td>\n",
       "      <td>...</td>\n",
       "      <td>...</td>\n",
       "      <td>...</td>\n",
       "      <td>...</td>\n",
       "    </tr>\n",
       "    <tr>\n",
       "      <th>395</th>\n",
       "      <td>normal</td>\n",
       "      <td>normal</td>\n",
       "      <td>notpresent</td>\n",
       "      <td>notpresent</td>\n",
       "      <td>no</td>\n",
       "      <td>no</td>\n",
       "      <td>no</td>\n",
       "      <td>good</td>\n",
       "      <td>no</td>\n",
       "      <td>no</td>\n",
       "    </tr>\n",
       "    <tr>\n",
       "      <th>396</th>\n",
       "      <td>normal</td>\n",
       "      <td>normal</td>\n",
       "      <td>notpresent</td>\n",
       "      <td>notpresent</td>\n",
       "      <td>no</td>\n",
       "      <td>no</td>\n",
       "      <td>no</td>\n",
       "      <td>good</td>\n",
       "      <td>no</td>\n",
       "      <td>no</td>\n",
       "    </tr>\n",
       "    <tr>\n",
       "      <th>397</th>\n",
       "      <td>normal</td>\n",
       "      <td>normal</td>\n",
       "      <td>notpresent</td>\n",
       "      <td>notpresent</td>\n",
       "      <td>no</td>\n",
       "      <td>no</td>\n",
       "      <td>no</td>\n",
       "      <td>good</td>\n",
       "      <td>no</td>\n",
       "      <td>no</td>\n",
       "    </tr>\n",
       "    <tr>\n",
       "      <th>398</th>\n",
       "      <td>normal</td>\n",
       "      <td>normal</td>\n",
       "      <td>notpresent</td>\n",
       "      <td>notpresent</td>\n",
       "      <td>no</td>\n",
       "      <td>no</td>\n",
       "      <td>no</td>\n",
       "      <td>good</td>\n",
       "      <td>no</td>\n",
       "      <td>no</td>\n",
       "    </tr>\n",
       "    <tr>\n",
       "      <th>399</th>\n",
       "      <td>normal</td>\n",
       "      <td>normal</td>\n",
       "      <td>notpresent</td>\n",
       "      <td>notpresent</td>\n",
       "      <td>no</td>\n",
       "      <td>no</td>\n",
       "      <td>no</td>\n",
       "      <td>good</td>\n",
       "      <td>no</td>\n",
       "      <td>no</td>\n",
       "    </tr>\n",
       "  </tbody>\n",
       "</table>\n",
       "<p>400 rows × 10 columns</p>\n",
       "</div>"
      ],
      "text/plain": [
       "        rbc        pc         pcc          ba  htn   dm cad appet   pe  ane\n",
       "0    normal    normal  notpresent  notpresent  yes  yes  no  good   no   no\n",
       "1    normal    normal  notpresent  notpresent   no   no  no  good   no   no\n",
       "2    normal    normal  notpresent  notpresent   no  yes  no  poor   no  yes\n",
       "3    normal  abnormal     present  notpresent  yes   no  no  poor  yes  yes\n",
       "4    normal    normal  notpresent  notpresent   no   no  no  good   no   no\n",
       "..      ...       ...         ...         ...  ...  ...  ..   ...  ...  ...\n",
       "395  normal    normal  notpresent  notpresent   no   no  no  good   no   no\n",
       "396  normal    normal  notpresent  notpresent   no   no  no  good   no   no\n",
       "397  normal    normal  notpresent  notpresent   no   no  no  good   no   no\n",
       "398  normal    normal  notpresent  notpresent   no   no  no  good   no   no\n",
       "399  normal    normal  notpresent  notpresent   no   no  no  good   no   no\n",
       "\n",
       "[400 rows x 10 columns]"
      ]
     },
     "metadata": {},
     "output_type": "display_data"
    }
   ],
   "source": [
    "x[categorical]"
   ]
  },
  {
   "cell_type": "code",
   "execution_count": 110,
   "id": "35d3b3eb-0ad8-44aa-93e8-cb435a436e12",
   "metadata": {},
   "outputs": [
    {
     "data": {
      "application/vnd.jupyter.widget-view+json": {
       "model_id": "e4af1f817dbf4a6e97fe6fc427604913",
       "version_major": 2,
       "version_minor": 0
      },
      "text/plain": [
       "Button(description='Toggle Pandas/Lux', layout=Layout(top='5px', width='140px'), style=ButtonStyle())"
      ]
     },
     "metadata": {},
     "output_type": "display_data"
    },
    {
     "data": {
      "application/vnd.jupyter.widget-view+json": {
       "model_id": "9dc5d975c2be433fbbb9d0d3316b5b06",
       "version_major": 2,
       "version_minor": 0
      },
      "text/plain": [
       "Output()"
      ]
     },
     "metadata": {},
     "output_type": "display_data"
    }
   ],
   "source": [
    "df_dummies #It has only the categorical columns from x but transformed into dummy (one-hot encoded) variables.\n",
    "# If the original x[categorical] looked like this:\n",
    "# gender\tsmoker\n",
    "# male\t    yes\n",
    "# Then df_dummies would be:\n",
    "#gender_male\tsmoker_yes\n",
    "# 1\t                 1"
   ]
  },
  {
   "cell_type": "code",
   "execution_count": 111,
   "id": "93f65bab-19f4-4f1d-864b-0c1beea537d5",
   "metadata": {},
   "outputs": [
    {
     "data": {
      "text/plain": [
       "array([[1, 1, 0, ..., 0, 0, 0],\n",
       "       [1, 1, 0, ..., 0, 0, 0],\n",
       "       [1, 1, 0, ..., 1, 0, 1],\n",
       "       ...,\n",
       "       [1, 1, 0, ..., 0, 0, 0],\n",
       "       [1, 1, 0, ..., 0, 0, 0],\n",
       "       [1, 1, 0, ..., 0, 0, 0]])"
      ]
     },
     "execution_count": 111,
     "metadata": {},
     "output_type": "execute_result"
    }
   ],
   "source": [
    "df_dummies1 = np.where(df_dummies[0:]==True,1,0) \n",
    "df_dummies1\n",
    "# np.where(condition, 1, 0) returns an array where: If the condition is True, it puts 1 Else, it puts 0"
   ]
  },
  {
   "cell_type": "code",
   "execution_count": 112,
   "id": "366f5ece-5a77-4bec-9d0e-077edec02918",
   "metadata": {},
   "outputs": [],
   "source": [
    "df_dummies1 = pd.DataFrame(df_dummies1) # pd.DataFrame(df_dummies1) converts this array back into a pandas DataFrame.This allows you to work with labeled columns and use pandas features again.\n",
    "df_dummies1.columns = df_dummies.columns # Sets the column names of the new DataFrame (df_dummies1) to be the same as the original dummy DataFrame (df_dummies).\n",
    "# This is necessary because when you convert a NumPy array to a DataFrame, it loses column names and uses default integer column labels (0, 1, 2, ...)."
   ]
  },
  {
   "cell_type": "code",
   "execution_count": 113,
   "id": "f94ab4a9-6c46-4afe-92b7-c692c747d813",
   "metadata": {},
   "outputs": [
    {
     "data": {
      "application/vnd.jupyter.widget-view+json": {
       "model_id": "528cb98f2ee04111ac2c8ddfa50cce86",
       "version_major": 2,
       "version_minor": 0
      },
      "text/plain": [
       "Button(description='Toggle Pandas/Lux', layout=Layout(top='5px', width='140px'), style=ButtonStyle())"
      ]
     },
     "metadata": {},
     "output_type": "display_data"
    },
    {
     "data": {
      "application/vnd.jupyter.widget-view+json": {
       "model_id": "ef235987bab7482d8608d737696c128e",
       "version_major": 2,
       "version_minor": 0
      },
      "text/plain": [
       "Output()"
      ]
     },
     "metadata": {},
     "output_type": "display_data"
    }
   ],
   "source": [
    "df_dummies1"
   ]
  },
  {
   "cell_type": "code",
   "execution_count": 114,
   "id": "64b9a69d-9bcf-4281-a54f-c8964e44f580",
   "metadata": {},
   "outputs": [],
   "source": [
    "df1 = pd.concat([x.drop(columns=categorical), df_dummies1], axis=1)\n",
    "# x.drop(columns=categorical). From the DataFrame x, this removes all columns listed in categorical (which contains the names of the categorical features)\n",
    "# So you get a DataFrame with only the non-categorical columns (e.g., numeric features).\n",
    "\n",
    "#[ ... , df_dummies1 ] This is a list of two DataFrames:\n",
    "#The first: x without the categorical columns (numeric part).\n",
    "#The second: df_dummies1, which contains the one-hot encoded versions of the categorical columns.\n",
    "# pd.concat([...], axis=1)\n",
    "# Concatenates these two DataFrames side-by-side (column-wise).\n",
    "# axis=1 means columns are joined horizontally.\n",
    "\n",
    "#Why do this? Most ML models require all numeric inputs.\n",
    "\n",
    "#You remove the original categorical columns (strings) and replace them with numeric dummy variables.\n",
    "\n",
    "#This prevents duplication or errors during training."
   ]
  },
  {
   "cell_type": "code",
   "execution_count": 117,
   "id": "a3cceb1e-d9d0-43ff-a411-2d74fe92c9d8",
   "metadata": {},
   "outputs": [],
   "source": [
    "import lux\n",
    "lux.config.show = False"
   ]
  },
  {
   "cell_type": "code",
   "execution_count": 121,
   "id": "770a98b1-5808-45e3-982c-baf41b304fc7",
   "metadata": {},
   "outputs": [
    {
     "data": {
      "text/plain": [
       "<bound method LuxDataFrame.head of       age    bp     sg   al   su    bgr    bu   sc    sod  pot  ...  \\\n",
       "0    48.0  80.0  1.020  1.0  0.0  121.0  36.0  1.2  138.0  4.4  ...   \n",
       "1     7.0  50.0  1.020  4.0  0.0  121.0  18.0  0.8  138.0  4.4  ...   \n",
       "2    62.0  80.0  1.010  2.0  3.0  423.0  53.0  1.8  138.0  4.4  ...   \n",
       "3    48.0  70.0  1.005  4.0  0.0  117.0  56.0  3.8  111.0  2.5  ...   \n",
       "4    51.0  80.0  1.010  2.0  0.0  106.0  26.0  1.4  138.0  4.4  ...   \n",
       "..    ...   ...    ...  ...  ...    ...   ...  ...    ...  ...  ...   \n",
       "395  55.0  80.0  1.020  0.0  0.0  140.0  49.0  0.5  150.0  4.9  ...   \n",
       "396  42.0  70.0  1.025  0.0  0.0   75.0  31.0  1.2  141.0  3.5  ...   \n",
       "397  12.0  80.0  1.020  0.0  0.0  100.0  26.0  0.6  137.0  4.4  ...   \n",
       "398  17.0  60.0  1.025  0.0  0.0  114.0  50.0  1.0  135.0  4.9  ...   \n",
       "399  58.0  80.0  1.025  0.0  0.0  131.0  18.0  1.1  141.0  3.5  ...   \n",
       "\n",
       "     rbc_normal  pc_normal  pcc_present  ba_present  htn_yes  dm_yes  cad_yes  \\\n",
       "0             1          1            0           0        1       1        0   \n",
       "1             1          1            0           0        0       0        0   \n",
       "2             1          1            0           0        0       1        0   \n",
       "3             1          0            1           0        1       0        0   \n",
       "4             1          1            0           0        0       0        0   \n",
       "..          ...        ...          ...         ...      ...     ...      ...   \n",
       "395           1          1            0           0        0       0        0   \n",
       "396           1          1            0           0        0       0        0   \n",
       "397           1          1            0           0        0       0        0   \n",
       "398           1          1            0           0        0       0        0   \n",
       "399           1          1            0           0        0       0        0   \n",
       "\n",
       "     appet_poor  pe_yes  ane_yes  \n",
       "0             0       0        0  \n",
       "1             0       0        0  \n",
       "2             1       0        1  \n",
       "3             1       1        1  \n",
       "4             0       0        0  \n",
       "..          ...     ...      ...  \n",
       "395           0       0        0  \n",
       "396           0       0        0  \n",
       "397           0       0        0  \n",
       "398           0       0        0  \n",
       "399           0       0        0  \n",
       "\n",
       "[400 rows x 24 columns]>"
      ]
     },
     "execution_count": 121,
     "metadata": {},
     "output_type": "execute_result"
    }
   ],
   "source": [
    "df1.head"
   ]
  },
  {
   "cell_type": "code",
   "execution_count": 118,
   "id": "a09ca4e1-35cd-403c-abe2-5960e71eb6cb",
   "metadata": {},
   "outputs": [
    {
     "data": {
      "text/html": [
       "<div>\n",
       "<style scoped>\n",
       "    .dataframe tbody tr th:only-of-type {\n",
       "        vertical-align: middle;\n",
       "    }\n",
       "\n",
       "    .dataframe tbody tr th {\n",
       "        vertical-align: top;\n",
       "    }\n",
       "\n",
       "    .dataframe thead th {\n",
       "        text-align: right;\n",
       "    }\n",
       "</style>\n",
       "<table border=\"1\" class=\"dataframe\">\n",
       "  <thead>\n",
       "    <tr style=\"text-align: right;\">\n",
       "      <th></th>\n",
       "      <th>age</th>\n",
       "      <th>bp</th>\n",
       "      <th>sg</th>\n",
       "      <th>al</th>\n",
       "      <th>su</th>\n",
       "      <th>bgr</th>\n",
       "      <th>bu</th>\n",
       "      <th>sc</th>\n",
       "      <th>sod</th>\n",
       "      <th>pot</th>\n",
       "      <th>...</th>\n",
       "      <th>rbc_normal</th>\n",
       "      <th>pc_normal</th>\n",
       "      <th>pcc_present</th>\n",
       "      <th>ba_present</th>\n",
       "      <th>htn_yes</th>\n",
       "      <th>dm_yes</th>\n",
       "      <th>cad_yes</th>\n",
       "      <th>appet_poor</th>\n",
       "      <th>pe_yes</th>\n",
       "      <th>ane_yes</th>\n",
       "    </tr>\n",
       "  </thead>\n",
       "  <tbody>\n",
       "    <tr>\n",
       "      <th>count</th>\n",
       "      <td>400.000000</td>\n",
       "      <td>400.000000</td>\n",
       "      <td>400.000000</td>\n",
       "      <td>400.00000</td>\n",
       "      <td>400.000000</td>\n",
       "      <td>400.000000</td>\n",
       "      <td>400.000000</td>\n",
       "      <td>400.000000</td>\n",
       "      <td>400.000000</td>\n",
       "      <td>400.000000</td>\n",
       "      <td>...</td>\n",
       "      <td>400.000000</td>\n",
       "      <td>400.000000</td>\n",
       "      <td>400.000000</td>\n",
       "      <td>400.000000</td>\n",
       "      <td>400.000000</td>\n",
       "      <td>400.00000</td>\n",
       "      <td>400.000000</td>\n",
       "      <td>400.000000</td>\n",
       "      <td>400.000000</td>\n",
       "      <td>400.000000</td>\n",
       "    </tr>\n",
       "    <tr>\n",
       "      <th>mean</th>\n",
       "      <td>51.562500</td>\n",
       "      <td>76.575000</td>\n",
       "      <td>1.017712</td>\n",
       "      <td>0.90000</td>\n",
       "      <td>0.395000</td>\n",
       "      <td>145.062500</td>\n",
       "      <td>56.693000</td>\n",
       "      <td>2.997125</td>\n",
       "      <td>137.631250</td>\n",
       "      <td>4.577250</td>\n",
       "      <td>...</td>\n",
       "      <td>0.882500</td>\n",
       "      <td>0.810000</td>\n",
       "      <td>0.105000</td>\n",
       "      <td>0.055000</td>\n",
       "      <td>0.367500</td>\n",
       "      <td>0.34250</td>\n",
       "      <td>0.085000</td>\n",
       "      <td>0.205000</td>\n",
       "      <td>0.190000</td>\n",
       "      <td>0.150000</td>\n",
       "    </tr>\n",
       "    <tr>\n",
       "      <th>std</th>\n",
       "      <td>16.982996</td>\n",
       "      <td>13.489785</td>\n",
       "      <td>0.005434</td>\n",
       "      <td>1.31313</td>\n",
       "      <td>1.040038</td>\n",
       "      <td>75.260774</td>\n",
       "      <td>49.395258</td>\n",
       "      <td>5.628886</td>\n",
       "      <td>9.206332</td>\n",
       "      <td>2.821357</td>\n",
       "      <td>...</td>\n",
       "      <td>0.322418</td>\n",
       "      <td>0.392792</td>\n",
       "      <td>0.306937</td>\n",
       "      <td>0.228266</td>\n",
       "      <td>0.482728</td>\n",
       "      <td>0.47514</td>\n",
       "      <td>0.279231</td>\n",
       "      <td>0.404207</td>\n",
       "      <td>0.392792</td>\n",
       "      <td>0.357519</td>\n",
       "    </tr>\n",
       "    <tr>\n",
       "      <th>min</th>\n",
       "      <td>2.000000</td>\n",
       "      <td>50.000000</td>\n",
       "      <td>1.005000</td>\n",
       "      <td>0.00000</td>\n",
       "      <td>0.000000</td>\n",
       "      <td>22.000000</td>\n",
       "      <td>1.500000</td>\n",
       "      <td>0.400000</td>\n",
       "      <td>4.500000</td>\n",
       "      <td>2.500000</td>\n",
       "      <td>...</td>\n",
       "      <td>0.000000</td>\n",
       "      <td>0.000000</td>\n",
       "      <td>0.000000</td>\n",
       "      <td>0.000000</td>\n",
       "      <td>0.000000</td>\n",
       "      <td>0.00000</td>\n",
       "      <td>0.000000</td>\n",
       "      <td>0.000000</td>\n",
       "      <td>0.000000</td>\n",
       "      <td>0.000000</td>\n",
       "    </tr>\n",
       "    <tr>\n",
       "      <th>25%</th>\n",
       "      <td>42.000000</td>\n",
       "      <td>70.000000</td>\n",
       "      <td>1.015000</td>\n",
       "      <td>0.00000</td>\n",
       "      <td>0.000000</td>\n",
       "      <td>101.000000</td>\n",
       "      <td>27.000000</td>\n",
       "      <td>0.900000</td>\n",
       "      <td>135.000000</td>\n",
       "      <td>4.000000</td>\n",
       "      <td>...</td>\n",
       "      <td>1.000000</td>\n",
       "      <td>1.000000</td>\n",
       "      <td>0.000000</td>\n",
       "      <td>0.000000</td>\n",
       "      <td>0.000000</td>\n",
       "      <td>0.00000</td>\n",
       "      <td>0.000000</td>\n",
       "      <td>0.000000</td>\n",
       "      <td>0.000000</td>\n",
       "      <td>0.000000</td>\n",
       "    </tr>\n",
       "    <tr>\n",
       "      <th>50%</th>\n",
       "      <td>55.000000</td>\n",
       "      <td>80.000000</td>\n",
       "      <td>1.020000</td>\n",
       "      <td>0.00000</td>\n",
       "      <td>0.000000</td>\n",
       "      <td>121.000000</td>\n",
       "      <td>42.000000</td>\n",
       "      <td>1.300000</td>\n",
       "      <td>138.000000</td>\n",
       "      <td>4.400000</td>\n",
       "      <td>...</td>\n",
       "      <td>1.000000</td>\n",
       "      <td>1.000000</td>\n",
       "      <td>0.000000</td>\n",
       "      <td>0.000000</td>\n",
       "      <td>0.000000</td>\n",
       "      <td>0.00000</td>\n",
       "      <td>0.000000</td>\n",
       "      <td>0.000000</td>\n",
       "      <td>0.000000</td>\n",
       "      <td>0.000000</td>\n",
       "    </tr>\n",
       "    <tr>\n",
       "      <th>75%</th>\n",
       "      <td>64.000000</td>\n",
       "      <td>80.000000</td>\n",
       "      <td>1.020000</td>\n",
       "      <td>2.00000</td>\n",
       "      <td>0.000000</td>\n",
       "      <td>150.000000</td>\n",
       "      <td>61.750000</td>\n",
       "      <td>2.725000</td>\n",
       "      <td>141.000000</td>\n",
       "      <td>4.800000</td>\n",
       "      <td>...</td>\n",
       "      <td>1.000000</td>\n",
       "      <td>1.000000</td>\n",
       "      <td>0.000000</td>\n",
       "      <td>0.000000</td>\n",
       "      <td>1.000000</td>\n",
       "      <td>1.00000</td>\n",
       "      <td>0.000000</td>\n",
       "      <td>0.000000</td>\n",
       "      <td>0.000000</td>\n",
       "      <td>0.000000</td>\n",
       "    </tr>\n",
       "    <tr>\n",
       "      <th>max</th>\n",
       "      <td>90.000000</td>\n",
       "      <td>180.000000</td>\n",
       "      <td>1.025000</td>\n",
       "      <td>5.00000</td>\n",
       "      <td>5.000000</td>\n",
       "      <td>490.000000</td>\n",
       "      <td>391.000000</td>\n",
       "      <td>76.000000</td>\n",
       "      <td>163.000000</td>\n",
       "      <td>47.000000</td>\n",
       "      <td>...</td>\n",
       "      <td>1.000000</td>\n",
       "      <td>1.000000</td>\n",
       "      <td>1.000000</td>\n",
       "      <td>1.000000</td>\n",
       "      <td>1.000000</td>\n",
       "      <td>1.00000</td>\n",
       "      <td>1.000000</td>\n",
       "      <td>1.000000</td>\n",
       "      <td>1.000000</td>\n",
       "      <td>1.000000</td>\n",
       "    </tr>\n",
       "  </tbody>\n",
       "</table>\n",
       "<p>8 rows × 24 columns</p>\n",
       "</div>"
      ],
      "text/plain": [
       "              age          bp          sg         al          su         bgr  \\\n",
       "count  400.000000  400.000000  400.000000  400.00000  400.000000  400.000000   \n",
       "mean    51.562500   76.575000    1.017712    0.90000    0.395000  145.062500   \n",
       "std     16.982996   13.489785    0.005434    1.31313    1.040038   75.260774   \n",
       "min      2.000000   50.000000    1.005000    0.00000    0.000000   22.000000   \n",
       "25%     42.000000   70.000000    1.015000    0.00000    0.000000  101.000000   \n",
       "50%     55.000000   80.000000    1.020000    0.00000    0.000000  121.000000   \n",
       "75%     64.000000   80.000000    1.020000    2.00000    0.000000  150.000000   \n",
       "max     90.000000  180.000000    1.025000    5.00000    5.000000  490.000000   \n",
       "\n",
       "               bu          sc         sod         pot  ...  rbc_normal  \\\n",
       "count  400.000000  400.000000  400.000000  400.000000  ...  400.000000   \n",
       "mean    56.693000    2.997125  137.631250    4.577250  ...    0.882500   \n",
       "std     49.395258    5.628886    9.206332    2.821357  ...    0.322418   \n",
       "min      1.500000    0.400000    4.500000    2.500000  ...    0.000000   \n",
       "25%     27.000000    0.900000  135.000000    4.000000  ...    1.000000   \n",
       "50%     42.000000    1.300000  138.000000    4.400000  ...    1.000000   \n",
       "75%     61.750000    2.725000  141.000000    4.800000  ...    1.000000   \n",
       "max    391.000000   76.000000  163.000000   47.000000  ...    1.000000   \n",
       "\n",
       "        pc_normal  pcc_present  ba_present     htn_yes     dm_yes     cad_yes  \\\n",
       "count  400.000000   400.000000  400.000000  400.000000  400.00000  400.000000   \n",
       "mean     0.810000     0.105000    0.055000    0.367500    0.34250    0.085000   \n",
       "std      0.392792     0.306937    0.228266    0.482728    0.47514    0.279231   \n",
       "min      0.000000     0.000000    0.000000    0.000000    0.00000    0.000000   \n",
       "25%      1.000000     0.000000    0.000000    0.000000    0.00000    0.000000   \n",
       "50%      1.000000     0.000000    0.000000    0.000000    0.00000    0.000000   \n",
       "75%      1.000000     0.000000    0.000000    1.000000    1.00000    0.000000   \n",
       "max      1.000000     1.000000    1.000000    1.000000    1.00000    1.000000   \n",
       "\n",
       "       appet_poor      pe_yes     ane_yes  \n",
       "count  400.000000  400.000000  400.000000  \n",
       "mean     0.205000    0.190000    0.150000  \n",
       "std      0.404207    0.392792    0.357519  \n",
       "min      0.000000    0.000000    0.000000  \n",
       "25%      0.000000    0.000000    0.000000  \n",
       "50%      0.000000    0.000000    0.000000  \n",
       "75%      0.000000    0.000000    0.000000  \n",
       "max      1.000000    1.000000    1.000000  \n",
       "\n",
       "[8 rows x 24 columns]"
      ]
     },
     "metadata": {},
     "output_type": "display_data"
    }
   ],
   "source": [
    "df1.describe()"
   ]
  },
  {
   "cell_type": "code",
   "execution_count": 122,
   "id": "58480202-34c4-41a9-beea-8677785f1a20",
   "metadata": {},
   "outputs": [
    {
     "ename": "IndexError",
     "evalue": "Requested axis not found in manager",
     "output_type": "error",
     "traceback": [
      "\u001b[1;31m---------------------------------------------------------------------------\u001b[0m",
      "\u001b[1;31mIndexError\u001b[0m                                Traceback (most recent call last)",
      "Cell \u001b[1;32mIn[122], line 1\u001b[0m\n\u001b[1;32m----> 1\u001b[0m sns\u001b[38;5;241m.\u001b[39mboxplot(y\u001b[38;5;241m=\u001b[39m\u001b[38;5;124m'\u001b[39m\u001b[38;5;124mbu\u001b[39m\u001b[38;5;124m'\u001b[39m, data\u001b[38;5;241m=\u001b[39mdf1)\n",
      "File \u001b[1;32m~\\anaconda3\\Lib\\site-packages\\seaborn\\categorical.py:1619\u001b[0m, in \u001b[0;36mboxplot\u001b[1;34m(data, x, y, hue, order, hue_order, orient, color, palette, saturation, fill, dodge, width, gap, whis, linecolor, linewidth, fliersize, hue_norm, native_scale, log_scale, formatter, legend, ax, **kwargs)\u001b[0m\n\u001b[0;32m   1616\u001b[0m \u001b[38;5;28;01mif\u001b[39;00m p\u001b[38;5;241m.\u001b[39mvar_types\u001b[38;5;241m.\u001b[39mget(p\u001b[38;5;241m.\u001b[39morient) \u001b[38;5;241m==\u001b[39m \u001b[38;5;124m\"\u001b[39m\u001b[38;5;124mcategorical\u001b[39m\u001b[38;5;124m\"\u001b[39m \u001b[38;5;129;01mor\u001b[39;00m \u001b[38;5;129;01mnot\u001b[39;00m native_scale:\n\u001b[0;32m   1617\u001b[0m     p\u001b[38;5;241m.\u001b[39mscale_categorical(p\u001b[38;5;241m.\u001b[39morient, order\u001b[38;5;241m=\u001b[39morder, formatter\u001b[38;5;241m=\u001b[39mformatter)\n\u001b[1;32m-> 1619\u001b[0m p\u001b[38;5;241m.\u001b[39m_attach(ax, log_scale\u001b[38;5;241m=\u001b[39mlog_scale)\n\u001b[0;32m   1621\u001b[0m \u001b[38;5;66;03m# Deprecations to remove in v0.14.0.\u001b[39;00m\n\u001b[0;32m   1622\u001b[0m hue_order \u001b[38;5;241m=\u001b[39m p\u001b[38;5;241m.\u001b[39m_palette_without_hue_backcompat(palette, hue_order)\n",
      "File \u001b[1;32m~\\anaconda3\\Lib\\site-packages\\seaborn\\_base.py:1128\u001b[0m, in \u001b[0;36mVectorPlotter._attach\u001b[1;34m(self, obj, allowed_types, log_scale)\u001b[0m\n\u001b[0;32m   1126\u001b[0m \u001b[38;5;66;03m# Now actually update the matplotlib objects to do the conversion we want\u001b[39;00m\n\u001b[0;32m   1127\u001b[0m grouped \u001b[38;5;241m=\u001b[39m \u001b[38;5;28mself\u001b[39m\u001b[38;5;241m.\u001b[39mplot_data[var]\u001b[38;5;241m.\u001b[39mgroupby(\u001b[38;5;28mself\u001b[39m\u001b[38;5;241m.\u001b[39mconverters[var], sort\u001b[38;5;241m=\u001b[39m\u001b[38;5;28;01mFalse\u001b[39;00m)\n\u001b[1;32m-> 1128\u001b[0m \u001b[38;5;28;01mfor\u001b[39;00m converter, seed_data \u001b[38;5;129;01min\u001b[39;00m grouped:\n\u001b[0;32m   1129\u001b[0m     \u001b[38;5;28;01mif\u001b[39;00m \u001b[38;5;28mself\u001b[39m\u001b[38;5;241m.\u001b[39mvar_types[var] \u001b[38;5;241m==\u001b[39m \u001b[38;5;124m\"\u001b[39m\u001b[38;5;124mcategorical\u001b[39m\u001b[38;5;124m\"\u001b[39m:\n\u001b[0;32m   1130\u001b[0m         \u001b[38;5;28;01mif\u001b[39;00m \u001b[38;5;28mself\u001b[39m\u001b[38;5;241m.\u001b[39m_var_ordered[var]:\n",
      "File \u001b[1;32m~\\anaconda3\\Lib\\site-packages\\pandas\\core\\groupby\\ops.py:620\u001b[0m, in \u001b[0;36mBaseGrouper.get_iterator\u001b[1;34m(self, data, axis)\u001b[0m\n\u001b[0;32m    618\u001b[0m splitter \u001b[38;5;241m=\u001b[39m \u001b[38;5;28mself\u001b[39m\u001b[38;5;241m.\u001b[39m_get_splitter(data, axis\u001b[38;5;241m=\u001b[39maxis)\n\u001b[0;32m    619\u001b[0m keys \u001b[38;5;241m=\u001b[39m \u001b[38;5;28mself\u001b[39m\u001b[38;5;241m.\u001b[39mgroup_keys_seq\n\u001b[1;32m--> 620\u001b[0m \u001b[38;5;28;01myield from\u001b[39;00m \u001b[38;5;28mzip\u001b[39m(keys, splitter)\n",
      "File \u001b[1;32m~\\anaconda3\\Lib\\site-packages\\pandas\\core\\groupby\\ops.py:1160\u001b[0m, in \u001b[0;36mDataSplitter.__iter__\u001b[1;34m(self)\u001b[0m\n\u001b[0;32m   1157\u001b[0m starts, ends \u001b[38;5;241m=\u001b[39m lib\u001b[38;5;241m.\u001b[39mgenerate_slices(\u001b[38;5;28mself\u001b[39m\u001b[38;5;241m.\u001b[39m_slabels, \u001b[38;5;28mself\u001b[39m\u001b[38;5;241m.\u001b[39mngroups)\n\u001b[0;32m   1159\u001b[0m \u001b[38;5;28;01mfor\u001b[39;00m start, end \u001b[38;5;129;01min\u001b[39;00m \u001b[38;5;28mzip\u001b[39m(starts, ends):\n\u001b[1;32m-> 1160\u001b[0m     \u001b[38;5;28;01myield\u001b[39;00m \u001b[38;5;28mself\u001b[39m\u001b[38;5;241m.\u001b[39m_chop(sdata, \u001b[38;5;28mslice\u001b[39m(start, end))\n",
      "File \u001b[1;32m~\\anaconda3\\Lib\\site-packages\\pandas\\core\\groupby\\ops.py:1186\u001b[0m, in \u001b[0;36mFrameSplitter._chop\u001b[1;34m(self, sdata, slice_obj)\u001b[0m\n\u001b[0;32m   1180\u001b[0m \u001b[38;5;28;01mdef\u001b[39;00m \u001b[38;5;21m_chop\u001b[39m(\u001b[38;5;28mself\u001b[39m, sdata: DataFrame, slice_obj: \u001b[38;5;28mslice\u001b[39m) \u001b[38;5;241m-\u001b[39m\u001b[38;5;241m>\u001b[39m DataFrame:\n\u001b[0;32m   1181\u001b[0m     \u001b[38;5;66;03m# Fastpath equivalent to:\u001b[39;00m\n\u001b[0;32m   1182\u001b[0m     \u001b[38;5;66;03m# if self.axis == 0:\u001b[39;00m\n\u001b[0;32m   1183\u001b[0m     \u001b[38;5;66;03m#     return sdata.iloc[slice_obj]\u001b[39;00m\n\u001b[0;32m   1184\u001b[0m     \u001b[38;5;66;03m# else:\u001b[39;00m\n\u001b[0;32m   1185\u001b[0m     \u001b[38;5;66;03m#     return sdata.iloc[:, slice_obj]\u001b[39;00m\n\u001b[1;32m-> 1186\u001b[0m     mgr \u001b[38;5;241m=\u001b[39m sdata\u001b[38;5;241m.\u001b[39m_mgr\u001b[38;5;241m.\u001b[39mget_slice(slice_obj, axis\u001b[38;5;241m=\u001b[39m\u001b[38;5;241m1\u001b[39m \u001b[38;5;241m-\u001b[39m \u001b[38;5;28mself\u001b[39m\u001b[38;5;241m.\u001b[39maxis)\n\u001b[0;32m   1187\u001b[0m     df \u001b[38;5;241m=\u001b[39m sdata\u001b[38;5;241m.\u001b[39m_constructor_from_mgr(mgr, axes\u001b[38;5;241m=\u001b[39mmgr\u001b[38;5;241m.\u001b[39maxes)\n\u001b[0;32m   1188\u001b[0m     \u001b[38;5;28;01mreturn\u001b[39;00m df\u001b[38;5;241m.\u001b[39m__finalize__(sdata, method\u001b[38;5;241m=\u001b[39m\u001b[38;5;124m\"\u001b[39m\u001b[38;5;124mgroupby\u001b[39m\u001b[38;5;124m\"\u001b[39m)\n",
      "File \u001b[1;32m~\\anaconda3\\Lib\\site-packages\\pandas\\core\\internals\\managers.py:1978\u001b[0m, in \u001b[0;36mSingleBlockManager.get_slice\u001b[1;34m(self, slobj, axis)\u001b[0m\n\u001b[0;32m   1974\u001b[0m \u001b[38;5;28;01mdef\u001b[39;00m \u001b[38;5;21mget_slice\u001b[39m(\u001b[38;5;28mself\u001b[39m, slobj: \u001b[38;5;28mslice\u001b[39m, axis: AxisInt \u001b[38;5;241m=\u001b[39m \u001b[38;5;241m0\u001b[39m) \u001b[38;5;241m-\u001b[39m\u001b[38;5;241m>\u001b[39m SingleBlockManager:\n\u001b[0;32m   1975\u001b[0m     \u001b[38;5;66;03m# Assertion disabled for performance\u001b[39;00m\n\u001b[0;32m   1976\u001b[0m     \u001b[38;5;66;03m# assert isinstance(slobj, slice), type(slobj)\u001b[39;00m\n\u001b[0;32m   1977\u001b[0m     \u001b[38;5;28;01mif\u001b[39;00m axis \u001b[38;5;241m>\u001b[39m\u001b[38;5;241m=\u001b[39m \u001b[38;5;28mself\u001b[39m\u001b[38;5;241m.\u001b[39mndim:\n\u001b[1;32m-> 1978\u001b[0m         \u001b[38;5;28;01mraise\u001b[39;00m \u001b[38;5;167;01mIndexError\u001b[39;00m(\u001b[38;5;124m\"\u001b[39m\u001b[38;5;124mRequested axis not found in manager\u001b[39m\u001b[38;5;124m\"\u001b[39m)\n\u001b[0;32m   1980\u001b[0m     blk \u001b[38;5;241m=\u001b[39m \u001b[38;5;28mself\u001b[39m\u001b[38;5;241m.\u001b[39m_block\n\u001b[0;32m   1981\u001b[0m     array \u001b[38;5;241m=\u001b[39m blk\u001b[38;5;241m.\u001b[39mvalues[slobj]\n",
      "\u001b[1;31mIndexError\u001b[0m: Requested axis not found in manager"
     ]
    },
    {
     "data": {
      "image/png": "[encoded data removed]",
      "text/plain": [
       "<Figure size 640x480 with 1 Axes>"
      ]
     },
     "metadata": {},
     "output_type": "display_data"
    }
   ],
   "source": [
    "sns.boxplot(y='bu', data=df1)"
   ]
  },
  {
   "cell_type": "code",
   "execution_count": null,
   "id": "7b1a2dc9-37b9-4228-97d2-03c07e00ac25",
   "metadata": {},
   "outputs": [],
   "source": [
    "preprocessing part *******very very important\n",
    "part 1 - missing value treatement done\n",
    "part 2 - encoding part done (char variable only)\n",
    "part 3 - outlier treatement - not required (numerical variable only)\n",
    "part 4 - Feature scaling (normalization or standarization) - depends basis the result\n",
    "part 5 - Imbalance treatement (this is only application with classification problem)\n"
   ]
  },
  {
   "cell_type": "code",
   "execution_count": 123,
   "id": "27948a87-bb73-4c23-8399-4ceaab8d4bed",
   "metadata": {},
   "outputs": [
    {
     "data": {
      "application/vnd.jupyter.widget-view+json": {
       "model_id": "db9a5252e0d444eca9ef18c175a85909",
       "version_major": 2,
       "version_minor": 0
      },
      "text/plain": [
       "Button(description='Toggle Pandas/Lux', layout=Layout(top='5px', width='140px'), style=ButtonStyle())"
      ]
     },
     "metadata": {},
     "output_type": "display_data"
    },
    {
     "data": {
      "application/vnd.jupyter.widget-view+json": {
       "model_id": "6991a1e1fc164a1485d19868ef90f9dc",
       "version_major": 2,
       "version_minor": 0
      },
      "text/plain": [
       "Output()"
      ]
     },
     "metadata": {},
     "output_type": "display_data"
    }
   ],
   "source": [
    "pd.DataFrame(y).value_counts(normalize=True) # normalize=True means instead of counts, it returns the proportion (percentage) of each unique value relative to the total."
   ]
  },
  {
   "cell_type": "code",
   "execution_count": null,
   "id": "ce6b61fe-994e-40ba-83a9-e699ac464204",
   "metadata": {},
   "outputs": [],
   "source": [
    "split the data into train and test"
   ]
  },
  {
   "cell_type": "code",
   "execution_count": 124,
   "id": "82318ffe-a2bb-4011-9821-8dfd8bb41595",
   "metadata": {},
   "outputs": [],
   "source": [
    "from sklearn.model_selection import train_test_split\n",
    "x_train, x_test, y_train, y_test = train_test_split(df1, y, test_size=0.2, random_state=42, stratify=y)"
   ]
  },
  {
   "cell_type": "code",
   "execution_count": 125,
   "id": "492744b8-b9d7-47a9-a339-63c305a9df70",
   "metadata": {},
   "outputs": [
    {
     "data": {
      "application/vnd.jupyter.widget-view+json": {
       "model_id": "2ee8f4eb780c40c09d4a0f56fab116c8",
       "version_major": 2,
       "version_minor": 0
      },
      "text/plain": [
       "Button(description='Toggle Pandas/Lux', layout=Layout(top='5px', width='140px'), style=ButtonStyle())"
      ]
     },
     "metadata": {},
     "output_type": "display_data"
    },
    {
     "data": {
      "application/vnd.jupyter.widget-view+json": {
       "model_id": "61d443098f25498fafceb9ef99365626",
       "version_major": 2,
       "version_minor": 0
      },
      "text/plain": [
       "Output()"
      ]
     },
     "metadata": {},
     "output_type": "display_data"
    }
   ],
   "source": [
    "pd.DataFrame(y_train).value_counts()"
   ]
  },
  {
   "cell_type": "code",
   "execution_count": 126,
   "id": "f60bf00a-3898-49f4-b43a-06fd066cf249",
   "metadata": {},
   "outputs": [
    {
     "data": {
      "application/vnd.jupyter.widget-view+json": {
       "model_id": "79600cfb332c4afd8a849d920954c5a3",
       "version_major": 2,
       "version_minor": 0
      },
      "text/plain": [
       "Button(description='Toggle Pandas/Lux', layout=Layout(top='5px', width='140px'), style=ButtonStyle())"
      ]
     },
     "metadata": {},
     "output_type": "display_data"
    },
    {
     "data": {
      "application/vnd.jupyter.widget-view+json": {
       "model_id": "2c5361f3d6d24bd6a97734584d321d13",
       "version_major": 2,
       "version_minor": 0
      },
      "text/plain": [
       "Output()"
      ]
     },
     "metadata": {},
     "output_type": "display_data"
    }
   ],
   "source": [
    "pd.DataFrame(y_test).value_counts()"
   ]
  },
  {
   "cell_type": "code",
   "execution_count": null,
   "id": "2ed9fcdf-a2c2-4684-a9c1-f2f248db381e",
   "metadata": {},
   "outputs": [],
   "source": [
    "Building ML Algorithm"
   ]
  },
  {
   "cell_type": "code",
   "execution_count": 127,
   "id": "b883d0e4-d302-44ba-bed4-22463fc3869b",
   "metadata": {},
   "outputs": [],
   "source": [
    "from sklearn.linear_model import LogisticRegression\n",
    "from sklearn.tree import DecisionTreeClassifier\n",
    "from sklearn.ensemble import RandomForestClassifier, VotingClassifier\n",
    "from xgboost import XGBClassifier\n",
    "from sklearn.neighbors import KNeighborsClassifier\n",
    "from sklearn.svm import SVC\n",
    "from sklearn.naive_bayes import GaussianNB\n",
    "# evaluation matrics\n",
    "from sklearn.metrics import confusion_matrix, classification_report, accuracy_score"
   ]
  },
  {
   "cell_type": "code",
   "execution_count": 128,
   "id": "d5aa1af3-d399-440e-886a-e7d9490046fb",
   "metadata": {},
   "outputs": [
    {
     "name": "stdout",
     "output_type": "stream",
     "text": [
      "      Method Used  Accuracy\n",
      "0  LogitRegession    0.8375\n",
      "1           Dtree    0.9875\n",
      "2         RForest    1.0000\n",
      "3             XGB    0.9875\n",
      "4             KNN    0.7000\n",
      "5             SVM    0.7125\n",
      "6             NBT    0.9750\n",
      "7          Voting    0.9875\n"
     ]
    },
    {
     "ename": "IndexError",
     "evalue": "Requested axis not found in manager",
     "output_type": "error",
     "traceback": [
      "\u001b[1;31m---------------------------------------------------------------------------\u001b[0m",
      "\u001b[1;31mIndexError\u001b[0m                                Traceback (most recent call last)",
      "Cell \u001b[1;32mIn[128], line 67\u001b[0m\n\u001b[0;32m     63\u001b[0m df_accuracy \u001b[38;5;241m=\u001b[39m pd\u001b[38;5;241m.\u001b[39mDataFrame({\u001b[38;5;124m\"\u001b[39m\u001b[38;5;124mMethod Used\u001b[39m\u001b[38;5;124m\"\u001b[39m:list1, \u001b[38;5;124m\"\u001b[39m\u001b[38;5;124mAccuracy\u001b[39m\u001b[38;5;124m\"\u001b[39m:list2})\n\u001b[0;32m     65\u001b[0m \u001b[38;5;28mprint\u001b[39m(df_accuracy)\n\u001b[1;32m---> 67\u001b[0m chart \u001b[38;5;241m=\u001b[39m sns\u001b[38;5;241m.\u001b[39mbarplot(x\u001b[38;5;241m=\u001b[39m\u001b[38;5;124m\"\u001b[39m\u001b[38;5;124mMethod Used\u001b[39m\u001b[38;5;124m\"\u001b[39m, y\u001b[38;5;241m=\u001b[39m\u001b[38;5;124m\"\u001b[39m\u001b[38;5;124mAccuracy\u001b[39m\u001b[38;5;124m\"\u001b[39m, data\u001b[38;5;241m=\u001b[39mdf_accuracy)\n\u001b[0;32m     68\u001b[0m chart\u001b[38;5;241m.\u001b[39mset_xticklabels(chart\u001b[38;5;241m.\u001b[39mget_xticklabels(), rotation\u001b[38;5;241m=\u001b[39m\u001b[38;5;241m90\u001b[39m)\n\u001b[0;32m     69\u001b[0m \u001b[38;5;28mprint\u001b[39m(chart)\n",
      "File \u001b[1;32m~\\anaconda3\\Lib\\site-packages\\seaborn\\categorical.py:2363\u001b[0m, in \u001b[0;36mbarplot\u001b[1;34m(data, x, y, hue, order, hue_order, estimator, errorbar, n_boot, seed, units, weights, orient, color, palette, saturation, fill, hue_norm, width, dodge, gap, log_scale, native_scale, formatter, legend, capsize, err_kws, ci, errcolor, errwidth, ax, **kwargs)\u001b[0m\n\u001b[0;32m   2360\u001b[0m \u001b[38;5;28;01mif\u001b[39;00m p\u001b[38;5;241m.\u001b[39mvar_types\u001b[38;5;241m.\u001b[39mget(p\u001b[38;5;241m.\u001b[39morient) \u001b[38;5;241m==\u001b[39m \u001b[38;5;124m\"\u001b[39m\u001b[38;5;124mcategorical\u001b[39m\u001b[38;5;124m\"\u001b[39m \u001b[38;5;129;01mor\u001b[39;00m \u001b[38;5;129;01mnot\u001b[39;00m native_scale:\n\u001b[0;32m   2361\u001b[0m     p\u001b[38;5;241m.\u001b[39mscale_categorical(p\u001b[38;5;241m.\u001b[39morient, order\u001b[38;5;241m=\u001b[39morder, formatter\u001b[38;5;241m=\u001b[39mformatter)\n\u001b[1;32m-> 2363\u001b[0m p\u001b[38;5;241m.\u001b[39m_attach(ax, log_scale\u001b[38;5;241m=\u001b[39mlog_scale)\n\u001b[0;32m   2365\u001b[0m \u001b[38;5;66;03m# Deprecations to remove in v0.14.0.\u001b[39;00m\n\u001b[0;32m   2366\u001b[0m hue_order \u001b[38;5;241m=\u001b[39m p\u001b[38;5;241m.\u001b[39m_palette_without_hue_backcompat(palette, hue_order)\n",
      "File \u001b[1;32m~\\anaconda3\\Lib\\site-packages\\seaborn\\_base.py:1128\u001b[0m, in \u001b[0;36mVectorPlotter._attach\u001b[1;34m(self, obj, allowed_types, log_scale)\u001b[0m\n\u001b[0;32m   1126\u001b[0m \u001b[38;5;66;03m# Now actually update the matplotlib objects to do the conversion we want\u001b[39;00m\n\u001b[0;32m   1127\u001b[0m grouped \u001b[38;5;241m=\u001b[39m \u001b[38;5;28mself\u001b[39m\u001b[38;5;241m.\u001b[39mplot_data[var]\u001b[38;5;241m.\u001b[39mgroupby(\u001b[38;5;28mself\u001b[39m\u001b[38;5;241m.\u001b[39mconverters[var], sort\u001b[38;5;241m=\u001b[39m\u001b[38;5;28;01mFalse\u001b[39;00m)\n\u001b[1;32m-> 1128\u001b[0m \u001b[38;5;28;01mfor\u001b[39;00m converter, seed_data \u001b[38;5;129;01min\u001b[39;00m grouped:\n\u001b[0;32m   1129\u001b[0m     \u001b[38;5;28;01mif\u001b[39;00m \u001b[38;5;28mself\u001b[39m\u001b[38;5;241m.\u001b[39mvar_types[var] \u001b[38;5;241m==\u001b[39m \u001b[38;5;124m\"\u001b[39m\u001b[38;5;124mcategorical\u001b[39m\u001b[38;5;124m\"\u001b[39m:\n\u001b[0;32m   1130\u001b[0m         \u001b[38;5;28;01mif\u001b[39;00m \u001b[38;5;28mself\u001b[39m\u001b[38;5;241m.\u001b[39m_var_ordered[var]:\n",
      "File \u001b[1;32m~\\anaconda3\\Lib\\site-packages\\pandas\\core\\groupby\\ops.py:620\u001b[0m, in \u001b[0;36mBaseGrouper.get_iterator\u001b[1;34m(self, data, axis)\u001b[0m\n\u001b[0;32m    618\u001b[0m splitter \u001b[38;5;241m=\u001b[39m \u001b[38;5;28mself\u001b[39m\u001b[38;5;241m.\u001b[39m_get_splitter(data, axis\u001b[38;5;241m=\u001b[39maxis)\n\u001b[0;32m    619\u001b[0m keys \u001b[38;5;241m=\u001b[39m \u001b[38;5;28mself\u001b[39m\u001b[38;5;241m.\u001b[39mgroup_keys_seq\n\u001b[1;32m--> 620\u001b[0m \u001b[38;5;28;01myield from\u001b[39;00m \u001b[38;5;28mzip\u001b[39m(keys, splitter)\n",
      "File \u001b[1;32m~\\anaconda3\\Lib\\site-packages\\pandas\\core\\groupby\\ops.py:1160\u001b[0m, in \u001b[0;36mDataSplitter.__iter__\u001b[1;34m(self)\u001b[0m\n\u001b[0;32m   1157\u001b[0m starts, ends \u001b[38;5;241m=\u001b[39m lib\u001b[38;5;241m.\u001b[39mgenerate_slices(\u001b[38;5;28mself\u001b[39m\u001b[38;5;241m.\u001b[39m_slabels, \u001b[38;5;28mself\u001b[39m\u001b[38;5;241m.\u001b[39mngroups)\n\u001b[0;32m   1159\u001b[0m \u001b[38;5;28;01mfor\u001b[39;00m start, end \u001b[38;5;129;01min\u001b[39;00m \u001b[38;5;28mzip\u001b[39m(starts, ends):\n\u001b[1;32m-> 1160\u001b[0m     \u001b[38;5;28;01myield\u001b[39;00m \u001b[38;5;28mself\u001b[39m\u001b[38;5;241m.\u001b[39m_chop(sdata, \u001b[38;5;28mslice\u001b[39m(start, end))\n",
      "File \u001b[1;32m~\\anaconda3\\Lib\\site-packages\\pandas\\core\\groupby\\ops.py:1186\u001b[0m, in \u001b[0;36mFrameSplitter._chop\u001b[1;34m(self, sdata, slice_obj)\u001b[0m\n\u001b[0;32m   1180\u001b[0m \u001b[38;5;28;01mdef\u001b[39;00m \u001b[38;5;21m_chop\u001b[39m(\u001b[38;5;28mself\u001b[39m, sdata: DataFrame, slice_obj: \u001b[38;5;28mslice\u001b[39m) \u001b[38;5;241m-\u001b[39m\u001b[38;5;241m>\u001b[39m DataFrame:\n\u001b[0;32m   1181\u001b[0m     \u001b[38;5;66;03m# Fastpath equivalent to:\u001b[39;00m\n\u001b[0;32m   1182\u001b[0m     \u001b[38;5;66;03m# if self.axis == 0:\u001b[39;00m\n\u001b[0;32m   1183\u001b[0m     \u001b[38;5;66;03m#     return sdata.iloc[slice_obj]\u001b[39;00m\n\u001b[0;32m   1184\u001b[0m     \u001b[38;5;66;03m# else:\u001b[39;00m\n\u001b[0;32m   1185\u001b[0m     \u001b[38;5;66;03m#     return sdata.iloc[:, slice_obj]\u001b[39;00m\n\u001b[1;32m-> 1186\u001b[0m     mgr \u001b[38;5;241m=\u001b[39m sdata\u001b[38;5;241m.\u001b[39m_mgr\u001b[38;5;241m.\u001b[39mget_slice(slice_obj, axis\u001b[38;5;241m=\u001b[39m\u001b[38;5;241m1\u001b[39m \u001b[38;5;241m-\u001b[39m \u001b[38;5;28mself\u001b[39m\u001b[38;5;241m.\u001b[39maxis)\n\u001b[0;32m   1187\u001b[0m     df \u001b[38;5;241m=\u001b[39m sdata\u001b[38;5;241m.\u001b[39m_constructor_from_mgr(mgr, axes\u001b[38;5;241m=\u001b[39mmgr\u001b[38;5;241m.\u001b[39maxes)\n\u001b[0;32m   1188\u001b[0m     \u001b[38;5;28;01mreturn\u001b[39;00m df\u001b[38;5;241m.\u001b[39m__finalize__(sdata, method\u001b[38;5;241m=\u001b[39m\u001b[38;5;124m\"\u001b[39m\u001b[38;5;124mgroupby\u001b[39m\u001b[38;5;124m\"\u001b[39m)\n",
      "File \u001b[1;32m~\\anaconda3\\Lib\\site-packages\\pandas\\core\\internals\\managers.py:1978\u001b[0m, in \u001b[0;36mSingleBlockManager.get_slice\u001b[1;34m(self, slobj, axis)\u001b[0m\n\u001b[0;32m   1974\u001b[0m \u001b[38;5;28;01mdef\u001b[39;00m \u001b[38;5;21mget_slice\u001b[39m(\u001b[38;5;28mself\u001b[39m, slobj: \u001b[38;5;28mslice\u001b[39m, axis: AxisInt \u001b[38;5;241m=\u001b[39m \u001b[38;5;241m0\u001b[39m) \u001b[38;5;241m-\u001b[39m\u001b[38;5;241m>\u001b[39m SingleBlockManager:\n\u001b[0;32m   1975\u001b[0m     \u001b[38;5;66;03m# Assertion disabled for performance\u001b[39;00m\n\u001b[0;32m   1976\u001b[0m     \u001b[38;5;66;03m# assert isinstance(slobj, slice), type(slobj)\u001b[39;00m\n\u001b[0;32m   1977\u001b[0m     \u001b[38;5;28;01mif\u001b[39;00m axis \u001b[38;5;241m>\u001b[39m\u001b[38;5;241m=\u001b[39m \u001b[38;5;28mself\u001b[39m\u001b[38;5;241m.\u001b[39mndim:\n\u001b[1;32m-> 1978\u001b[0m         \u001b[38;5;28;01mraise\u001b[39;00m \u001b[38;5;167;01mIndexError\u001b[39;00m(\u001b[38;5;124m\"\u001b[39m\u001b[38;5;124mRequested axis not found in manager\u001b[39m\u001b[38;5;124m\"\u001b[39m)\n\u001b[0;32m   1980\u001b[0m     blk \u001b[38;5;241m=\u001b[39m \u001b[38;5;28mself\u001b[39m\u001b[38;5;241m.\u001b[39m_block\n\u001b[0;32m   1981\u001b[0m     array \u001b[38;5;241m=\u001b[39m blk\u001b[38;5;241m.\u001b[39mvalues[slobj]\n",
      "\u001b[1;31mIndexError\u001b[0m: Requested axis not found in manager"
     ]
    },
    {
     "data": {
      "image/png": "[encoded data removed]",
      "text/plain": [
       "<Figure size 640x480 with 1 Axes>"
      ]
     },
     "metadata": {},
     "output_type": "display_data"
    }
   ],
   "source": [
    "list_met = []\n",
    "list_accuracy = []\n",
    "\n",
    "# LogisticRegression\n",
    "logit = LogisticRegression()\n",
    "logit = logit.fit(x_train, y_train)\n",
    "y_pred_lr = logit.predict(x_test)\n",
    "accuracy_lr = accuracy_score(y_test, y_pred_lr)\n",
    "\n",
    "# DecisionTree\n",
    "dtree = DecisionTreeClassifier()\n",
    "dtree = dtree.fit(x_train, y_train)\n",
    "y_pred_dt = dtree.predict(x_test)\n",
    "accuracy_dt = accuracy_score(y_test, y_pred_dt)\n",
    "\n",
    "# RandomForest\n",
    "rforest = RandomForestClassifier()\n",
    "rforest = rforest.fit(x_train, y_train)\n",
    "y_pred_rf = rforest.predict(x_test)\n",
    "accuracy_rf = accuracy_score(y_test, y_pred_rf)\n",
    "\n",
    "# XGBoost\n",
    "xgboost = XGBClassifier()\n",
    "xgboost = xgboost.fit(x_train, y_train)\n",
    "y_pred_xg = xgboost.predict(x_test)\n",
    "accuracy_xg = accuracy_score(y_test, y_pred_xg)\n",
    "\n",
    "# KNN\n",
    "knn = KNeighborsClassifier()\n",
    "knn = knn.fit(x_train, y_train)\n",
    "y_pred_knn = knn.predict(x_test)\n",
    "accuracy_knn = accuracy_score(y_test, y_pred_knn)\n",
    "\n",
    "# KNN\n",
    "knn = KNeighborsClassifier()\n",
    "knn = knn.fit(x_train, y_train)\n",
    "y_pred_knn = knn.predict(x_test)\n",
    "accuracy_knn = accuracy_score(y_test, y_pred_knn)\n",
    "\n",
    "# SVM\n",
    "svm = SVC()\n",
    "svm = svm.fit(x_train, y_train)\n",
    "y_pred_svm = svm.predict(x_test)\n",
    "accuracy_svm = accuracy_score(y_test, y_pred_svm)\n",
    "\n",
    "# Naive Based Theorem\n",
    "nbt = GaussianNB()\n",
    "nbt = nbt.fit(x_train, y_train)\n",
    "y_pred_nbt = nbt.predict(x_test)\n",
    "accuracy_nbt = accuracy_score(y_test, y_pred_nbt)\n",
    "\n",
    "# Voting Classifier - combining all the above model together by using voting classifier approach\n",
    "model_evc = VotingClassifier(estimators = [('logit',logit), ('dtree',dtree), ('rforest',rforest),('xgboost',xgboost),\n",
    "                                           ('knn',knn),('svm',svm),('nbt',nbt)])\n",
    "model_evc = model_evc.fit(x_train, y_train)\n",
    "pred_evc = model_evc.predict(x_test)\n",
    "accuracy_evc = accuracy_score(y_test, pred_evc)\n",
    "\n",
    "list1 = ['LogitRegession','Dtree','RForest','XGB','KNN','SVM','NBT','Voting']\n",
    "list2 = [accuracy_lr,accuracy_dt,accuracy_rf,accuracy_xg,accuracy_knn,accuracy_svm,accuracy_nbt,accuracy_evc]\n",
    "list3 = [logit,dtree,rforest,xgboost,knn,svm,nbt,model_evc]\n",
    "\n",
    "df_accuracy = pd.DataFrame({\"Method Used\":list1, \"Accuracy\":list2})\n",
    "\n",
    "print(df_accuracy)\n",
    "\n",
    "chart = sns.barplot(x=\"Method Used\", y=\"Accuracy\", data=df_accuracy)\n",
    "chart.set_xticklabels(chart.get_xticklabels(), rotation=90)\n",
    "print(chart)                          \n",
    "                               "
   ]
  },
  {
   "cell_type": "code",
   "execution_count": 129,
   "id": "00930f07-55ce-4e85-ae54-6a90eb6f5a87",
   "metadata": {},
   "outputs": [
    {
     "name": "stdout",
     "output_type": "stream",
     "text": [
      "************************\n",
      "Training Accuracy : 1.0\n",
      "************************\n",
      "Testb Accuracy : 0.9875\n"
     ]
    }
   ],
   "source": [
    "# Check underfitting and overfitting problem (high bias or high variance problem)- Bias-Variance Trade off\n",
    "\n",
    "pred_evc_train = model_evc.predict(x_train)\n",
    "pred_evc_test = model_evc.predict(x_test)\n",
    "accuracy_evc_train = accuracy_score(y_train, pred_evc_train)\n",
    "accuracy_evc_test = accuracy_score(y_test, pred_evc_test)\n",
    "\n",
    "print(\"************************\")\n",
    "print(\"Training Accuracy :\",accuracy_evc_train)\n",
    "print(\"************************\")\n",
    "print(\"Testb Accuracy :\",accuracy_evc_test)"
   ]
  },
  {
   "cell_type": "code",
   "execution_count": 130,
   "id": "82f8a626-1f34-43ae-845a-85e5ced9f879",
   "metadata": {},
   "outputs": [
    {
     "name": "stdout",
     "output_type": "stream",
     "text": [
      "Training Accuracy : 0.9875\n",
      "***************\n",
      "Testb Accuracy : 0.9875\n"
     ]
    }
   ],
   "source": [
    "from sklearn.model_selection import cross_val_score\n",
    "training = cross_val_score(model_evc, x_train, y_train, cv=10)\n",
    "print(\"Training Accuracy :\", training.mean())\n",
    "print(\"***************\")\n",
    "print(\"Testb Accuracy :\",accuracy_evc_test)"
   ]
  },
  {
   "cell_type": "code",
   "execution_count": 131,
   "id": "ef62b7e3-188d-458d-af41-e5267186f8e9",
   "metadata": {},
   "outputs": [
    {
     "data": {
      "text/plain": [
       "array([1.     , 0.9375 , 1.     , 0.96875, 1.     , 1.     , 0.96875,\n",
       "       1.     , 1.     , 1.     ])"
      ]
     },
     "execution_count": 131,
     "metadata": {},
     "output_type": "execute_result"
    }
   ],
   "source": [
    "training"
   ]
  },
  {
   "cell_type": "code",
   "execution_count": 132,
   "id": "12e772bb-2244-443c-80e0-7b71a25edbde",
   "metadata": {},
   "outputs": [
    {
     "name": "stdout",
     "output_type": "stream",
     "text": [
      "************************\n",
      "Training Accuracy :               precision    recall  f1-score   support\n",
      "\n",
      "           0       1.00      1.00      1.00       120\n",
      "           1       1.00      1.00      1.00       200\n",
      "\n",
      "    accuracy                           1.00       320\n",
      "   macro avg       1.00      1.00      1.00       320\n",
      "weighted avg       1.00      1.00      1.00       320\n",
      "\n",
      "************************\n",
      "Testb Accuracy :               precision    recall  f1-score   support\n",
      "\n",
      "           0       0.97      1.00      0.98        30\n",
      "           1       1.00      0.98      0.99        50\n",
      "\n",
      "    accuracy                           0.99        80\n",
      "   macro avg       0.98      0.99      0.99        80\n",
      "weighted avg       0.99      0.99      0.99        80\n",
      "\n"
     ]
    }
   ],
   "source": [
    "print(\"************************\")\n",
    "print(\"Training Accuracy :\",classification_report(y_train, pred_evc_train))\n",
    "print(\"************************\")\n",
    "print(\"Testb Accuracy :\",classification_report(y_test, pred_evc_test))"
   ]
  },
  {
   "cell_type": "code",
   "execution_count": 133,
   "id": "c819eea8-47af-4b8c-8178-ca2eda98397a",
   "metadata": {},
   "outputs": [
    {
     "name": "stdout",
     "output_type": "stream",
     "text": [
      "************************\n",
      "[[120   0]\n",
      " [  0 200]]\n",
      "************************\n",
      "[[30  0]\n",
      " [ 1 49]]\n"
     ]
    }
   ],
   "source": [
    "print(\"************************\")\n",
    "print(confusion_matrix(y_train, pred_evc_train))\n",
    "print(\"************************\")\n",
    "print(confusion_matrix(y_test, pred_evc_test))"
   ]
  },
  {
   "cell_type": "code",
   "execution_count": null,
   "id": "347d2b61-862a-41b0-924b-0721d37abdb3",
   "metadata": {},
   "outputs": [],
   "source": []
  },
  {
   "cell_type": "code",
   "execution_count": null,
   "id": "fa2816f7-43ba-4278-bd7c-5a24a3ae6a70",
   "metadata": {},
   "outputs": [],
   "source": []
  },
  {
   "cell_type": "code",
   "execution_count": null,
   "id": "76d82cce-c310-4303-a257-9eba434abf01",
   "metadata": {},
   "outputs": [],
   "source": []
  },
  {
   "cell_type": "code",
   "execution_count": null,
   "id": "d6602ba2-6202-401b-ba4a-d938559dd41b",
   "metadata": {},
   "outputs": [],
   "source": []
  },
  {
   "cell_type": "code",
   "execution_count": null,
   "id": "d5e130fc-4708-4845-9d37-50ac8aafb941",
   "metadata": {},
   "outputs": [],
   "source": []
  },
  {
   "cell_type": "code",
   "execution_count": null,
   "id": "1faac255-ab9c-4ee0-8230-98defd73ebe7",
   "metadata": {},
   "outputs": [],
   "source": []
  }
 ],
 "metadata": {
  "kernelspec": {
   "display_name": "Python [conda env:base] *",
   "language": "python",
   "name": "conda-base-py"
  },
  "language_info": {
   "codemirror_mode": {
    "name": "ipython",
    "version": 3
   },
   "file_extension": ".py",
   "mimetype": "text/x-python",
   "name": "python",
   "nbconvert_exporter": "python",
   "pygments_lexer": "ipython3",
   "version": "3.12.7"
  }
 },
 "nbformat": 4,
 "nbformat_minor": 5
}
